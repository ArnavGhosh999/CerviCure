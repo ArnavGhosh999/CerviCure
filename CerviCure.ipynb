{
  "cells": [
    {
      "cell_type": "code",
      "execution_count": 1,
      "metadata": {
        "colab": {
          "base_uri": "https://localhost:8080/"
        },
        "id": "glDaMxIjag-V",
        "outputId": "75b254db-528f-4a62-ab6f-33d48efeb402"
      },
      "outputs": [
        {
          "output_type": "stream",
          "name": "stdout",
          "text": [
            "Tue Sep 24 07:40:19 2024       \n",
            "+---------------------------------------------------------------------------------------+\n",
            "| NVIDIA-SMI 535.104.05             Driver Version: 535.104.05   CUDA Version: 12.2     |\n",
            "|-----------------------------------------+----------------------+----------------------+\n",
            "| GPU  Name                 Persistence-M | Bus-Id        Disp.A | Volatile Uncorr. ECC |\n",
            "| Fan  Temp   Perf          Pwr:Usage/Cap |         Memory-Usage | GPU-Util  Compute M. |\n",
            "|                                         |                      |               MIG M. |\n",
            "|=========================================+======================+======================|\n",
            "|   0  Tesla T4                       Off | 00000000:00:04.0 Off |                    0 |\n",
            "| N/A   52C    P8              11W /  70W |      0MiB / 15360MiB |      0%      Default |\n",
            "|                                         |                      |                  N/A |\n",
            "+-----------------------------------------+----------------------+----------------------+\n",
            "                                                                                         \n",
            "+---------------------------------------------------------------------------------------+\n",
            "| Processes:                                                                            |\n",
            "|  GPU   GI   CI        PID   Type   Process name                            GPU Memory |\n",
            "|        ID   ID                                                             Usage      |\n",
            "|=======================================================================================|\n",
            "|  No running processes found                                                           |\n",
            "+---------------------------------------------------------------------------------------+\n"
          ]
        }
      ],
      "source": [
        "!nvidia-smi"
      ]
    },
    {
      "cell_type": "code",
      "execution_count": 2,
      "metadata": {
        "colab": {
          "base_uri": "https://localhost:8080/"
        },
        "id": "4E9uMXxue3JO",
        "outputId": "ec3fbf8d-44e9-4669-d3d2-f15878500eaa"
      },
      "outputs": [
        {
          "output_type": "stream",
          "name": "stdout",
          "text": [
            "Ultralytics YOLOv8.2.100 🚀 Python-3.10.12 torch-2.4.1+cu121 CUDA:0 (Tesla T4, 15102MiB)\n",
            "Setup complete ✅ (8 CPUs, 51.0 GB RAM, 32.6/235.7 GB disk)\n"
          ]
        }
      ],
      "source": [
        "!pip install ultralytics\n",
        "\n",
        "from IPython import display\n",
        "display.clear_output()\n",
        "\n",
        "import ultralytics\n",
        "ultralytics.checks()"
      ]
    },
    {
      "cell_type": "code",
      "execution_count": 3,
      "metadata": {
        "colab": {
          "base_uri": "https://localhost:8080/"
        },
        "id": "H1stVXJ_2Ggu",
        "outputId": "c2ea6b6b-a02c-4e59-b481-3761d6cca4ae"
      },
      "outputs": [
        {
          "output_type": "stream",
          "name": "stdout",
          "text": [
            "Mounted at /content/drive\n"
          ]
        }
      ],
      "source": [
        "from google.colab import drive\n",
        "drive.mount('/content/drive')"
      ]
    },
    {
      "cell_type": "code",
      "execution_count": 4,
      "metadata": {
        "colab": {
          "base_uri": "https://localhost:8080/"
        },
        "id": "mYi-IyxBiF4d",
        "outputId": "dbf83c00-4a2d-4798-c483-1dc5301f71cb"
      },
      "outputs": [
        {
          "output_type": "stream",
          "name": "stdout",
          "text": [
            "drive\n"
          ]
        }
      ],
      "source": [
        "!ls\n"
      ]
    },
    {
      "cell_type": "code",
      "execution_count": 5,
      "metadata": {
        "colab": {
          "base_uri": "https://localhost:8080/"
        },
        "id": "0nvUiJcxGqg0",
        "outputId": "37d02861-1459-406b-cdda-635d8eabe510"
      },
      "outputs": [
        {
          "output_type": "stream",
          "name": "stdout",
          "text": [
            "/content/drive/MyDrive/CerviCure.v2i.yolov8\n",
            "Ultralytics YOLOv8.2.100 🚀 Python-3.10.12 torch-2.4.1+cu121 CUDA:0 (Tesla T4, 15102MiB)\n",
            "\u001b[34m\u001b[1mengine/trainer: \u001b[0mtask=detect, mode=train, model=yolov8m.pt, data=data.yaml, epochs=20, time=None, patience=100, batch=16, imgsz=640, save=True, save_period=-1, cache=False, device=None, workers=8, project=None, name=train8, exist_ok=False, pretrained=True, optimizer=Adam, verbose=True, seed=0, deterministic=True, single_cls=False, rect=False, cos_lr=False, close_mosaic=10, resume=False, amp=True, fraction=1.0, profile=False, freeze=None, multi_scale=False, overlap_mask=True, mask_ratio=4, dropout=0.0, val=True, split=val, save_json=False, save_hybrid=False, conf=None, iou=0.7, max_det=300, half=False, dnn=False, plots=True, source=None, vid_stride=1, stream_buffer=False, visualize=False, augment=False, agnostic_nms=False, classes=None, retina_masks=False, embed=None, show=False, save_frames=False, save_txt=False, save_conf=False, save_crop=False, show_labels=True, show_conf=True, show_boxes=True, line_width=None, format=torchscript, keras=False, optimize=False, int8=False, dynamic=False, simplify=True, opset=None, workspace=4, nms=False, lr0=0.001, lrf=0.01, momentum=0.937, weight_decay=0.0005, warmup_epochs=3.0, warmup_momentum=0.8, warmup_bias_lr=0.1, box=7.5, cls=0.5, dfl=1.5, pose=12.0, kobj=1.0, label_smoothing=0.0, nbs=64, hsv_h=0.015, hsv_s=0.7, hsv_v=0.4, degrees=0.0, translate=0.1, scale=0.5, shear=0.0, perspective=0.0, flipud=0.0, fliplr=0.5, bgr=0.0, mosaic=1.0, mixup=0.0, copy_paste=0.0, auto_augment=randaugment, erasing=0.4, crop_fraction=1.0, cfg=None, tracker=botsort.yaml, save_dir=runs/detect/train8\n",
            "Downloading https://ultralytics.com/assets/Arial.ttf to '/root/.config/Ultralytics/Arial.ttf'...\n"
          ]
        },
        {
          "output_type": "stream",
          "name": "stderr",
          "text": [
            "100%|██████████| 755k/755k [00:00<00:00, 111MB/s]\n"
          ]
        },
        {
          "output_type": "stream",
          "name": "stdout",
          "text": [
            "Overriding model.yaml nc=80 with nc=9\n",
            "\n",
            "                   from  n    params  module                                       arguments                     \n",
            "  0                  -1  1      1392  ultralytics.nn.modules.conv.Conv             [3, 48, 3, 2]                 \n",
            "  1                  -1  1     41664  ultralytics.nn.modules.conv.Conv             [48, 96, 3, 2]                \n",
            "  2                  -1  2    111360  ultralytics.nn.modules.block.C2f             [96, 96, 2, True]             \n",
            "  3                  -1  1    166272  ultralytics.nn.modules.conv.Conv             [96, 192, 3, 2]               \n",
            "  4                  -1  4    813312  ultralytics.nn.modules.block.C2f             [192, 192, 4, True]           \n",
            "  5                  -1  1    664320  ultralytics.nn.modules.conv.Conv             [192, 384, 3, 2]              \n",
            "  6                  -1  4   3248640  ultralytics.nn.modules.block.C2f             [384, 384, 4, True]           \n",
            "  7                  -1  1   1991808  ultralytics.nn.modules.conv.Conv             [384, 576, 3, 2]              \n",
            "  8                  -1  2   3985920  ultralytics.nn.modules.block.C2f             [576, 576, 2, True]           \n",
            "  9                  -1  1    831168  ultralytics.nn.modules.block.SPPF            [576, 576, 5]                 \n",
            " 10                  -1  1         0  torch.nn.modules.upsampling.Upsample         [None, 2, 'nearest']          \n",
            " 11             [-1, 6]  1         0  ultralytics.nn.modules.conv.Concat           [1]                           \n",
            " 12                  -1  2   1993728  ultralytics.nn.modules.block.C2f             [960, 384, 2]                 \n",
            " 13                  -1  1         0  torch.nn.modules.upsampling.Upsample         [None, 2, 'nearest']          \n",
            " 14             [-1, 4]  1         0  ultralytics.nn.modules.conv.Concat           [1]                           \n",
            " 15                  -1  2    517632  ultralytics.nn.modules.block.C2f             [576, 192, 2]                 \n",
            " 16                  -1  1    332160  ultralytics.nn.modules.conv.Conv             [192, 192, 3, 2]              \n",
            " 17            [-1, 12]  1         0  ultralytics.nn.modules.conv.Concat           [1]                           \n",
            " 18                  -1  2   1846272  ultralytics.nn.modules.block.C2f             [576, 384, 2]                 \n",
            " 19                  -1  1   1327872  ultralytics.nn.modules.conv.Conv             [384, 384, 3, 2]              \n",
            " 20             [-1, 9]  1         0  ultralytics.nn.modules.conv.Concat           [1]                           \n",
            " 21                  -1  2   4207104  ultralytics.nn.modules.block.C2f             [960, 576, 2]                 \n",
            " 22        [15, 18, 21]  1   3780907  ultralytics.nn.modules.head.Detect           [9, [192, 384, 576]]          \n",
            "Model summary: 295 layers, 25,861,531 parameters, 25,861,515 gradients, 79.1 GFLOPs\n",
            "\n",
            "Transferred 469/475 items from pretrained weights\n",
            "\u001b[34m\u001b[1mTensorBoard: \u001b[0mStart with 'tensorboard --logdir runs/detect/train8', view at http://localhost:6006/\n",
            "Freezing layer 'model.22.dfl.conv.weight'\n",
            "\u001b[34m\u001b[1mAMP: \u001b[0mrunning Automatic Mixed Precision (AMP) checks with YOLOv8n...\n",
            "\u001b[34m\u001b[1mAMP: \u001b[0mchecks passed ✅\n"
          ]
        },
        {
          "output_type": "stream",
          "name": "stderr",
          "text": [
            "\u001b[34m\u001b[1mtrain: \u001b[0mScanning /content/drive/MyDrive/CerviCure.v2i.yolov8/train/labels.cache... 2923 images, 27 backgrounds, 0 corrupt: 100%|██████████| 2933/2933 [00:00<?, ?it/s]"
          ]
        },
        {
          "output_type": "stream",
          "name": "stdout",
          "text": [
            "\u001b[34m\u001b[1mtrain: \u001b[0mWARNING ⚠️ /content/drive/MyDrive/CerviCure.v2i.yolov8/train/images/097_02_bmp.rf.5e19fa1f1b0e27b7fa4c651f1f0ee4c5.jpg: 1 duplicate labels removed\n",
            "\u001b[34m\u001b[1mtrain: \u001b[0mWARNING ⚠️ /content/drive/MyDrive/CerviCure.v2i.yolov8/train/images/259_01_bmp.rf.08b99bda38959dfb4a1902e2c29041b2.jpg: 1 duplicate labels removed\n"
          ]
        },
        {
          "output_type": "stream",
          "name": "stderr",
          "text": [
            "\n"
          ]
        },
        {
          "output_type": "stream",
          "name": "stdout",
          "text": [
            "\u001b[34m\u001b[1malbumentations: \u001b[0mBlur(p=0.01, blur_limit=(3, 7)), MedianBlur(p=0.01, blur_limit=(3, 7)), ToGray(p=0.01, num_output_channels=3, method='weighted_average'), CLAHE(p=0.01, clip_limit=(1, 4.0), tile_grid_size=(8, 8))\n"
          ]
        },
        {
          "output_type": "stream",
          "name": "stderr",
          "text": [
            "/usr/local/lib/python3.10/dist-packages/albumentations/__init__.py:13: UserWarning: A new version of Albumentations is available: 1.4.16 (you have 1.4.15). Upgrade using: pip install -U albumentations. To disable automatic update checks, set the environment variable NO_ALBUMENTATIONS_UPDATE to 1.\n",
            "  check_for_updates()\n",
            "/usr/lib/python3.10/multiprocessing/popen_fork.py:66: RuntimeWarning: os.fork() was called. os.fork() is incompatible with multithreaded code, and JAX is multithreaded, so this will likely lead to a deadlock.\n",
            "  self.pid = os.fork()\n",
            "\u001b[34m\u001b[1mval: \u001b[0mScanning /content/drive/MyDrive/CerviCure.v2i.yolov8/valid/labels.cache... 835 images, 4 backgrounds, 0 corrupt: 100%|██████████| 835/835 [00:00<?, ?it/s]"
          ]
        },
        {
          "output_type": "stream",
          "name": "stdout",
          "text": [
            "\u001b[34m\u001b[1mval: \u001b[0mWARNING ⚠️ /content/drive/MyDrive/CerviCure.v2i.yolov8/valid/images/101_04_bmp.rf.235f6229fc65f2b2ed625672ef667f14.jpg: 1 duplicate labels removed\n"
          ]
        },
        {
          "output_type": "stream",
          "name": "stderr",
          "text": [
            "\n"
          ]
        },
        {
          "output_type": "stream",
          "name": "stdout",
          "text": [
            "Plotting labels to runs/detect/train8/labels.jpg... \n",
            "\u001b[34m\u001b[1moptimizer:\u001b[0m Adam(lr=0.001, momentum=0.937) with parameter groups 77 weight(decay=0.0), 84 weight(decay=0.0005), 83 bias(decay=0.0)\n",
            "\u001b[34m\u001b[1mTensorBoard: \u001b[0mmodel graph visualization added ✅\n",
            "Image sizes 640 train, 640 val\n",
            "Using 8 dataloader workers\n",
            "Logging results to \u001b[1mruns/detect/train8\u001b[0m\n",
            "Starting training for 20 epochs...\n",
            "\n",
            "      Epoch    GPU_mem   box_loss   cls_loss   dfl_loss  Instances       Size\n"
          ]
        },
        {
          "output_type": "stream",
          "name": "stderr",
          "text": [
            "       1/20      6.79G     0.7104      1.618       1.34         13        640: 100%|██████████| 184/184 [02:42<00:00,  1.13it/s]\n",
            "                 Class     Images  Instances      Box(P          R      mAP50  mAP50-95): 100%|██████████| 27/27 [00:49<00:00,  1.82s/it]"
          ]
        },
        {
          "output_type": "stream",
          "name": "stdout",
          "text": [
            "                   all        835       1561      0.317       0.65      0.453      0.356\n"
          ]
        },
        {
          "output_type": "stream",
          "name": "stderr",
          "text": [
            "\n"
          ]
        },
        {
          "output_type": "stream",
          "name": "stdout",
          "text": [
            "\n",
            "      Epoch    GPU_mem   box_loss   cls_loss   dfl_loss  Instances       Size\n"
          ]
        },
        {
          "output_type": "stream",
          "name": "stderr",
          "text": [
            "       2/20      6.79G     0.6792      1.319      1.304         17        640: 100%|██████████| 184/184 [01:32<00:00,  1.98it/s]\n",
            "                 Class     Images  Instances      Box(P          R      mAP50  mAP50-95): 100%|██████████| 27/27 [00:11<00:00,  2.41it/s]"
          ]
        },
        {
          "output_type": "stream",
          "name": "stdout",
          "text": [
            "                   all        835       1561       0.53      0.499      0.404       0.28\n"
          ]
        },
        {
          "output_type": "stream",
          "name": "stderr",
          "text": [
            "\n"
          ]
        },
        {
          "output_type": "stream",
          "name": "stdout",
          "text": [
            "\n",
            "      Epoch    GPU_mem   box_loss   cls_loss   dfl_loss  Instances       Size\n"
          ]
        },
        {
          "output_type": "stream",
          "name": "stderr",
          "text": [
            "       3/20      6.85G     0.6346      1.206      1.294         10        640: 100%|██████████| 184/184 [01:32<00:00,  2.00it/s]\n",
            "                 Class     Images  Instances      Box(P          R      mAP50  mAP50-95): 100%|██████████| 27/27 [00:11<00:00,  2.41it/s]\n"
          ]
        },
        {
          "output_type": "stream",
          "name": "stdout",
          "text": [
            "                   all        835       1561      0.578      0.597      0.531      0.396\n",
            "\n",
            "      Epoch    GPU_mem   box_loss   cls_loss   dfl_loss  Instances       Size\n"
          ]
        },
        {
          "output_type": "stream",
          "name": "stderr",
          "text": [
            "       4/20      6.92G     0.6581      1.178       1.29         16        640: 100%|██████████| 184/184 [01:31<00:00,  2.00it/s]\n",
            "                 Class     Images  Instances      Box(P          R      mAP50  mAP50-95): 100%|██████████| 27/27 [00:11<00:00,  2.39it/s]"
          ]
        },
        {
          "output_type": "stream",
          "name": "stdout",
          "text": [
            "                   all        835       1561      0.583      0.605      0.587      0.459\n"
          ]
        },
        {
          "output_type": "stream",
          "name": "stderr",
          "text": [
            "\n"
          ]
        },
        {
          "output_type": "stream",
          "name": "stdout",
          "text": [
            "\n",
            "      Epoch    GPU_mem   box_loss   cls_loss   dfl_loss  Instances       Size\n"
          ]
        },
        {
          "output_type": "stream",
          "name": "stderr",
          "text": [
            "       5/20       6.9G     0.6251      1.119      1.281         15        640: 100%|██████████| 184/184 [01:31<00:00,  2.01it/s]\n",
            "                 Class     Images  Instances      Box(P          R      mAP50  mAP50-95): 100%|██████████| 27/27 [00:11<00:00,  2.42it/s]"
          ]
        },
        {
          "output_type": "stream",
          "name": "stdout",
          "text": [
            "                   all        835       1561      0.642      0.631      0.597      0.478\n"
          ]
        },
        {
          "output_type": "stream",
          "name": "stderr",
          "text": [
            "\n"
          ]
        },
        {
          "output_type": "stream",
          "name": "stdout",
          "text": [
            "\n",
            "      Epoch    GPU_mem   box_loss   cls_loss   dfl_loss  Instances       Size\n"
          ]
        },
        {
          "output_type": "stream",
          "name": "stderr",
          "text": [
            "       6/20      6.86G     0.5939      1.067      1.262         17        640: 100%|██████████| 184/184 [01:31<00:00,  2.01it/s]\n",
            "                 Class     Images  Instances      Box(P          R      mAP50  mAP50-95): 100%|██████████| 27/27 [00:11<00:00,  2.41it/s]"
          ]
        },
        {
          "output_type": "stream",
          "name": "stdout",
          "text": [
            "                   all        835       1561      0.543      0.649      0.583       0.46\n"
          ]
        },
        {
          "output_type": "stream",
          "name": "stderr",
          "text": [
            "\n"
          ]
        },
        {
          "output_type": "stream",
          "name": "stdout",
          "text": [
            "\n",
            "      Epoch    GPU_mem   box_loss   cls_loss   dfl_loss  Instances       Size\n"
          ]
        },
        {
          "output_type": "stream",
          "name": "stderr",
          "text": [
            "       7/20      6.88G     0.6308      1.033      1.277         17        640: 100%|██████████| 184/184 [01:31<00:00,  2.00it/s]\n",
            "                 Class     Images  Instances      Box(P          R      mAP50  mAP50-95): 100%|██████████| 27/27 [00:11<00:00,  2.41it/s]"
          ]
        },
        {
          "output_type": "stream",
          "name": "stdout",
          "text": [
            "                   all        835       1561      0.621      0.684      0.598      0.469\n"
          ]
        },
        {
          "output_type": "stream",
          "name": "stderr",
          "text": [
            "\n"
          ]
        },
        {
          "output_type": "stream",
          "name": "stdout",
          "text": [
            "\n",
            "      Epoch    GPU_mem   box_loss   cls_loss   dfl_loss  Instances       Size\n"
          ]
        },
        {
          "output_type": "stream",
          "name": "stderr",
          "text": [
            "       8/20      6.91G     0.6134      1.004      1.264         46        640: 100%|██████████| 184/184 [01:31<00:00,  2.01it/s]\n",
            "                 Class     Images  Instances      Box(P          R      mAP50  mAP50-95): 100%|██████████| 27/27 [00:11<00:00,  2.42it/s]"
          ]
        },
        {
          "output_type": "stream",
          "name": "stdout",
          "text": [
            "                   all        835       1561       0.65      0.684      0.645      0.513\n"
          ]
        },
        {
          "output_type": "stream",
          "name": "stderr",
          "text": [
            "\n"
          ]
        },
        {
          "output_type": "stream",
          "name": "stdout",
          "text": [
            "\n",
            "      Epoch    GPU_mem   box_loss   cls_loss   dfl_loss  Instances       Size\n"
          ]
        },
        {
          "output_type": "stream",
          "name": "stderr",
          "text": [
            "       9/20      6.95G     0.5713     0.9463      1.238         16        640: 100%|██████████| 184/184 [01:31<00:00,  2.01it/s]\n",
            "                 Class     Images  Instances      Box(P          R      mAP50  mAP50-95): 100%|██████████| 27/27 [00:11<00:00,  2.41it/s]"
          ]
        },
        {
          "output_type": "stream",
          "name": "stdout",
          "text": [
            "                   all        835       1561       0.67      0.634      0.629      0.499\n"
          ]
        },
        {
          "output_type": "stream",
          "name": "stderr",
          "text": [
            "\n"
          ]
        },
        {
          "output_type": "stream",
          "name": "stdout",
          "text": [
            "\n",
            "      Epoch    GPU_mem   box_loss   cls_loss   dfl_loss  Instances       Size\n"
          ]
        },
        {
          "output_type": "stream",
          "name": "stderr",
          "text": [
            "      10/20       6.9G     0.5654     0.9286      1.236         13        640: 100%|██████████| 184/184 [01:31<00:00,  2.00it/s]\n",
            "                 Class     Images  Instances      Box(P          R      mAP50  mAP50-95): 100%|██████████| 27/27 [00:11<00:00,  2.43it/s]"
          ]
        },
        {
          "output_type": "stream",
          "name": "stdout",
          "text": [
            "                   all        835       1561      0.674      0.673      0.639      0.523\n"
          ]
        },
        {
          "output_type": "stream",
          "name": "stderr",
          "text": [
            "\n"
          ]
        },
        {
          "output_type": "stream",
          "name": "stdout",
          "text": [
            "Closing dataloader mosaic\n",
            "\u001b[34m\u001b[1malbumentations: \u001b[0mBlur(p=0.01, blur_limit=(3, 7)), MedianBlur(p=0.01, blur_limit=(3, 7)), ToGray(p=0.01, num_output_channels=3, method='weighted_average'), CLAHE(p=0.01, clip_limit=(1, 4.0), tile_grid_size=(8, 8))\n"
          ]
        },
        {
          "output_type": "stream",
          "name": "stderr",
          "text": [
            "/usr/lib/python3.10/multiprocessing/popen_fork.py:66: RuntimeWarning: os.fork() was called. os.fork() is incompatible with multithreaded code, and JAX is multithreaded, so this will likely lead to a deadlock.\n",
            "  self.pid = os.fork()\n"
          ]
        },
        {
          "output_type": "stream",
          "name": "stdout",
          "text": [
            "\n",
            "      Epoch    GPU_mem   box_loss   cls_loss   dfl_loss  Instances       Size\n"
          ]
        },
        {
          "output_type": "stream",
          "name": "stderr",
          "text": [
            "      11/20      6.87G     0.5346     0.9289      1.304          6        640: 100%|██████████| 184/184 [01:32<00:00,  2.00it/s]\n",
            "                 Class     Images  Instances      Box(P          R      mAP50  mAP50-95): 100%|██████████| 27/27 [00:11<00:00,  2.41it/s]"
          ]
        },
        {
          "output_type": "stream",
          "name": "stdout",
          "text": [
            "                   all        835       1561      0.591       0.74      0.697      0.559\n"
          ]
        },
        {
          "output_type": "stream",
          "name": "stderr",
          "text": [
            "\n"
          ]
        },
        {
          "output_type": "stream",
          "name": "stdout",
          "text": [
            "\n",
            "      Epoch    GPU_mem   box_loss   cls_loss   dfl_loss  Instances       Size\n"
          ]
        },
        {
          "output_type": "stream",
          "name": "stderr",
          "text": [
            "      12/20      6.98G     0.5307     0.8478      1.301          5        640: 100%|██████████| 184/184 [01:31<00:00,  2.02it/s]\n",
            "                 Class     Images  Instances      Box(P          R      mAP50  mAP50-95): 100%|██████████| 27/27 [00:11<00:00,  2.43it/s]"
          ]
        },
        {
          "output_type": "stream",
          "name": "stdout",
          "text": [
            "                   all        835       1561      0.674      0.658      0.645      0.525\n"
          ]
        },
        {
          "output_type": "stream",
          "name": "stderr",
          "text": [
            "\n"
          ]
        },
        {
          "output_type": "stream",
          "name": "stdout",
          "text": [
            "\n",
            "      Epoch    GPU_mem   box_loss   cls_loss   dfl_loss  Instances       Size\n"
          ]
        },
        {
          "output_type": "stream",
          "name": "stderr",
          "text": [
            "      13/20      6.86G     0.5226     0.8176      1.289          6        640: 100%|██████████| 184/184 [01:31<00:00,  2.01it/s]\n",
            "                 Class     Images  Instances      Box(P          R      mAP50  mAP50-95): 100%|██████████| 27/27 [00:11<00:00,  2.44it/s]"
          ]
        },
        {
          "output_type": "stream",
          "name": "stdout",
          "text": [
            "                   all        835       1561      0.624      0.716       0.66      0.537\n"
          ]
        },
        {
          "output_type": "stream",
          "name": "stderr",
          "text": [
            "\n"
          ]
        },
        {
          "output_type": "stream",
          "name": "stdout",
          "text": [
            "\n",
            "      Epoch    GPU_mem   box_loss   cls_loss   dfl_loss  Instances       Size\n"
          ]
        },
        {
          "output_type": "stream",
          "name": "stderr",
          "text": [
            "      14/20      6.87G     0.5197     0.7842      1.281          5        640: 100%|██████████| 184/184 [01:31<00:00,  2.02it/s]\n",
            "                 Class     Images  Instances      Box(P          R      mAP50  mAP50-95): 100%|██████████| 27/27 [00:11<00:00,  2.43it/s]"
          ]
        },
        {
          "output_type": "stream",
          "name": "stdout",
          "text": [
            "                   all        835       1561      0.709        0.7      0.693      0.568\n"
          ]
        },
        {
          "output_type": "stream",
          "name": "stderr",
          "text": [
            "\n"
          ]
        },
        {
          "output_type": "stream",
          "name": "stdout",
          "text": [
            "\n",
            "      Epoch    GPU_mem   box_loss   cls_loss   dfl_loss  Instances       Size\n"
          ]
        },
        {
          "output_type": "stream",
          "name": "stderr",
          "text": [
            "      15/20      6.86G     0.5135     0.7792      1.297          5        640: 100%|██████████| 184/184 [01:31<00:00,  2.02it/s]\n",
            "                 Class     Images  Instances      Box(P          R      mAP50  mAP50-95): 100%|██████████| 27/27 [00:11<00:00,  2.42it/s]"
          ]
        },
        {
          "output_type": "stream",
          "name": "stdout",
          "text": [
            "                   all        835       1561      0.663      0.711      0.675      0.551\n"
          ]
        },
        {
          "output_type": "stream",
          "name": "stderr",
          "text": [
            "\n"
          ]
        },
        {
          "output_type": "stream",
          "name": "stdout",
          "text": [
            "\n",
            "      Epoch    GPU_mem   box_loss   cls_loss   dfl_loss  Instances       Size\n"
          ]
        },
        {
          "output_type": "stream",
          "name": "stderr",
          "text": [
            "      16/20      6.86G     0.5007     0.7351      1.286          5        640: 100%|██████████| 184/184 [01:31<00:00,  2.01it/s]\n",
            "                 Class     Images  Instances      Box(P          R      mAP50  mAP50-95): 100%|██████████| 27/27 [00:11<00:00,  2.43it/s]"
          ]
        },
        {
          "output_type": "stream",
          "name": "stdout",
          "text": [
            "                   all        835       1561      0.674      0.727      0.698      0.573\n"
          ]
        },
        {
          "output_type": "stream",
          "name": "stderr",
          "text": [
            "\n"
          ]
        },
        {
          "output_type": "stream",
          "name": "stdout",
          "text": [
            "\n",
            "      Epoch    GPU_mem   box_loss   cls_loss   dfl_loss  Instances       Size\n"
          ]
        },
        {
          "output_type": "stream",
          "name": "stderr",
          "text": [
            "      17/20      6.86G     0.4953     0.6898      1.264          5        640: 100%|██████████| 184/184 [01:31<00:00,  2.02it/s]\n",
            "                 Class     Images  Instances      Box(P          R      mAP50  mAP50-95): 100%|██████████| 27/27 [00:11<00:00,  2.41it/s]"
          ]
        },
        {
          "output_type": "stream",
          "name": "stdout",
          "text": [
            "                   all        835       1561      0.702      0.696      0.686      0.557\n"
          ]
        },
        {
          "output_type": "stream",
          "name": "stderr",
          "text": [
            "\n"
          ]
        },
        {
          "output_type": "stream",
          "name": "stdout",
          "text": [
            "\n",
            "      Epoch    GPU_mem   box_loss   cls_loss   dfl_loss  Instances       Size\n"
          ]
        },
        {
          "output_type": "stream",
          "name": "stderr",
          "text": [
            "      18/20      6.91G        0.5     0.6698      1.254          5        640: 100%|██████████| 184/184 [01:31<00:00,  2.02it/s]\n",
            "                 Class     Images  Instances      Box(P          R      mAP50  mAP50-95): 100%|██████████| 27/27 [00:11<00:00,  2.42it/s]"
          ]
        },
        {
          "output_type": "stream",
          "name": "stdout",
          "text": [
            "                   all        835       1561      0.733      0.704      0.697      0.577\n"
          ]
        },
        {
          "output_type": "stream",
          "name": "stderr",
          "text": [
            "\n"
          ]
        },
        {
          "output_type": "stream",
          "name": "stdout",
          "text": [
            "\n",
            "      Epoch    GPU_mem   box_loss   cls_loss   dfl_loss  Instances       Size\n"
          ]
        },
        {
          "output_type": "stream",
          "name": "stderr",
          "text": [
            "      19/20      6.85G     0.4875     0.6339      1.249          5        640: 100%|██████████| 184/184 [01:31<00:00,  2.01it/s]\n",
            "                 Class     Images  Instances      Box(P          R      mAP50  mAP50-95): 100%|██████████| 27/27 [00:11<00:00,  2.43it/s]"
          ]
        },
        {
          "output_type": "stream",
          "name": "stdout",
          "text": [
            "                   all        835       1561      0.762       0.69      0.724      0.595\n"
          ]
        },
        {
          "output_type": "stream",
          "name": "stderr",
          "text": [
            "\n"
          ]
        },
        {
          "output_type": "stream",
          "name": "stdout",
          "text": [
            "\n",
            "      Epoch    GPU_mem   box_loss   cls_loss   dfl_loss  Instances       Size\n"
          ]
        },
        {
          "output_type": "stream",
          "name": "stderr",
          "text": [
            "      20/20      6.98G     0.4965     0.6136       1.27          5        640: 100%|██████████| 184/184 [01:31<00:00,  2.01it/s]\n",
            "                 Class     Images  Instances      Box(P          R      mAP50  mAP50-95): 100%|██████████| 27/27 [00:11<00:00,  2.45it/s]"
          ]
        },
        {
          "output_type": "stream",
          "name": "stdout",
          "text": [
            "                   all        835       1561      0.725      0.731      0.716      0.594\n"
          ]
        },
        {
          "output_type": "stream",
          "name": "stderr",
          "text": [
            "\n"
          ]
        },
        {
          "output_type": "stream",
          "name": "stdout",
          "text": [
            "\n",
            "20 epochs completed in 0.611 hours.\n",
            "Optimizer stripped from runs/detect/train8/weights/last.pt, 52.0MB\n",
            "Optimizer stripped from runs/detect/train8/weights/best.pt, 52.0MB\n",
            "\n",
            "Validating runs/detect/train8/weights/best.pt...\n",
            "Ultralytics YOLOv8.2.100 🚀 Python-3.10.12 torch-2.4.1+cu121 CUDA:0 (Tesla T4, 15102MiB)\n",
            "Model summary (fused): 218 layers, 25,844,971 parameters, 0 gradients, 78.7 GFLOPs\n"
          ]
        },
        {
          "output_type": "stream",
          "name": "stderr",
          "text": [
            "                 Class     Images  Instances      Box(P          R      mAP50  mAP50-95): 100%|██████████| 27/27 [00:11<00:00,  2.38it/s]\n"
          ]
        },
        {
          "output_type": "stream",
          "name": "stdout",
          "text": [
            "                   all        835       1561      0.762       0.69      0.724      0.595\n",
            "  Dyskeratosis in HSIL        140        141      0.859      0.787      0.924      0.796\n",
            "   Dyskeratosis in SCC         22         22       0.29      0.682      0.427      0.342\n",
            " Intermediate Squamous         89        624      0.799        0.8      0.875      0.488\n",
            "Koilocytosis in Cancer          5          5          1          0      0.112     0.0989\n",
            "           Metaplastic        159        174      0.851      0.889      0.942      0.769\n",
            "     Mild Koilocytosis        113        118      0.835      0.685      0.847      0.779\n",
            "             Parabasal        157        159      0.945      0.967      0.988      0.944\n",
            "   Severe Koilocytosis         44         45      0.494      0.556      0.534      0.489\n",
            "  Superficial Squamous        138        273      0.783      0.846      0.868      0.646\n",
            "Speed: 0.2ms preprocess, 9.4ms inference, 0.0ms loss, 1.0ms postprocess per image\n",
            "Results saved to \u001b[1mruns/detect/train8\u001b[0m\n",
            "Ultralytics YOLOv8.2.100 🚀 Python-3.10.12 torch-2.4.1+cu121 CUDA:0 (Tesla T4, 15102MiB)\n",
            "Model summary (fused): 218 layers, 25,844,971 parameters, 0 gradients, 78.7 GFLOPs\n"
          ]
        },
        {
          "output_type": "stream",
          "name": "stderr",
          "text": [
            "\u001b[34m\u001b[1mval: \u001b[0mScanning /content/drive/MyDrive/CerviCure.v2i.yolov8/valid/labels.cache... 835 images, 4 backgrounds, 0 corrupt: 100%|██████████| 835/835 [00:00<?, ?it/s]"
          ]
        },
        {
          "output_type": "stream",
          "name": "stdout",
          "text": [
            "\u001b[34m\u001b[1mval: \u001b[0mWARNING ⚠️ /content/drive/MyDrive/CerviCure.v2i.yolov8/valid/images/101_04_bmp.rf.235f6229fc65f2b2ed625672ef667f14.jpg: 1 duplicate labels removed\n"
          ]
        },
        {
          "output_type": "stream",
          "name": "stderr",
          "text": [
            "\n",
            "/usr/lib/python3.10/multiprocessing/popen_fork.py:66: RuntimeWarning: os.fork() was called. os.fork() is incompatible with multithreaded code, and JAX is multithreaded, so this will likely lead to a deadlock.\n",
            "  self.pid = os.fork()\n",
            "                 Class     Images  Instances      Box(P          R      mAP50  mAP50-95): 100%|██████████| 53/53 [00:25<00:00,  2.07it/s]\n"
          ]
        },
        {
          "output_type": "stream",
          "name": "stdout",
          "text": [
            "                   all        835       1561       0.76      0.691      0.724      0.595\n",
            "  Dyskeratosis in HSIL        140        141      0.858      0.787      0.925      0.795\n",
            "   Dyskeratosis in SCC         22         22      0.289      0.682      0.428      0.342\n",
            " Intermediate Squamous         89        624      0.799      0.804      0.875      0.487\n",
            "Koilocytosis in Cancer          5          5          1          0      0.112     0.0989\n",
            "           Metaplastic        159        174      0.851       0.89      0.941       0.77\n",
            "     Mild Koilocytosis        113        118      0.835      0.686      0.847       0.78\n",
            "             Parabasal        157        159      0.945      0.967      0.988      0.944\n",
            "   Severe Koilocytosis         44         45      0.484      0.556      0.535       0.49\n",
            "  Superficial Squamous        138        273       0.78      0.846      0.868      0.647\n",
            "Speed: 0.2ms preprocess, 21.5ms inference, 0.0ms loss, 0.9ms postprocess per image\n",
            "Results saved to \u001b[1mruns/detect/train82\u001b[0m\n",
            "ultralytics.utils.metrics.DetMetrics object with attributes:\n",
            "\n",
            "ap_class_index: array([0, 1, 2, 3, 4, 5, 6, 7, 8])\n",
            "box: ultralytics.utils.metrics.Metric object\n",
            "confusion_matrix: <ultralytics.utils.metrics.ConfusionMatrix object at 0x7fb1a86a50f0>\n",
            "curves: ['Precision-Recall(B)', 'F1-Confidence(B)', 'Precision-Confidence(B)', 'Recall-Confidence(B)']\n",
            "curves_results: [[array([          0,    0.001001,    0.002002,    0.003003,    0.004004,    0.005005,    0.006006,    0.007007,    0.008008,    0.009009,     0.01001,    0.011011,    0.012012,    0.013013,    0.014014,    0.015015,    0.016016,    0.017017,    0.018018,    0.019019,     0.02002,    0.021021,    0.022022,    0.023023,\n",
            "          0.024024,    0.025025,    0.026026,    0.027027,    0.028028,    0.029029,     0.03003,    0.031031,    0.032032,    0.033033,    0.034034,    0.035035,    0.036036,    0.037037,    0.038038,    0.039039,     0.04004,    0.041041,    0.042042,    0.043043,    0.044044,    0.045045,    0.046046,    0.047047,\n",
            "          0.048048,    0.049049,     0.05005,    0.051051,    0.052052,    0.053053,    0.054054,    0.055055,    0.056056,    0.057057,    0.058058,    0.059059,     0.06006,    0.061061,    0.062062,    0.063063,    0.064064,    0.065065,    0.066066,    0.067067,    0.068068,    0.069069,     0.07007,    0.071071,\n",
            "          0.072072,    0.073073,    0.074074,    0.075075,    0.076076,    0.077077,    0.078078,    0.079079,     0.08008,    0.081081,    0.082082,    0.083083,    0.084084,    0.085085,    0.086086,    0.087087,    0.088088,    0.089089,     0.09009,    0.091091,    0.092092,    0.093093,    0.094094,    0.095095,\n",
            "          0.096096,    0.097097,    0.098098,    0.099099,      0.1001,      0.1011,      0.1021,      0.1031,      0.1041,     0.10511,     0.10611,     0.10711,     0.10811,     0.10911,     0.11011,     0.11111,     0.11211,     0.11311,     0.11411,     0.11512,     0.11612,     0.11712,     0.11812,     0.11912,\n",
            "           0.12012,     0.12112,     0.12212,     0.12312,     0.12412,     0.12513,     0.12613,     0.12713,     0.12813,     0.12913,     0.13013,     0.13113,     0.13213,     0.13313,     0.13413,     0.13514,     0.13614,     0.13714,     0.13814,     0.13914,     0.14014,     0.14114,     0.14214,     0.14314,\n",
            "           0.14414,     0.14515,     0.14615,     0.14715,     0.14815,     0.14915,     0.15015,     0.15115,     0.15215,     0.15315,     0.15415,     0.15516,     0.15616,     0.15716,     0.15816,     0.15916,     0.16016,     0.16116,     0.16216,     0.16316,     0.16416,     0.16517,     0.16617,     0.16717,\n",
            "           0.16817,     0.16917,     0.17017,     0.17117,     0.17217,     0.17317,     0.17417,     0.17518,     0.17618,     0.17718,     0.17818,     0.17918,     0.18018,     0.18118,     0.18218,     0.18318,     0.18418,     0.18519,     0.18619,     0.18719,     0.18819,     0.18919,     0.19019,     0.19119,\n",
            "           0.19219,     0.19319,     0.19419,      0.1952,      0.1962,      0.1972,      0.1982,      0.1992,      0.2002,      0.2012,      0.2022,      0.2032,      0.2042,     0.20521,     0.20621,     0.20721,     0.20821,     0.20921,     0.21021,     0.21121,     0.21221,     0.21321,     0.21421,     0.21522,\n",
            "           0.21622,     0.21722,     0.21822,     0.21922,     0.22022,     0.22122,     0.22222,     0.22322,     0.22422,     0.22523,     0.22623,     0.22723,     0.22823,     0.22923,     0.23023,     0.23123,     0.23223,     0.23323,     0.23423,     0.23524,     0.23624,     0.23724,     0.23824,     0.23924,\n",
            "           0.24024,     0.24124,     0.24224,     0.24324,     0.24424,     0.24525,     0.24625,     0.24725,     0.24825,     0.24925,     0.25025,     0.25125,     0.25225,     0.25325,     0.25425,     0.25526,     0.25626,     0.25726,     0.25826,     0.25926,     0.26026,     0.26126,     0.26226,     0.26326,\n",
            "           0.26426,     0.26527,     0.26627,     0.26727,     0.26827,     0.26927,     0.27027,     0.27127,     0.27227,     0.27327,     0.27427,     0.27528,     0.27628,     0.27728,     0.27828,     0.27928,     0.28028,     0.28128,     0.28228,     0.28328,     0.28428,     0.28529,     0.28629,     0.28729,\n",
            "           0.28829,     0.28929,     0.29029,     0.29129,     0.29229,     0.29329,     0.29429,      0.2953,      0.2963,      0.2973,      0.2983,      0.2993,      0.3003,      0.3013,      0.3023,      0.3033,      0.3043,     0.30531,     0.30631,     0.30731,     0.30831,     0.30931,     0.31031,     0.31131,\n",
            "           0.31231,     0.31331,     0.31431,     0.31532,     0.31632,     0.31732,     0.31832,     0.31932,     0.32032,     0.32132,     0.32232,     0.32332,     0.32432,     0.32533,     0.32633,     0.32733,     0.32833,     0.32933,     0.33033,     0.33133,     0.33233,     0.33333,     0.33433,     0.33534,\n",
            "           0.33634,     0.33734,     0.33834,     0.33934,     0.34034,     0.34134,     0.34234,     0.34334,     0.34434,     0.34535,     0.34635,     0.34735,     0.34835,     0.34935,     0.35035,     0.35135,     0.35235,     0.35335,     0.35435,     0.35536,     0.35636,     0.35736,     0.35836,     0.35936,\n",
            "           0.36036,     0.36136,     0.36236,     0.36336,     0.36436,     0.36537,     0.36637,     0.36737,     0.36837,     0.36937,     0.37037,     0.37137,     0.37237,     0.37337,     0.37437,     0.37538,     0.37638,     0.37738,     0.37838,     0.37938,     0.38038,     0.38138,     0.38238,     0.38338,\n",
            "           0.38438,     0.38539,     0.38639,     0.38739,     0.38839,     0.38939,     0.39039,     0.39139,     0.39239,     0.39339,     0.39439,      0.3954,      0.3964,      0.3974,      0.3984,      0.3994,      0.4004,      0.4014,      0.4024,      0.4034,      0.4044,     0.40541,     0.40641,     0.40741,\n",
            "           0.40841,     0.40941,     0.41041,     0.41141,     0.41241,     0.41341,     0.41441,     0.41542,     0.41642,     0.41742,     0.41842,     0.41942,     0.42042,     0.42142,     0.42242,     0.42342,     0.42442,     0.42543,     0.42643,     0.42743,     0.42843,     0.42943,     0.43043,     0.43143,\n",
            "           0.43243,     0.43343,     0.43443,     0.43544,     0.43644,     0.43744,     0.43844,     0.43944,     0.44044,     0.44144,     0.44244,     0.44344,     0.44444,     0.44545,     0.44645,     0.44745,     0.44845,     0.44945,     0.45045,     0.45145,     0.45245,     0.45345,     0.45445,     0.45546,\n",
            "           0.45646,     0.45746,     0.45846,     0.45946,     0.46046,     0.46146,     0.46246,     0.46346,     0.46446,     0.46547,     0.46647,     0.46747,     0.46847,     0.46947,     0.47047,     0.47147,     0.47247,     0.47347,     0.47447,     0.47548,     0.47648,     0.47748,     0.47848,     0.47948,\n",
            "           0.48048,     0.48148,     0.48248,     0.48348,     0.48448,     0.48549,     0.48649,     0.48749,     0.48849,     0.48949,     0.49049,     0.49149,     0.49249,     0.49349,     0.49449,      0.4955,      0.4965,      0.4975,      0.4985,      0.4995,      0.5005,      0.5015,      0.5025,      0.5035,\n",
            "            0.5045,     0.50551,     0.50651,     0.50751,     0.50851,     0.50951,     0.51051,     0.51151,     0.51251,     0.51351,     0.51451,     0.51552,     0.51652,     0.51752,     0.51852,     0.51952,     0.52052,     0.52152,     0.52252,     0.52352,     0.52452,     0.52553,     0.52653,     0.52753,\n",
            "           0.52853,     0.52953,     0.53053,     0.53153,     0.53253,     0.53353,     0.53453,     0.53554,     0.53654,     0.53754,     0.53854,     0.53954,     0.54054,     0.54154,     0.54254,     0.54354,     0.54454,     0.54555,     0.54655,     0.54755,     0.54855,     0.54955,     0.55055,     0.55155,\n",
            "           0.55255,     0.55355,     0.55455,     0.55556,     0.55656,     0.55756,     0.55856,     0.55956,     0.56056,     0.56156,     0.56256,     0.56356,     0.56456,     0.56557,     0.56657,     0.56757,     0.56857,     0.56957,     0.57057,     0.57157,     0.57257,     0.57357,     0.57457,     0.57558,\n",
            "           0.57658,     0.57758,     0.57858,     0.57958,     0.58058,     0.58158,     0.58258,     0.58358,     0.58458,     0.58559,     0.58659,     0.58759,     0.58859,     0.58959,     0.59059,     0.59159,     0.59259,     0.59359,     0.59459,      0.5956,      0.5966,      0.5976,      0.5986,      0.5996,\n",
            "            0.6006,      0.6016,      0.6026,      0.6036,      0.6046,     0.60561,     0.60661,     0.60761,     0.60861,     0.60961,     0.61061,     0.61161,     0.61261,     0.61361,     0.61461,     0.61562,     0.61662,     0.61762,     0.61862,     0.61962,     0.62062,     0.62162,     0.62262,     0.62362,\n",
            "           0.62462,     0.62563,     0.62663,     0.62763,     0.62863,     0.62963,     0.63063,     0.63163,     0.63263,     0.63363,     0.63463,     0.63564,     0.63664,     0.63764,     0.63864,     0.63964,     0.64064,     0.64164,     0.64264,     0.64364,     0.64464,     0.64565,     0.64665,     0.64765,\n",
            "           0.64865,     0.64965,     0.65065,     0.65165,     0.65265,     0.65365,     0.65465,     0.65566,     0.65666,     0.65766,     0.65866,     0.65966,     0.66066,     0.66166,     0.66266,     0.66366,     0.66466,     0.66567,     0.66667,     0.66767,     0.66867,     0.66967,     0.67067,     0.67167,\n",
            "           0.67267,     0.67367,     0.67467,     0.67568,     0.67668,     0.67768,     0.67868,     0.67968,     0.68068,     0.68168,     0.68268,     0.68368,     0.68468,     0.68569,     0.68669,     0.68769,     0.68869,     0.68969,     0.69069,     0.69169,     0.69269,     0.69369,     0.69469,      0.6957,\n",
            "            0.6967,      0.6977,      0.6987,      0.6997,      0.7007,      0.7017,      0.7027,      0.7037,      0.7047,     0.70571,     0.70671,     0.70771,     0.70871,     0.70971,     0.71071,     0.71171,     0.71271,     0.71371,     0.71471,     0.71572,     0.71672,     0.71772,     0.71872,     0.71972,\n",
            "           0.72072,     0.72172,     0.72272,     0.72372,     0.72472,     0.72573,     0.72673,     0.72773,     0.72873,     0.72973,     0.73073,     0.73173,     0.73273,     0.73373,     0.73473,     0.73574,     0.73674,     0.73774,     0.73874,     0.73974,     0.74074,     0.74174,     0.74274,     0.74374,\n",
            "           0.74474,     0.74575,     0.74675,     0.74775,     0.74875,     0.74975,     0.75075,     0.75175,     0.75275,     0.75375,     0.75475,     0.75576,     0.75676,     0.75776,     0.75876,     0.75976,     0.76076,     0.76176,     0.76276,     0.76376,     0.76476,     0.76577,     0.76677,     0.76777,\n",
            "           0.76877,     0.76977,     0.77077,     0.77177,     0.77277,     0.77377,     0.77477,     0.77578,     0.77678,     0.77778,     0.77878,     0.77978,     0.78078,     0.78178,     0.78278,     0.78378,     0.78478,     0.78579,     0.78679,     0.78779,     0.78879,     0.78979,     0.79079,     0.79179,\n",
            "           0.79279,     0.79379,     0.79479,      0.7958,      0.7968,      0.7978,      0.7988,      0.7998,      0.8008,      0.8018,      0.8028,      0.8038,      0.8048,     0.80581,     0.80681,     0.80781,     0.80881,     0.80981,     0.81081,     0.81181,     0.81281,     0.81381,     0.81481,     0.81582,\n",
            "           0.81682,     0.81782,     0.81882,     0.81982,     0.82082,     0.82182,     0.82282,     0.82382,     0.82482,     0.82583,     0.82683,     0.82783,     0.82883,     0.82983,     0.83083,     0.83183,     0.83283,     0.83383,     0.83483,     0.83584,     0.83684,     0.83784,     0.83884,     0.83984,\n",
            "           0.84084,     0.84184,     0.84284,     0.84384,     0.84484,     0.84585,     0.84685,     0.84785,     0.84885,     0.84985,     0.85085,     0.85185,     0.85285,     0.85385,     0.85485,     0.85586,     0.85686,     0.85786,     0.85886,     0.85986,     0.86086,     0.86186,     0.86286,     0.86386,\n",
            "           0.86486,     0.86587,     0.86687,     0.86787,     0.86887,     0.86987,     0.87087,     0.87187,     0.87287,     0.87387,     0.87487,     0.87588,     0.87688,     0.87788,     0.87888,     0.87988,     0.88088,     0.88188,     0.88288,     0.88388,     0.88488,     0.88589,     0.88689,     0.88789,\n",
            "           0.88889,     0.88989,     0.89089,     0.89189,     0.89289,     0.89389,     0.89489,      0.8959,      0.8969,      0.8979,      0.8989,      0.8999,      0.9009,      0.9019,      0.9029,      0.9039,      0.9049,     0.90591,     0.90691,     0.90791,     0.90891,     0.90991,     0.91091,     0.91191,\n",
            "           0.91291,     0.91391,     0.91491,     0.91592,     0.91692,     0.91792,     0.91892,     0.91992,     0.92092,     0.92192,     0.92292,     0.92392,     0.92492,     0.92593,     0.92693,     0.92793,     0.92893,     0.92993,     0.93093,     0.93193,     0.93293,     0.93393,     0.93493,     0.93594,\n",
            "           0.93694,     0.93794,     0.93894,     0.93994,     0.94094,     0.94194,     0.94294,     0.94394,     0.94494,     0.94595,     0.94695,     0.94795,     0.94895,     0.94995,     0.95095,     0.95195,     0.95295,     0.95395,     0.95495,     0.95596,     0.95696,     0.95796,     0.95896,     0.95996,\n",
            "           0.96096,     0.96196,     0.96296,     0.96396,     0.96496,     0.96597,     0.96697,     0.96797,     0.96897,     0.96997,     0.97097,     0.97197,     0.97297,     0.97397,     0.97497,     0.97598,     0.97698,     0.97798,     0.97898,     0.97998,     0.98098,     0.98198,     0.98298,     0.98398,\n",
            "           0.98498,     0.98599,     0.98699,     0.98799,     0.98899,     0.98999,     0.99099,     0.99199,     0.99299,     0.99399,     0.99499,       0.996,       0.997,       0.998,       0.999,           1]), array([[          1,           1,           1, ...,     0.36528,     0.36528,           0],\n",
            "       [       0.75,        0.75,        0.75, ...,        0.22,        0.22,           0],\n",
            "       [          1,           1,           1, ...,    0.031875,    0.015937,           0],\n",
            "       ...,\n",
            "       [          1,           1,           1, ...,     0.06126,     0.03063,           0],\n",
            "       [          1,           1,           1, ...,    0.006282,    0.003141,           0],\n",
            "       [          1,           1,           1, ...,    0.020368,    0.010184,           0]]), 'Recall', 'Precision'], [array([          0,    0.001001,    0.002002,    0.003003,    0.004004,    0.005005,    0.006006,    0.007007,    0.008008,    0.009009,     0.01001,    0.011011,    0.012012,    0.013013,    0.014014,    0.015015,    0.016016,    0.017017,    0.018018,    0.019019,     0.02002,    0.021021,    0.022022,    0.023023,\n",
            "          0.024024,    0.025025,    0.026026,    0.027027,    0.028028,    0.029029,     0.03003,    0.031031,    0.032032,    0.033033,    0.034034,    0.035035,    0.036036,    0.037037,    0.038038,    0.039039,     0.04004,    0.041041,    0.042042,    0.043043,    0.044044,    0.045045,    0.046046,    0.047047,\n",
            "          0.048048,    0.049049,     0.05005,    0.051051,    0.052052,    0.053053,    0.054054,    0.055055,    0.056056,    0.057057,    0.058058,    0.059059,     0.06006,    0.061061,    0.062062,    0.063063,    0.064064,    0.065065,    0.066066,    0.067067,    0.068068,    0.069069,     0.07007,    0.071071,\n",
            "          0.072072,    0.073073,    0.074074,    0.075075,    0.076076,    0.077077,    0.078078,    0.079079,     0.08008,    0.081081,    0.082082,    0.083083,    0.084084,    0.085085,    0.086086,    0.087087,    0.088088,    0.089089,     0.09009,    0.091091,    0.092092,    0.093093,    0.094094,    0.095095,\n",
            "          0.096096,    0.097097,    0.098098,    0.099099,      0.1001,      0.1011,      0.1021,      0.1031,      0.1041,     0.10511,     0.10611,     0.10711,     0.10811,     0.10911,     0.11011,     0.11111,     0.11211,     0.11311,     0.11411,     0.11512,     0.11612,     0.11712,     0.11812,     0.11912,\n",
            "           0.12012,     0.12112,     0.12212,     0.12312,     0.12412,     0.12513,     0.12613,     0.12713,     0.12813,     0.12913,     0.13013,     0.13113,     0.13213,     0.13313,     0.13413,     0.13514,     0.13614,     0.13714,     0.13814,     0.13914,     0.14014,     0.14114,     0.14214,     0.14314,\n",
            "           0.14414,     0.14515,     0.14615,     0.14715,     0.14815,     0.14915,     0.15015,     0.15115,     0.15215,     0.15315,     0.15415,     0.15516,     0.15616,     0.15716,     0.15816,     0.15916,     0.16016,     0.16116,     0.16216,     0.16316,     0.16416,     0.16517,     0.16617,     0.16717,\n",
            "           0.16817,     0.16917,     0.17017,     0.17117,     0.17217,     0.17317,     0.17417,     0.17518,     0.17618,     0.17718,     0.17818,     0.17918,     0.18018,     0.18118,     0.18218,     0.18318,     0.18418,     0.18519,     0.18619,     0.18719,     0.18819,     0.18919,     0.19019,     0.19119,\n",
            "           0.19219,     0.19319,     0.19419,      0.1952,      0.1962,      0.1972,      0.1982,      0.1992,      0.2002,      0.2012,      0.2022,      0.2032,      0.2042,     0.20521,     0.20621,     0.20721,     0.20821,     0.20921,     0.21021,     0.21121,     0.21221,     0.21321,     0.21421,     0.21522,\n",
            "           0.21622,     0.21722,     0.21822,     0.21922,     0.22022,     0.22122,     0.22222,     0.22322,     0.22422,     0.22523,     0.22623,     0.22723,     0.22823,     0.22923,     0.23023,     0.23123,     0.23223,     0.23323,     0.23423,     0.23524,     0.23624,     0.23724,     0.23824,     0.23924,\n",
            "           0.24024,     0.24124,     0.24224,     0.24324,     0.24424,     0.24525,     0.24625,     0.24725,     0.24825,     0.24925,     0.25025,     0.25125,     0.25225,     0.25325,     0.25425,     0.25526,     0.25626,     0.25726,     0.25826,     0.25926,     0.26026,     0.26126,     0.26226,     0.26326,\n",
            "           0.26426,     0.26527,     0.26627,     0.26727,     0.26827,     0.26927,     0.27027,     0.27127,     0.27227,     0.27327,     0.27427,     0.27528,     0.27628,     0.27728,     0.27828,     0.27928,     0.28028,     0.28128,     0.28228,     0.28328,     0.28428,     0.28529,     0.28629,     0.28729,\n",
            "           0.28829,     0.28929,     0.29029,     0.29129,     0.29229,     0.29329,     0.29429,      0.2953,      0.2963,      0.2973,      0.2983,      0.2993,      0.3003,      0.3013,      0.3023,      0.3033,      0.3043,     0.30531,     0.30631,     0.30731,     0.30831,     0.30931,     0.31031,     0.31131,\n",
            "           0.31231,     0.31331,     0.31431,     0.31532,     0.31632,     0.31732,     0.31832,     0.31932,     0.32032,     0.32132,     0.32232,     0.32332,     0.32432,     0.32533,     0.32633,     0.32733,     0.32833,     0.32933,     0.33033,     0.33133,     0.33233,     0.33333,     0.33433,     0.33534,\n",
            "           0.33634,     0.33734,     0.33834,     0.33934,     0.34034,     0.34134,     0.34234,     0.34334,     0.34434,     0.34535,     0.34635,     0.34735,     0.34835,     0.34935,     0.35035,     0.35135,     0.35235,     0.35335,     0.35435,     0.35536,     0.35636,     0.35736,     0.35836,     0.35936,\n",
            "           0.36036,     0.36136,     0.36236,     0.36336,     0.36436,     0.36537,     0.36637,     0.36737,     0.36837,     0.36937,     0.37037,     0.37137,     0.37237,     0.37337,     0.37437,     0.37538,     0.37638,     0.37738,     0.37838,     0.37938,     0.38038,     0.38138,     0.38238,     0.38338,\n",
            "           0.38438,     0.38539,     0.38639,     0.38739,     0.38839,     0.38939,     0.39039,     0.39139,     0.39239,     0.39339,     0.39439,      0.3954,      0.3964,      0.3974,      0.3984,      0.3994,      0.4004,      0.4014,      0.4024,      0.4034,      0.4044,     0.40541,     0.40641,     0.40741,\n",
            "           0.40841,     0.40941,     0.41041,     0.41141,     0.41241,     0.41341,     0.41441,     0.41542,     0.41642,     0.41742,     0.41842,     0.41942,     0.42042,     0.42142,     0.42242,     0.42342,     0.42442,     0.42543,     0.42643,     0.42743,     0.42843,     0.42943,     0.43043,     0.43143,\n",
            "           0.43243,     0.43343,     0.43443,     0.43544,     0.43644,     0.43744,     0.43844,     0.43944,     0.44044,     0.44144,     0.44244,     0.44344,     0.44444,     0.44545,     0.44645,     0.44745,     0.44845,     0.44945,     0.45045,     0.45145,     0.45245,     0.45345,     0.45445,     0.45546,\n",
            "           0.45646,     0.45746,     0.45846,     0.45946,     0.46046,     0.46146,     0.46246,     0.46346,     0.46446,     0.46547,     0.46647,     0.46747,     0.46847,     0.46947,     0.47047,     0.47147,     0.47247,     0.47347,     0.47447,     0.47548,     0.47648,     0.47748,     0.47848,     0.47948,\n",
            "           0.48048,     0.48148,     0.48248,     0.48348,     0.48448,     0.48549,     0.48649,     0.48749,     0.48849,     0.48949,     0.49049,     0.49149,     0.49249,     0.49349,     0.49449,      0.4955,      0.4965,      0.4975,      0.4985,      0.4995,      0.5005,      0.5015,      0.5025,      0.5035,\n",
            "            0.5045,     0.50551,     0.50651,     0.50751,     0.50851,     0.50951,     0.51051,     0.51151,     0.51251,     0.51351,     0.51451,     0.51552,     0.51652,     0.51752,     0.51852,     0.51952,     0.52052,     0.52152,     0.52252,     0.52352,     0.52452,     0.52553,     0.52653,     0.52753,\n",
            "           0.52853,     0.52953,     0.53053,     0.53153,     0.53253,     0.53353,     0.53453,     0.53554,     0.53654,     0.53754,     0.53854,     0.53954,     0.54054,     0.54154,     0.54254,     0.54354,     0.54454,     0.54555,     0.54655,     0.54755,     0.54855,     0.54955,     0.55055,     0.55155,\n",
            "           0.55255,     0.55355,     0.55455,     0.55556,     0.55656,     0.55756,     0.55856,     0.55956,     0.56056,     0.56156,     0.56256,     0.56356,     0.56456,     0.56557,     0.56657,     0.56757,     0.56857,     0.56957,     0.57057,     0.57157,     0.57257,     0.57357,     0.57457,     0.57558,\n",
            "           0.57658,     0.57758,     0.57858,     0.57958,     0.58058,     0.58158,     0.58258,     0.58358,     0.58458,     0.58559,     0.58659,     0.58759,     0.58859,     0.58959,     0.59059,     0.59159,     0.59259,     0.59359,     0.59459,      0.5956,      0.5966,      0.5976,      0.5986,      0.5996,\n",
            "            0.6006,      0.6016,      0.6026,      0.6036,      0.6046,     0.60561,     0.60661,     0.60761,     0.60861,     0.60961,     0.61061,     0.61161,     0.61261,     0.61361,     0.61461,     0.61562,     0.61662,     0.61762,     0.61862,     0.61962,     0.62062,     0.62162,     0.62262,     0.62362,\n",
            "           0.62462,     0.62563,     0.62663,     0.62763,     0.62863,     0.62963,     0.63063,     0.63163,     0.63263,     0.63363,     0.63463,     0.63564,     0.63664,     0.63764,     0.63864,     0.63964,     0.64064,     0.64164,     0.64264,     0.64364,     0.64464,     0.64565,     0.64665,     0.64765,\n",
            "           0.64865,     0.64965,     0.65065,     0.65165,     0.65265,     0.65365,     0.65465,     0.65566,     0.65666,     0.65766,     0.65866,     0.65966,     0.66066,     0.66166,     0.66266,     0.66366,     0.66466,     0.66567,     0.66667,     0.66767,     0.66867,     0.66967,     0.67067,     0.67167,\n",
            "           0.67267,     0.67367,     0.67467,     0.67568,     0.67668,     0.67768,     0.67868,     0.67968,     0.68068,     0.68168,     0.68268,     0.68368,     0.68468,     0.68569,     0.68669,     0.68769,     0.68869,     0.68969,     0.69069,     0.69169,     0.69269,     0.69369,     0.69469,      0.6957,\n",
            "            0.6967,      0.6977,      0.6987,      0.6997,      0.7007,      0.7017,      0.7027,      0.7037,      0.7047,     0.70571,     0.70671,     0.70771,     0.70871,     0.70971,     0.71071,     0.71171,     0.71271,     0.71371,     0.71471,     0.71572,     0.71672,     0.71772,     0.71872,     0.71972,\n",
            "           0.72072,     0.72172,     0.72272,     0.72372,     0.72472,     0.72573,     0.72673,     0.72773,     0.72873,     0.72973,     0.73073,     0.73173,     0.73273,     0.73373,     0.73473,     0.73574,     0.73674,     0.73774,     0.73874,     0.73974,     0.74074,     0.74174,     0.74274,     0.74374,\n",
            "           0.74474,     0.74575,     0.74675,     0.74775,     0.74875,     0.74975,     0.75075,     0.75175,     0.75275,     0.75375,     0.75475,     0.75576,     0.75676,     0.75776,     0.75876,     0.75976,     0.76076,     0.76176,     0.76276,     0.76376,     0.76476,     0.76577,     0.76677,     0.76777,\n",
            "           0.76877,     0.76977,     0.77077,     0.77177,     0.77277,     0.77377,     0.77477,     0.77578,     0.77678,     0.77778,     0.77878,     0.77978,     0.78078,     0.78178,     0.78278,     0.78378,     0.78478,     0.78579,     0.78679,     0.78779,     0.78879,     0.78979,     0.79079,     0.79179,\n",
            "           0.79279,     0.79379,     0.79479,      0.7958,      0.7968,      0.7978,      0.7988,      0.7998,      0.8008,      0.8018,      0.8028,      0.8038,      0.8048,     0.80581,     0.80681,     0.80781,     0.80881,     0.80981,     0.81081,     0.81181,     0.81281,     0.81381,     0.81481,     0.81582,\n",
            "           0.81682,     0.81782,     0.81882,     0.81982,     0.82082,     0.82182,     0.82282,     0.82382,     0.82482,     0.82583,     0.82683,     0.82783,     0.82883,     0.82983,     0.83083,     0.83183,     0.83283,     0.83383,     0.83483,     0.83584,     0.83684,     0.83784,     0.83884,     0.83984,\n",
            "           0.84084,     0.84184,     0.84284,     0.84384,     0.84484,     0.84585,     0.84685,     0.84785,     0.84885,     0.84985,     0.85085,     0.85185,     0.85285,     0.85385,     0.85485,     0.85586,     0.85686,     0.85786,     0.85886,     0.85986,     0.86086,     0.86186,     0.86286,     0.86386,\n",
            "           0.86486,     0.86587,     0.86687,     0.86787,     0.86887,     0.86987,     0.87087,     0.87187,     0.87287,     0.87387,     0.87487,     0.87588,     0.87688,     0.87788,     0.87888,     0.87988,     0.88088,     0.88188,     0.88288,     0.88388,     0.88488,     0.88589,     0.88689,     0.88789,\n",
            "           0.88889,     0.88989,     0.89089,     0.89189,     0.89289,     0.89389,     0.89489,      0.8959,      0.8969,      0.8979,      0.8989,      0.8999,      0.9009,      0.9019,      0.9029,      0.9039,      0.9049,     0.90591,     0.90691,     0.90791,     0.90891,     0.90991,     0.91091,     0.91191,\n",
            "           0.91291,     0.91391,     0.91491,     0.91592,     0.91692,     0.91792,     0.91892,     0.91992,     0.92092,     0.92192,     0.92292,     0.92392,     0.92492,     0.92593,     0.92693,     0.92793,     0.92893,     0.92993,     0.93093,     0.93193,     0.93293,     0.93393,     0.93493,     0.93594,\n",
            "           0.93694,     0.93794,     0.93894,     0.93994,     0.94094,     0.94194,     0.94294,     0.94394,     0.94494,     0.94595,     0.94695,     0.94795,     0.94895,     0.94995,     0.95095,     0.95195,     0.95295,     0.95395,     0.95495,     0.95596,     0.95696,     0.95796,     0.95896,     0.95996,\n",
            "           0.96096,     0.96196,     0.96296,     0.96396,     0.96496,     0.96597,     0.96697,     0.96797,     0.96897,     0.96997,     0.97097,     0.97197,     0.97297,     0.97397,     0.97497,     0.97598,     0.97698,     0.97798,     0.97898,     0.97998,     0.98098,     0.98198,     0.98298,     0.98398,\n",
            "           0.98498,     0.98599,     0.98699,     0.98799,     0.98899,     0.98999,     0.99099,     0.99199,     0.99299,     0.99399,     0.99499,       0.996,       0.997,       0.998,       0.999,           1]), array([[    0.49215,     0.49217,       0.618, ...,           0,           0,           0],\n",
            "       [    0.14426,     0.14426,     0.16471, ...,           0,           0,           0],\n",
            "       [    0.22608,     0.22611,     0.27114, ...,           0,           0,           0],\n",
            "       ...,\n",
            "       [    0.32245,     0.32289,     0.49241, ...,           0,           0,           0],\n",
            "       [    0.13018,     0.13018,     0.18053, ...,           0,           0,           0],\n",
            "       [    0.20089,     0.20089,     0.24473, ...,           0,           0,           0]]), 'Confidence', 'F1'], [array([          0,    0.001001,    0.002002,    0.003003,    0.004004,    0.005005,    0.006006,    0.007007,    0.008008,    0.009009,     0.01001,    0.011011,    0.012012,    0.013013,    0.014014,    0.015015,    0.016016,    0.017017,    0.018018,    0.019019,     0.02002,    0.021021,    0.022022,    0.023023,\n",
            "          0.024024,    0.025025,    0.026026,    0.027027,    0.028028,    0.029029,     0.03003,    0.031031,    0.032032,    0.033033,    0.034034,    0.035035,    0.036036,    0.037037,    0.038038,    0.039039,     0.04004,    0.041041,    0.042042,    0.043043,    0.044044,    0.045045,    0.046046,    0.047047,\n",
            "          0.048048,    0.049049,     0.05005,    0.051051,    0.052052,    0.053053,    0.054054,    0.055055,    0.056056,    0.057057,    0.058058,    0.059059,     0.06006,    0.061061,    0.062062,    0.063063,    0.064064,    0.065065,    0.066066,    0.067067,    0.068068,    0.069069,     0.07007,    0.071071,\n",
            "          0.072072,    0.073073,    0.074074,    0.075075,    0.076076,    0.077077,    0.078078,    0.079079,     0.08008,    0.081081,    0.082082,    0.083083,    0.084084,    0.085085,    0.086086,    0.087087,    0.088088,    0.089089,     0.09009,    0.091091,    0.092092,    0.093093,    0.094094,    0.095095,\n",
            "          0.096096,    0.097097,    0.098098,    0.099099,      0.1001,      0.1011,      0.1021,      0.1031,      0.1041,     0.10511,     0.10611,     0.10711,     0.10811,     0.10911,     0.11011,     0.11111,     0.11211,     0.11311,     0.11411,     0.11512,     0.11612,     0.11712,     0.11812,     0.11912,\n",
            "           0.12012,     0.12112,     0.12212,     0.12312,     0.12412,     0.12513,     0.12613,     0.12713,     0.12813,     0.12913,     0.13013,     0.13113,     0.13213,     0.13313,     0.13413,     0.13514,     0.13614,     0.13714,     0.13814,     0.13914,     0.14014,     0.14114,     0.14214,     0.14314,\n",
            "           0.14414,     0.14515,     0.14615,     0.14715,     0.14815,     0.14915,     0.15015,     0.15115,     0.15215,     0.15315,     0.15415,     0.15516,     0.15616,     0.15716,     0.15816,     0.15916,     0.16016,     0.16116,     0.16216,     0.16316,     0.16416,     0.16517,     0.16617,     0.16717,\n",
            "           0.16817,     0.16917,     0.17017,     0.17117,     0.17217,     0.17317,     0.17417,     0.17518,     0.17618,     0.17718,     0.17818,     0.17918,     0.18018,     0.18118,     0.18218,     0.18318,     0.18418,     0.18519,     0.18619,     0.18719,     0.18819,     0.18919,     0.19019,     0.19119,\n",
            "           0.19219,     0.19319,     0.19419,      0.1952,      0.1962,      0.1972,      0.1982,      0.1992,      0.2002,      0.2012,      0.2022,      0.2032,      0.2042,     0.20521,     0.20621,     0.20721,     0.20821,     0.20921,     0.21021,     0.21121,     0.21221,     0.21321,     0.21421,     0.21522,\n",
            "           0.21622,     0.21722,     0.21822,     0.21922,     0.22022,     0.22122,     0.22222,     0.22322,     0.22422,     0.22523,     0.22623,     0.22723,     0.22823,     0.22923,     0.23023,     0.23123,     0.23223,     0.23323,     0.23423,     0.23524,     0.23624,     0.23724,     0.23824,     0.23924,\n",
            "           0.24024,     0.24124,     0.24224,     0.24324,     0.24424,     0.24525,     0.24625,     0.24725,     0.24825,     0.24925,     0.25025,     0.25125,     0.25225,     0.25325,     0.25425,     0.25526,     0.25626,     0.25726,     0.25826,     0.25926,     0.26026,     0.26126,     0.26226,     0.26326,\n",
            "           0.26426,     0.26527,     0.26627,     0.26727,     0.26827,     0.26927,     0.27027,     0.27127,     0.27227,     0.27327,     0.27427,     0.27528,     0.27628,     0.27728,     0.27828,     0.27928,     0.28028,     0.28128,     0.28228,     0.28328,     0.28428,     0.28529,     0.28629,     0.28729,\n",
            "           0.28829,     0.28929,     0.29029,     0.29129,     0.29229,     0.29329,     0.29429,      0.2953,      0.2963,      0.2973,      0.2983,      0.2993,      0.3003,      0.3013,      0.3023,      0.3033,      0.3043,     0.30531,     0.30631,     0.30731,     0.30831,     0.30931,     0.31031,     0.31131,\n",
            "           0.31231,     0.31331,     0.31431,     0.31532,     0.31632,     0.31732,     0.31832,     0.31932,     0.32032,     0.32132,     0.32232,     0.32332,     0.32432,     0.32533,     0.32633,     0.32733,     0.32833,     0.32933,     0.33033,     0.33133,     0.33233,     0.33333,     0.33433,     0.33534,\n",
            "           0.33634,     0.33734,     0.33834,     0.33934,     0.34034,     0.34134,     0.34234,     0.34334,     0.34434,     0.34535,     0.34635,     0.34735,     0.34835,     0.34935,     0.35035,     0.35135,     0.35235,     0.35335,     0.35435,     0.35536,     0.35636,     0.35736,     0.35836,     0.35936,\n",
            "           0.36036,     0.36136,     0.36236,     0.36336,     0.36436,     0.36537,     0.36637,     0.36737,     0.36837,     0.36937,     0.37037,     0.37137,     0.37237,     0.37337,     0.37437,     0.37538,     0.37638,     0.37738,     0.37838,     0.37938,     0.38038,     0.38138,     0.38238,     0.38338,\n",
            "           0.38438,     0.38539,     0.38639,     0.38739,     0.38839,     0.38939,     0.39039,     0.39139,     0.39239,     0.39339,     0.39439,      0.3954,      0.3964,      0.3974,      0.3984,      0.3994,      0.4004,      0.4014,      0.4024,      0.4034,      0.4044,     0.40541,     0.40641,     0.40741,\n",
            "           0.40841,     0.40941,     0.41041,     0.41141,     0.41241,     0.41341,     0.41441,     0.41542,     0.41642,     0.41742,     0.41842,     0.41942,     0.42042,     0.42142,     0.42242,     0.42342,     0.42442,     0.42543,     0.42643,     0.42743,     0.42843,     0.42943,     0.43043,     0.43143,\n",
            "           0.43243,     0.43343,     0.43443,     0.43544,     0.43644,     0.43744,     0.43844,     0.43944,     0.44044,     0.44144,     0.44244,     0.44344,     0.44444,     0.44545,     0.44645,     0.44745,     0.44845,     0.44945,     0.45045,     0.45145,     0.45245,     0.45345,     0.45445,     0.45546,\n",
            "           0.45646,     0.45746,     0.45846,     0.45946,     0.46046,     0.46146,     0.46246,     0.46346,     0.46446,     0.46547,     0.46647,     0.46747,     0.46847,     0.46947,     0.47047,     0.47147,     0.47247,     0.47347,     0.47447,     0.47548,     0.47648,     0.47748,     0.47848,     0.47948,\n",
            "           0.48048,     0.48148,     0.48248,     0.48348,     0.48448,     0.48549,     0.48649,     0.48749,     0.48849,     0.48949,     0.49049,     0.49149,     0.49249,     0.49349,     0.49449,      0.4955,      0.4965,      0.4975,      0.4985,      0.4995,      0.5005,      0.5015,      0.5025,      0.5035,\n",
            "            0.5045,     0.50551,     0.50651,     0.50751,     0.50851,     0.50951,     0.51051,     0.51151,     0.51251,     0.51351,     0.51451,     0.51552,     0.51652,     0.51752,     0.51852,     0.51952,     0.52052,     0.52152,     0.52252,     0.52352,     0.52452,     0.52553,     0.52653,     0.52753,\n",
            "           0.52853,     0.52953,     0.53053,     0.53153,     0.53253,     0.53353,     0.53453,     0.53554,     0.53654,     0.53754,     0.53854,     0.53954,     0.54054,     0.54154,     0.54254,     0.54354,     0.54454,     0.54555,     0.54655,     0.54755,     0.54855,     0.54955,     0.55055,     0.55155,\n",
            "           0.55255,     0.55355,     0.55455,     0.55556,     0.55656,     0.55756,     0.55856,     0.55956,     0.56056,     0.56156,     0.56256,     0.56356,     0.56456,     0.56557,     0.56657,     0.56757,     0.56857,     0.56957,     0.57057,     0.57157,     0.57257,     0.57357,     0.57457,     0.57558,\n",
            "           0.57658,     0.57758,     0.57858,     0.57958,     0.58058,     0.58158,     0.58258,     0.58358,     0.58458,     0.58559,     0.58659,     0.58759,     0.58859,     0.58959,     0.59059,     0.59159,     0.59259,     0.59359,     0.59459,      0.5956,      0.5966,      0.5976,      0.5986,      0.5996,\n",
            "            0.6006,      0.6016,      0.6026,      0.6036,      0.6046,     0.60561,     0.60661,     0.60761,     0.60861,     0.60961,     0.61061,     0.61161,     0.61261,     0.61361,     0.61461,     0.61562,     0.61662,     0.61762,     0.61862,     0.61962,     0.62062,     0.62162,     0.62262,     0.62362,\n",
            "           0.62462,     0.62563,     0.62663,     0.62763,     0.62863,     0.62963,     0.63063,     0.63163,     0.63263,     0.63363,     0.63463,     0.63564,     0.63664,     0.63764,     0.63864,     0.63964,     0.64064,     0.64164,     0.64264,     0.64364,     0.64464,     0.64565,     0.64665,     0.64765,\n",
            "           0.64865,     0.64965,     0.65065,     0.65165,     0.65265,     0.65365,     0.65465,     0.65566,     0.65666,     0.65766,     0.65866,     0.65966,     0.66066,     0.66166,     0.66266,     0.66366,     0.66466,     0.66567,     0.66667,     0.66767,     0.66867,     0.66967,     0.67067,     0.67167,\n",
            "           0.67267,     0.67367,     0.67467,     0.67568,     0.67668,     0.67768,     0.67868,     0.67968,     0.68068,     0.68168,     0.68268,     0.68368,     0.68468,     0.68569,     0.68669,     0.68769,     0.68869,     0.68969,     0.69069,     0.69169,     0.69269,     0.69369,     0.69469,      0.6957,\n",
            "            0.6967,      0.6977,      0.6987,      0.6997,      0.7007,      0.7017,      0.7027,      0.7037,      0.7047,     0.70571,     0.70671,     0.70771,     0.70871,     0.70971,     0.71071,     0.71171,     0.71271,     0.71371,     0.71471,     0.71572,     0.71672,     0.71772,     0.71872,     0.71972,\n",
            "           0.72072,     0.72172,     0.72272,     0.72372,     0.72472,     0.72573,     0.72673,     0.72773,     0.72873,     0.72973,     0.73073,     0.73173,     0.73273,     0.73373,     0.73473,     0.73574,     0.73674,     0.73774,     0.73874,     0.73974,     0.74074,     0.74174,     0.74274,     0.74374,\n",
            "           0.74474,     0.74575,     0.74675,     0.74775,     0.74875,     0.74975,     0.75075,     0.75175,     0.75275,     0.75375,     0.75475,     0.75576,     0.75676,     0.75776,     0.75876,     0.75976,     0.76076,     0.76176,     0.76276,     0.76376,     0.76476,     0.76577,     0.76677,     0.76777,\n",
            "           0.76877,     0.76977,     0.77077,     0.77177,     0.77277,     0.77377,     0.77477,     0.77578,     0.77678,     0.77778,     0.77878,     0.77978,     0.78078,     0.78178,     0.78278,     0.78378,     0.78478,     0.78579,     0.78679,     0.78779,     0.78879,     0.78979,     0.79079,     0.79179,\n",
            "           0.79279,     0.79379,     0.79479,      0.7958,      0.7968,      0.7978,      0.7988,      0.7998,      0.8008,      0.8018,      0.8028,      0.8038,      0.8048,     0.80581,     0.80681,     0.80781,     0.80881,     0.80981,     0.81081,     0.81181,     0.81281,     0.81381,     0.81481,     0.81582,\n",
            "           0.81682,     0.81782,     0.81882,     0.81982,     0.82082,     0.82182,     0.82282,     0.82382,     0.82482,     0.82583,     0.82683,     0.82783,     0.82883,     0.82983,     0.83083,     0.83183,     0.83283,     0.83383,     0.83483,     0.83584,     0.83684,     0.83784,     0.83884,     0.83984,\n",
            "           0.84084,     0.84184,     0.84284,     0.84384,     0.84484,     0.84585,     0.84685,     0.84785,     0.84885,     0.84985,     0.85085,     0.85185,     0.85285,     0.85385,     0.85485,     0.85586,     0.85686,     0.85786,     0.85886,     0.85986,     0.86086,     0.86186,     0.86286,     0.86386,\n",
            "           0.86486,     0.86587,     0.86687,     0.86787,     0.86887,     0.86987,     0.87087,     0.87187,     0.87287,     0.87387,     0.87487,     0.87588,     0.87688,     0.87788,     0.87888,     0.87988,     0.88088,     0.88188,     0.88288,     0.88388,     0.88488,     0.88589,     0.88689,     0.88789,\n",
            "           0.88889,     0.88989,     0.89089,     0.89189,     0.89289,     0.89389,     0.89489,      0.8959,      0.8969,      0.8979,      0.8989,      0.8999,      0.9009,      0.9019,      0.9029,      0.9039,      0.9049,     0.90591,     0.90691,     0.90791,     0.90891,     0.90991,     0.91091,     0.91191,\n",
            "           0.91291,     0.91391,     0.91491,     0.91592,     0.91692,     0.91792,     0.91892,     0.91992,     0.92092,     0.92192,     0.92292,     0.92392,     0.92492,     0.92593,     0.92693,     0.92793,     0.92893,     0.92993,     0.93093,     0.93193,     0.93293,     0.93393,     0.93493,     0.93594,\n",
            "           0.93694,     0.93794,     0.93894,     0.93994,     0.94094,     0.94194,     0.94294,     0.94394,     0.94494,     0.94595,     0.94695,     0.94795,     0.94895,     0.94995,     0.95095,     0.95195,     0.95295,     0.95395,     0.95495,     0.95596,     0.95696,     0.95796,     0.95896,     0.95996,\n",
            "           0.96096,     0.96196,     0.96296,     0.96396,     0.96496,     0.96597,     0.96697,     0.96797,     0.96897,     0.96997,     0.97097,     0.97197,     0.97297,     0.97397,     0.97497,     0.97598,     0.97698,     0.97798,     0.97898,     0.97998,     0.98098,     0.98198,     0.98298,     0.98398,\n",
            "           0.98498,     0.98599,     0.98699,     0.98799,     0.98899,     0.98999,     0.99099,     0.99199,     0.99299,     0.99399,     0.99499,       0.996,       0.997,       0.998,       0.999,           1]), array([[    0.32639,     0.32641,     0.44861, ...,           1,           1,           1],\n",
            "       [   0.077739,    0.077739,    0.089748, ...,           1,           1,           1],\n",
            "       [    0.12758,      0.1276,     0.15703, ...,           1,           1,           1],\n",
            "       ...,\n",
            "       [    0.19245,     0.19276,      0.3273, ...,           1,           1,           1],\n",
            "       [   0.069731,    0.069731,    0.099447, ...,           1,           1,           1],\n",
            "       [     0.1118,      0.1118,     0.13964, ...,           1,           1,           1]]), 'Confidence', 'Precision'], [array([          0,    0.001001,    0.002002,    0.003003,    0.004004,    0.005005,    0.006006,    0.007007,    0.008008,    0.009009,     0.01001,    0.011011,    0.012012,    0.013013,    0.014014,    0.015015,    0.016016,    0.017017,    0.018018,    0.019019,     0.02002,    0.021021,    0.022022,    0.023023,\n",
            "          0.024024,    0.025025,    0.026026,    0.027027,    0.028028,    0.029029,     0.03003,    0.031031,    0.032032,    0.033033,    0.034034,    0.035035,    0.036036,    0.037037,    0.038038,    0.039039,     0.04004,    0.041041,    0.042042,    0.043043,    0.044044,    0.045045,    0.046046,    0.047047,\n",
            "          0.048048,    0.049049,     0.05005,    0.051051,    0.052052,    0.053053,    0.054054,    0.055055,    0.056056,    0.057057,    0.058058,    0.059059,     0.06006,    0.061061,    0.062062,    0.063063,    0.064064,    0.065065,    0.066066,    0.067067,    0.068068,    0.069069,     0.07007,    0.071071,\n",
            "          0.072072,    0.073073,    0.074074,    0.075075,    0.076076,    0.077077,    0.078078,    0.079079,     0.08008,    0.081081,    0.082082,    0.083083,    0.084084,    0.085085,    0.086086,    0.087087,    0.088088,    0.089089,     0.09009,    0.091091,    0.092092,    0.093093,    0.094094,    0.095095,\n",
            "          0.096096,    0.097097,    0.098098,    0.099099,      0.1001,      0.1011,      0.1021,      0.1031,      0.1041,     0.10511,     0.10611,     0.10711,     0.10811,     0.10911,     0.11011,     0.11111,     0.11211,     0.11311,     0.11411,     0.11512,     0.11612,     0.11712,     0.11812,     0.11912,\n",
            "           0.12012,     0.12112,     0.12212,     0.12312,     0.12412,     0.12513,     0.12613,     0.12713,     0.12813,     0.12913,     0.13013,     0.13113,     0.13213,     0.13313,     0.13413,     0.13514,     0.13614,     0.13714,     0.13814,     0.13914,     0.14014,     0.14114,     0.14214,     0.14314,\n",
            "           0.14414,     0.14515,     0.14615,     0.14715,     0.14815,     0.14915,     0.15015,     0.15115,     0.15215,     0.15315,     0.15415,     0.15516,     0.15616,     0.15716,     0.15816,     0.15916,     0.16016,     0.16116,     0.16216,     0.16316,     0.16416,     0.16517,     0.16617,     0.16717,\n",
            "           0.16817,     0.16917,     0.17017,     0.17117,     0.17217,     0.17317,     0.17417,     0.17518,     0.17618,     0.17718,     0.17818,     0.17918,     0.18018,     0.18118,     0.18218,     0.18318,     0.18418,     0.18519,     0.18619,     0.18719,     0.18819,     0.18919,     0.19019,     0.19119,\n",
            "           0.19219,     0.19319,     0.19419,      0.1952,      0.1962,      0.1972,      0.1982,      0.1992,      0.2002,      0.2012,      0.2022,      0.2032,      0.2042,     0.20521,     0.20621,     0.20721,     0.20821,     0.20921,     0.21021,     0.21121,     0.21221,     0.21321,     0.21421,     0.21522,\n",
            "           0.21622,     0.21722,     0.21822,     0.21922,     0.22022,     0.22122,     0.22222,     0.22322,     0.22422,     0.22523,     0.22623,     0.22723,     0.22823,     0.22923,     0.23023,     0.23123,     0.23223,     0.23323,     0.23423,     0.23524,     0.23624,     0.23724,     0.23824,     0.23924,\n",
            "           0.24024,     0.24124,     0.24224,     0.24324,     0.24424,     0.24525,     0.24625,     0.24725,     0.24825,     0.24925,     0.25025,     0.25125,     0.25225,     0.25325,     0.25425,     0.25526,     0.25626,     0.25726,     0.25826,     0.25926,     0.26026,     0.26126,     0.26226,     0.26326,\n",
            "           0.26426,     0.26527,     0.26627,     0.26727,     0.26827,     0.26927,     0.27027,     0.27127,     0.27227,     0.27327,     0.27427,     0.27528,     0.27628,     0.27728,     0.27828,     0.27928,     0.28028,     0.28128,     0.28228,     0.28328,     0.28428,     0.28529,     0.28629,     0.28729,\n",
            "           0.28829,     0.28929,     0.29029,     0.29129,     0.29229,     0.29329,     0.29429,      0.2953,      0.2963,      0.2973,      0.2983,      0.2993,      0.3003,      0.3013,      0.3023,      0.3033,      0.3043,     0.30531,     0.30631,     0.30731,     0.30831,     0.30931,     0.31031,     0.31131,\n",
            "           0.31231,     0.31331,     0.31431,     0.31532,     0.31632,     0.31732,     0.31832,     0.31932,     0.32032,     0.32132,     0.32232,     0.32332,     0.32432,     0.32533,     0.32633,     0.32733,     0.32833,     0.32933,     0.33033,     0.33133,     0.33233,     0.33333,     0.33433,     0.33534,\n",
            "           0.33634,     0.33734,     0.33834,     0.33934,     0.34034,     0.34134,     0.34234,     0.34334,     0.34434,     0.34535,     0.34635,     0.34735,     0.34835,     0.34935,     0.35035,     0.35135,     0.35235,     0.35335,     0.35435,     0.35536,     0.35636,     0.35736,     0.35836,     0.35936,\n",
            "           0.36036,     0.36136,     0.36236,     0.36336,     0.36436,     0.36537,     0.36637,     0.36737,     0.36837,     0.36937,     0.37037,     0.37137,     0.37237,     0.37337,     0.37437,     0.37538,     0.37638,     0.37738,     0.37838,     0.37938,     0.38038,     0.38138,     0.38238,     0.38338,\n",
            "           0.38438,     0.38539,     0.38639,     0.38739,     0.38839,     0.38939,     0.39039,     0.39139,     0.39239,     0.39339,     0.39439,      0.3954,      0.3964,      0.3974,      0.3984,      0.3994,      0.4004,      0.4014,      0.4024,      0.4034,      0.4044,     0.40541,     0.40641,     0.40741,\n",
            "           0.40841,     0.40941,     0.41041,     0.41141,     0.41241,     0.41341,     0.41441,     0.41542,     0.41642,     0.41742,     0.41842,     0.41942,     0.42042,     0.42142,     0.42242,     0.42342,     0.42442,     0.42543,     0.42643,     0.42743,     0.42843,     0.42943,     0.43043,     0.43143,\n",
            "           0.43243,     0.43343,     0.43443,     0.43544,     0.43644,     0.43744,     0.43844,     0.43944,     0.44044,     0.44144,     0.44244,     0.44344,     0.44444,     0.44545,     0.44645,     0.44745,     0.44845,     0.44945,     0.45045,     0.45145,     0.45245,     0.45345,     0.45445,     0.45546,\n",
            "           0.45646,     0.45746,     0.45846,     0.45946,     0.46046,     0.46146,     0.46246,     0.46346,     0.46446,     0.46547,     0.46647,     0.46747,     0.46847,     0.46947,     0.47047,     0.47147,     0.47247,     0.47347,     0.47447,     0.47548,     0.47648,     0.47748,     0.47848,     0.47948,\n",
            "           0.48048,     0.48148,     0.48248,     0.48348,     0.48448,     0.48549,     0.48649,     0.48749,     0.48849,     0.48949,     0.49049,     0.49149,     0.49249,     0.49349,     0.49449,      0.4955,      0.4965,      0.4975,      0.4985,      0.4995,      0.5005,      0.5015,      0.5025,      0.5035,\n",
            "            0.5045,     0.50551,     0.50651,     0.50751,     0.50851,     0.50951,     0.51051,     0.51151,     0.51251,     0.51351,     0.51451,     0.51552,     0.51652,     0.51752,     0.51852,     0.51952,     0.52052,     0.52152,     0.52252,     0.52352,     0.52452,     0.52553,     0.52653,     0.52753,\n",
            "           0.52853,     0.52953,     0.53053,     0.53153,     0.53253,     0.53353,     0.53453,     0.53554,     0.53654,     0.53754,     0.53854,     0.53954,     0.54054,     0.54154,     0.54254,     0.54354,     0.54454,     0.54555,     0.54655,     0.54755,     0.54855,     0.54955,     0.55055,     0.55155,\n",
            "           0.55255,     0.55355,     0.55455,     0.55556,     0.55656,     0.55756,     0.55856,     0.55956,     0.56056,     0.56156,     0.56256,     0.56356,     0.56456,     0.56557,     0.56657,     0.56757,     0.56857,     0.56957,     0.57057,     0.57157,     0.57257,     0.57357,     0.57457,     0.57558,\n",
            "           0.57658,     0.57758,     0.57858,     0.57958,     0.58058,     0.58158,     0.58258,     0.58358,     0.58458,     0.58559,     0.58659,     0.58759,     0.58859,     0.58959,     0.59059,     0.59159,     0.59259,     0.59359,     0.59459,      0.5956,      0.5966,      0.5976,      0.5986,      0.5996,\n",
            "            0.6006,      0.6016,      0.6026,      0.6036,      0.6046,     0.60561,     0.60661,     0.60761,     0.60861,     0.60961,     0.61061,     0.61161,     0.61261,     0.61361,     0.61461,     0.61562,     0.61662,     0.61762,     0.61862,     0.61962,     0.62062,     0.62162,     0.62262,     0.62362,\n",
            "           0.62462,     0.62563,     0.62663,     0.62763,     0.62863,     0.62963,     0.63063,     0.63163,     0.63263,     0.63363,     0.63463,     0.63564,     0.63664,     0.63764,     0.63864,     0.63964,     0.64064,     0.64164,     0.64264,     0.64364,     0.64464,     0.64565,     0.64665,     0.64765,\n",
            "           0.64865,     0.64965,     0.65065,     0.65165,     0.65265,     0.65365,     0.65465,     0.65566,     0.65666,     0.65766,     0.65866,     0.65966,     0.66066,     0.66166,     0.66266,     0.66366,     0.66466,     0.66567,     0.66667,     0.66767,     0.66867,     0.66967,     0.67067,     0.67167,\n",
            "           0.67267,     0.67367,     0.67467,     0.67568,     0.67668,     0.67768,     0.67868,     0.67968,     0.68068,     0.68168,     0.68268,     0.68368,     0.68468,     0.68569,     0.68669,     0.68769,     0.68869,     0.68969,     0.69069,     0.69169,     0.69269,     0.69369,     0.69469,      0.6957,\n",
            "            0.6967,      0.6977,      0.6987,      0.6997,      0.7007,      0.7017,      0.7027,      0.7037,      0.7047,     0.70571,     0.70671,     0.70771,     0.70871,     0.70971,     0.71071,     0.71171,     0.71271,     0.71371,     0.71471,     0.71572,     0.71672,     0.71772,     0.71872,     0.71972,\n",
            "           0.72072,     0.72172,     0.72272,     0.72372,     0.72472,     0.72573,     0.72673,     0.72773,     0.72873,     0.72973,     0.73073,     0.73173,     0.73273,     0.73373,     0.73473,     0.73574,     0.73674,     0.73774,     0.73874,     0.73974,     0.74074,     0.74174,     0.74274,     0.74374,\n",
            "           0.74474,     0.74575,     0.74675,     0.74775,     0.74875,     0.74975,     0.75075,     0.75175,     0.75275,     0.75375,     0.75475,     0.75576,     0.75676,     0.75776,     0.75876,     0.75976,     0.76076,     0.76176,     0.76276,     0.76376,     0.76476,     0.76577,     0.76677,     0.76777,\n",
            "           0.76877,     0.76977,     0.77077,     0.77177,     0.77277,     0.77377,     0.77477,     0.77578,     0.77678,     0.77778,     0.77878,     0.77978,     0.78078,     0.78178,     0.78278,     0.78378,     0.78478,     0.78579,     0.78679,     0.78779,     0.78879,     0.78979,     0.79079,     0.79179,\n",
            "           0.79279,     0.79379,     0.79479,      0.7958,      0.7968,      0.7978,      0.7988,      0.7998,      0.8008,      0.8018,      0.8028,      0.8038,      0.8048,     0.80581,     0.80681,     0.80781,     0.80881,     0.80981,     0.81081,     0.81181,     0.81281,     0.81381,     0.81481,     0.81582,\n",
            "           0.81682,     0.81782,     0.81882,     0.81982,     0.82082,     0.82182,     0.82282,     0.82382,     0.82482,     0.82583,     0.82683,     0.82783,     0.82883,     0.82983,     0.83083,     0.83183,     0.83283,     0.83383,     0.83483,     0.83584,     0.83684,     0.83784,     0.83884,     0.83984,\n",
            "           0.84084,     0.84184,     0.84284,     0.84384,     0.84484,     0.84585,     0.84685,     0.84785,     0.84885,     0.84985,     0.85085,     0.85185,     0.85285,     0.85385,     0.85485,     0.85586,     0.85686,     0.85786,     0.85886,     0.85986,     0.86086,     0.86186,     0.86286,     0.86386,\n",
            "           0.86486,     0.86587,     0.86687,     0.86787,     0.86887,     0.86987,     0.87087,     0.87187,     0.87287,     0.87387,     0.87487,     0.87588,     0.87688,     0.87788,     0.87888,     0.87988,     0.88088,     0.88188,     0.88288,     0.88388,     0.88488,     0.88589,     0.88689,     0.88789,\n",
            "           0.88889,     0.88989,     0.89089,     0.89189,     0.89289,     0.89389,     0.89489,      0.8959,      0.8969,      0.8979,      0.8989,      0.8999,      0.9009,      0.9019,      0.9029,      0.9039,      0.9049,     0.90591,     0.90691,     0.90791,     0.90891,     0.90991,     0.91091,     0.91191,\n",
            "           0.91291,     0.91391,     0.91491,     0.91592,     0.91692,     0.91792,     0.91892,     0.91992,     0.92092,     0.92192,     0.92292,     0.92392,     0.92492,     0.92593,     0.92693,     0.92793,     0.92893,     0.92993,     0.93093,     0.93193,     0.93293,     0.93393,     0.93493,     0.93594,\n",
            "           0.93694,     0.93794,     0.93894,     0.93994,     0.94094,     0.94194,     0.94294,     0.94394,     0.94494,     0.94595,     0.94695,     0.94795,     0.94895,     0.94995,     0.95095,     0.95195,     0.95295,     0.95395,     0.95495,     0.95596,     0.95696,     0.95796,     0.95896,     0.95996,\n",
            "           0.96096,     0.96196,     0.96296,     0.96396,     0.96496,     0.96597,     0.96697,     0.96797,     0.96897,     0.96997,     0.97097,     0.97197,     0.97297,     0.97397,     0.97497,     0.97598,     0.97698,     0.97798,     0.97898,     0.97998,     0.98098,     0.98198,     0.98298,     0.98398,\n",
            "           0.98498,     0.98599,     0.98699,     0.98799,     0.98899,     0.98999,     0.99099,     0.99199,     0.99299,     0.99399,     0.99499,       0.996,       0.997,       0.998,       0.999,           1]), array([[          1,           1,     0.99291, ...,           0,           0,           0],\n",
            "       [          1,           1,           1, ...,           0,           0,           0],\n",
            "       [    0.99199,     0.99199,     0.99199, ...,           0,           0,           0],\n",
            "       ...,\n",
            "       [    0.99371,     0.99371,     0.99371, ...,           0,           0,           0],\n",
            "       [    0.97778,     0.97778,     0.97778, ...,           0,           0,           0],\n",
            "       [    0.98901,     0.98901,     0.98901, ...,           0,           0,           0]]), 'Confidence', 'Recall']]\n",
            "fitness: 0.6079325719235644\n",
            "keys: ['metrics/precision(B)', 'metrics/recall(B)', 'metrics/mAP50(B)', 'metrics/mAP50-95(B)']\n",
            "maps: array([    0.79521,     0.34181,     0.48746,    0.098891,     0.77034,     0.77985,     0.94406,      0.4902,     0.64723])\n",
            "names: {0: 'Dyskeratosis in HSIL', 1: 'Dyskeratosis in SCC', 2: 'Intermediate Squamous', 3: 'Koilocytosis in Cancer', 4: 'Metaplastic', 5: 'Mild Koilocytosis', 6: 'Parabasal', 7: 'Severe Koilocytosis', 8: 'Superficial Squamous'}\n",
            "plot: True\n",
            "results_dict: {'metrics/precision(B)': 0.7600008426652715, 'metrics/recall(B)': 0.6907748919255436, 'metrics/mAP50(B)': 0.7242723835417526, 'metrics/mAP50-95(B)': 0.5950059261882101, 'fitness': 0.6079325719235644}\n",
            "save_dir: PosixPath('runs/detect/train82')\n",
            "speed: {'preprocess': 0.2388842805416998, 'inference': 21.488238808637607, 'loss': 0.000718967643326628, 'postprocess': 0.9146636117718177}\n",
            "task: 'detect'\n"
          ]
        }
      ],
      "source": [
        "%cd /content/drive/MyDrive/CerviCure.v2i.yolov8\n",
        "from ultralytics import YOLO\n",
        "\n",
        "model = YOLO('yolov8m.pt')\n",
        "\n",
        "layer_index = 0\n",
        "for param in model.parameters():\n",
        "    if layer_index == 1:\n",
        "        param.requires_grad = True\n",
        "    else:\n",
        "        param.requires_grad = False\n",
        "    layer_index += 1\n",
        "\n",
        "for layer in model.model.children():\n",
        "    for param in layer.parameters():\n",
        "        param.requires_grad = True\n",
        "\n",
        "model.train(\n",
        "    data='data.yaml',\n",
        "    epochs=20,\n",
        "    batch=16,\n",
        "    imgsz=640,\n",
        "    optimizer='Adam',\n",
        "    lr0=0.001,\n",
        "    weight_decay=0.0005\n",
        ")\n",
        "\n",
        "\n",
        "results = model.val()\n",
        "print(results)\n"
      ]
    },
    {
      "cell_type": "code",
      "execution_count": 6,
      "metadata": {
        "colab": {
          "base_uri": "https://localhost:8080/"
        },
        "id": "i9FU4EYb-Zqu",
        "outputId": "49294d0c-5821-442a-945a-b834f45fb0a0"
      },
      "outputs": [
        {
          "output_type": "stream",
          "name": "stdout",
          "text": [
            "Drive already mounted at /content/drive; to attempt to forcibly remount, call drive.mount(\"/content/drive\", force_remount=True).\n"
          ]
        }
      ],
      "source": [
        "from google.colab import drive\n",
        "drive.mount('/content/drive')"
      ]
    },
    {
      "cell_type": "code",
      "execution_count": 7,
      "metadata": {
        "colab": {
          "base_uri": "https://localhost:8080/"
        },
        "id": "yCNWCp9QFFCr",
        "outputId": "24b06bc4-46f4-4960-f1be-091a9cdfc93c"
      },
      "outputs": [
        {
          "output_type": "stream",
          "name": "stdout",
          "text": [
            "/content/drive/MyDrive/CerviCure.v2i.yolov8\n"
          ]
        }
      ],
      "source": [
        "%cd /content/drive/MyDrive/CerviCure.v2i.yolov8"
      ]
    },
    {
      "cell_type": "code",
      "execution_count": 16,
      "metadata": {
        "colab": {
          "base_uri": "https://localhost:8080/"
        },
        "id": "_SVgPMhwYgGU",
        "outputId": "ac064a3e-73f6-47f8-a0f9-55a4710b88fc"
      },
      "outputs": [
        {
          "output_type": "stream",
          "name": "stdout",
          "text": [
            "WARNING ⚠️ 'source' argument is missing. Using default 'source=/usr/local/lib/python3.10/dist-packages/ultralytics/assets'.\n",
            "Ultralytics YOLOv8.2.100 🚀 Python-3.10.12 torch-2.4.1+cu121 CUDA:0 (Tesla T4, 15102MiB)\n",
            "Traceback (most recent call last):\n",
            "  File \"/usr/local/bin/yolo\", line 8, in <module>\n",
            "    sys.exit(entrypoint())\n",
            "  File \"/usr/local/lib/python3.10/dist-packages/ultralytics/cfg/__init__.py\", line 831, in entrypoint\n",
            "    getattr(model, mode)(**overrides)  # default args from model\n",
            "  File \"/usr/local/lib/python3.10/dist-packages/ultralytics/engine/model.py\", line 548, in predict\n",
            "    self.predictor.setup_model(model=self.model, verbose=is_cli)\n",
            "  File \"/usr/local/lib/python3.10/dist-packages/ultralytics/engine/predictor.py\", line 303, in setup_model\n",
            "    self.model = AutoBackend(\n",
            "  File \"/usr/local/lib/python3.10/dist-packages/torch/utils/_contextlib.py\", line 116, in decorate_context\n",
            "    return func(*args, **kwargs)\n",
            "  File \"/usr/local/lib/python3.10/dist-packages/ultralytics/nn/autobackend.py\", line 400, in __init__\n",
            "    raise TypeError(\n",
            "TypeError: model='/content/drive/MyDrive/CerviCure.v2i.yolov8/valid/images' is not a supported model format. Ultralytics supports: ('PyTorch', 'TorchScript', 'ONNX', 'OpenVINO', 'TensorRT', 'CoreML', 'TensorFlow SavedModel', 'TensorFlow GraphDef', 'TensorFlow Lite', 'TensorFlow Edge TPU', 'TensorFlow.js', 'PaddlePaddle', 'NCNN')\n",
            "See https://docs.ultralytics.com/modes/predict for help.\n"
          ]
        }
      ],
      "source": [
        "!yolo task=detect mode=predict model= /content/drive/MyDrive/CerviCure.v2i.yolov8/valid/images save=True"
      ]
    },
    {
      "cell_type": "code",
      "execution_count": null,
      "metadata": {
        "id": "8P5eC75NYyoF"
      },
      "outputs": [],
      "source": []
    },
    {
      "cell_type": "code",
      "execution_count": 8,
      "metadata": {
        "id": "ft51y9_cIvM9"
      },
      "outputs": [],
      "source": [
        "import locale\n"
      ]
    },
    {
      "cell_type": "code",
      "execution_count": 9,
      "metadata": {
        "id": "1g1iYLXsIxO2"
      },
      "outputs": [],
      "source": [
        "locale.getpreferredencoding = lambda: \"UTF-8\"\n"
      ]
    },
    {
      "cell_type": "code",
      "execution_count": 18,
      "metadata": {
        "id": "XBq5zXiM1CiK",
        "colab": {
          "base_uri": "https://localhost:8080/"
        },
        "outputId": "cb042993-aaf7-4e0f-d75e-25877390eb90"
      },
      "outputs": [
        {
          "output_type": "stream",
          "name": "stdout",
          "text": [
            "class Dyskeratosis_in_HSIL(object):\n",
            "  def __init__(self, id=0):\n",
            "    self.id = id\n",
            "\n",
            "class Dyskeratosis_in_SCC(object):\n",
            "  def __init__(self, id=1):\n",
            "    self.id = id\n",
            "\n",
            "class Intermediate_Squamous(object):\n",
            "  def __init__(self, id=2):\n",
            "    self.id = id\n",
            "\n",
            "class Koilocytosis_in_Cancer(object):\n",
            "  def __init__(self, id=3):\n",
            "    self.id = id\n",
            "\n",
            "class Metaplastic(object):\n",
            "  def __init__(self, id=4):\n",
            "    self.id = id\n",
            "\n",
            "class Mild_Koilocytosis(object):\n",
            "  def __init__(self, id=5):\n",
            "    self.id = id\n",
            "\n",
            "class Parabasal(object):\n",
            "  def __init__(self, id=6):\n",
            "    self.id = id\n",
            "\n",
            "class Severe_Koilocytosis(object):\n",
            "  def __init__(self, id=7):\n",
            "    self.id = id\n",
            "\n",
            "class Superficial_Squamous(object):\n",
            "  def __init__(self, id=8):\n",
            "    self.id = id\n",
            "\n",
            "\n"
          ]
        }
      ],
      "source": [
        "import os\n",
        "\n",
        "def generate_classes_code(data_yaml_path):\n",
        "  \"\"\"Generates Python code for classes based on the 'names' field in a YOLO data.yaml file.\n",
        "\n",
        "  Args:\n",
        "    data_yaml_path: Path to the data.yaml file.\n",
        "  \"\"\"\n",
        "\n",
        "  with open(data_yaml_path, 'r') as f:\n",
        "    data_yaml = f.read()\n",
        "\n",
        "  lines = data_yaml.splitlines()\n",
        "  for line in lines:\n",
        "    if 'names:' in line:\n",
        "      class_names_str = line.split(':')[1].strip()\n",
        "      class_names = [name.strip().replace(\"'\", \"\") for name in class_names_str.strip('[]').split(',')]\n",
        "\n",
        "      class_code = \"\"\n",
        "      for i, class_name in enumerate(class_names):\n",
        "        class_code += f\"class {class_name.replace(' ', '_')}(object):\\n\"\n",
        "        class_code += f\"  def __init__(self, id={i}):\\n\"\n",
        "        class_code += f\"    self.id = id\\n\"\n",
        "        class_code += \"\\n\"\n",
        "      return class_code\n",
        "\n",
        "data_yaml_path = '/content/drive/MyDrive/CerviCure.v2i.yolov8/data.yaml'\n",
        "classes_code = generate_classes_code(data_yaml_path)\n",
        "print(classes_code)\n",
        "\n"
      ]
    },
    {
      "cell_type": "code",
      "execution_count": 11,
      "metadata": {
        "colab": {
          "base_uri": "https://localhost:8080/"
        },
        "id": "aTeE3pN3qqGj",
        "outputId": "57434c8d-3f8f-4bbe-e95e-59fed42849fb"
      },
      "outputs": [
        {
          "output_type": "stream",
          "name": "stdout",
          "text": [
            "/content/drive/MyDrive/CerviCure.v2i.yolov8/train\n",
            "Ultralytics YOLOv8.2.100 🚀 Python-3.10.12 torch-2.4.1+cu121 CUDA:0 (Tesla T4, 15102MiB)\n",
            "Model summary (fused): 218 layers, 25,844,971 parameters, 0 gradients, 78.7 GFLOPs\n",
            "\n",
            "image 1/835 /content/drive/MyDrive/CerviCure.v2i.yolov8/valid/images/001_02_bmp.rf.a27862b4ebee41d523b7d1c7685f6e28.jpg: 640x640 1 Dyskeratosis in HSIL, 36.3ms\n",
            "image 2/835 /content/drive/MyDrive/CerviCure.v2i.yolov8/valid/images/001_03_bmp.rf.87796d6f956b3fb0597e256abf512b19.jpg: 640x640 1 Dyskeratosis in HSIL, 36.2ms\n",
            "image 3/835 /content/drive/MyDrive/CerviCure.v2i.yolov8/valid/images/001_04_bmp.rf.da98f31e0edcd21c3c65b5b3fddaf83d.jpg: 640x640 1 Mild Koilocytosis, 36.2ms\n",
            "image 4/835 /content/drive/MyDrive/CerviCure.v2i.yolov8/valid/images/001_05_bmp.rf.9d9c24d7a333e5c167e18620880ff10d.jpg: 640x640 1 Metaplastic, 36.3ms\n",
            "image 5/835 /content/drive/MyDrive/CerviCure.v2i.yolov8/valid/images/001_07_bmp.rf.da648805a48c9e5fa460bc51595cf6a0.jpg: 640x640 1 Parabasal, 36.2ms\n",
            "image 6/835 /content/drive/MyDrive/CerviCure.v2i.yolov8/valid/images/001_08_bmp.rf.8e5749ff0c6b6f64da99c507053d0fef.jpg: 640x640 1 Metaplastic, 35.6ms\n",
            "image 7/835 /content/drive/MyDrive/CerviCure.v2i.yolov8/valid/images/001_09_bmp.rf.43e395224c99f01d3c9bd6ef9b405395.jpg: 640x640 1 Parabasal, 22.6ms\n",
            "image 8/835 /content/drive/MyDrive/CerviCure.v2i.yolov8/valid/images/001_12_bmp.rf.95e02ac0d09d59928e20a64280878b4b.jpg: 640x640 1 Metaplastic, 22.6ms\n",
            "image 9/835 /content/drive/MyDrive/CerviCure.v2i.yolov8/valid/images/001_13_bmp.rf.206fb8cbf4f44e9b2c8af024753491fa.jpg: 640x640 1 Severe Koilocytosis, 22.4ms\n",
            "image 10/835 /content/drive/MyDrive/CerviCure.v2i.yolov8/valid/images/001_13_bmp.rf.677cde4155fa1def66b425d5da99ea4b.jpg: 640x640 1 Parabasal, 36.3ms\n",
            "image 11/835 /content/drive/MyDrive/CerviCure.v2i.yolov8/valid/images/002_01_bmp.rf.c3af7e99e3c2c7a1338cb1e16d92ae64.jpg: 640x640 1 Parabasal, 36.2ms\n",
            "image 12/835 /content/drive/MyDrive/CerviCure.v2i.yolov8/valid/images/002_03_bmp.rf.23b97115bc9fca6ded49cac0021dec97.jpg: 640x640 1 Dyskeratosis in HSIL, 1 Dyskeratosis in SCC, 36.2ms\n",
            "image 13/835 /content/drive/MyDrive/CerviCure.v2i.yolov8/valid/images/002_04_bmp.rf.8758c65261499c823a67d40d6dabd2d3.jpg: 640x640 1 Intermediate Squamous, 1 Parabasal, 28.0ms\n",
            "image 14/835 /content/drive/MyDrive/CerviCure.v2i.yolov8/valid/images/002_06_bmp.rf.a9507a668f52b30e3d0e731feb18d4a1.jpg: 640x640 1 Dyskeratosis in HSIL, 27.2ms\n",
            "image 15/835 /content/drive/MyDrive/CerviCure.v2i.yolov8/valid/images/002_08_bmp.rf.916b578ab01b547a06db2e69f5463df2.jpg: 640x640 1 Metaplastic, 26.9ms\n",
            "image 16/835 /content/drive/MyDrive/CerviCure.v2i.yolov8/valid/images/002_15_bmp.rf.237b767b040a20c2edfce037b5fbe2ea.jpg: 640x640 1 Metaplastic, 26.9ms\n",
            "image 17/835 /content/drive/MyDrive/CerviCure.v2i.yolov8/valid/images/003_01_bmp.rf.415c4745f3e4d316e44d94250f18eae2.jpg: 640x640 1 Metaplastic, 1 Mild Koilocytosis, 22.0ms\n",
            "image 18/835 /content/drive/MyDrive/CerviCure.v2i.yolov8/valid/images/003_03_bmp.rf.20e7837de28ff157a00e52ec5a23670b.jpg: 640x640 1 Parabasal, 20.6ms\n",
            "image 19/835 /content/drive/MyDrive/CerviCure.v2i.yolov8/valid/images/003_09_bmp.rf.51c07c2e160d3eea422cd4f668d12f87.jpg: 640x640 1 Parabasal, 20.6ms\n",
            "image 20/835 /content/drive/MyDrive/CerviCure.v2i.yolov8/valid/images/003_11_bmp.rf.363256343c1375643068bc4a064b0730.jpg: 640x640 1 Parabasal, 20.2ms\n",
            "image 21/835 /content/drive/MyDrive/CerviCure.v2i.yolov8/valid/images/003_11_bmp.rf.dddf6b69c95b04cc9d84ea3db89b302e.jpg: 640x640 1 Dyskeratosis in HSIL, 20.2ms\n",
            "image 22/835 /content/drive/MyDrive/CerviCure.v2i.yolov8/valid/images/004_01_bmp.rf.14e6b6eb0c5f6bee0c6b7a4c0e895e80.jpg: 640x640 1 Dyskeratosis in HSIL, 20.1ms\n",
            "image 23/835 /content/drive/MyDrive/CerviCure.v2i.yolov8/valid/images/004_06_bmp.rf.12c37cf9e1ad2664b7891d8e4bae45be.jpg: 640x640 1 Intermediate Squamous, 18.7ms\n",
            "image 24/835 /content/drive/MyDrive/CerviCure.v2i.yolov8/valid/images/004_09_bmp.rf.252903fe0e00aab39fd254c509a68073.jpg: 640x640 1 Superficial Squamous, 18.9ms\n",
            "image 25/835 /content/drive/MyDrive/CerviCure.v2i.yolov8/valid/images/004_12_bmp.rf.d4cd9bfa7bf0849848cdd4363b8ca34d.jpg: 640x640 1 Superficial Squamous, 17.5ms\n",
            "image 26/835 /content/drive/MyDrive/CerviCure.v2i.yolov8/valid/images/004_13_bmp.rf.505869cfe265298fe86c69c2e5808b03.jpg: 640x640 1 Parabasal, 18.3ms\n",
            "image 27/835 /content/drive/MyDrive/CerviCure.v2i.yolov8/valid/images/005_01_bmp.rf.d7d31e622703addc672e9743f322d94e.jpg: 640x640 1 Superficial Squamous, 19.4ms\n",
            "image 28/835 /content/drive/MyDrive/CerviCure.v2i.yolov8/valid/images/005_05_bmp.rf.7536204e76a50d3e66ff7b82b8d339bf.jpg: 640x640 1 Dyskeratosis in HSIL, 1 Dyskeratosis in SCC, 18.7ms\n",
            "image 29/835 /content/drive/MyDrive/CerviCure.v2i.yolov8/valid/images/005_05_bmp.rf.edfedb6ecfd3c6cedb3cbb7ec35c636c.jpg: 640x640 1 Intermediate Squamous, 1 Superficial Squamous, 18.1ms\n",
            "image 30/835 /content/drive/MyDrive/CerviCure.v2i.yolov8/valid/images/006_01_bmp.rf.9fc1b2a649beba72ccd5bb195b7fbd7a.jpg: 640x640 1 Superficial Squamous, 17.9ms\n",
            "image 31/835 /content/drive/MyDrive/CerviCure.v2i.yolov8/valid/images/006_05_bmp.rf.2b2d8f93915f7dcb391dfc523a84cfeb.jpg: 640x640 1 Intermediate Squamous, 19.0ms\n",
            "image 32/835 /content/drive/MyDrive/CerviCure.v2i.yolov8/valid/images/006_05_bmp.rf.62607aac6e640cf2f1cf69da7da0d77d.jpg: 640x640 1 Dyskeratosis in HSIL, 19.4ms\n",
            "image 33/835 /content/drive/MyDrive/CerviCure.v2i.yolov8/valid/images/006_07_bmp.rf.7349c6a84ff439d7d51a897fc3eb8006.jpg: 640x640 1 Superficial Squamous, 18.5ms\n",
            "image 34/835 /content/drive/MyDrive/CerviCure.v2i.yolov8/valid/images/006_bmp.rf.aee45d3ea28fb0d1eb14d9befd87f608.jpg: 640x640 8 Intermediate Squamouss, 2 Superficial Squamouss, 17.3ms\n",
            "image 35/835 /content/drive/MyDrive/CerviCure.v2i.yolov8/valid/images/007_01_bmp.rf.4252c3f2ea1ef4166082ab7bc38a6a7e.jpg: 640x640 1 Severe Koilocytosis, 18.3ms\n",
            "image 36/835 /content/drive/MyDrive/CerviCure.v2i.yolov8/valid/images/007_04_bmp.rf.b4a13478be872650ffbd0f6bdd51380d.jpg: 640x640 1 Superficial Squamous, 18.9ms\n",
            "image 37/835 /content/drive/MyDrive/CerviCure.v2i.yolov8/valid/images/007_05_bmp.rf.1283944b192971586c7d8bde1162729a.jpg: 640x640 1 Superficial Squamous, 18.1ms\n",
            "image 38/835 /content/drive/MyDrive/CerviCure.v2i.yolov8/valid/images/007_06_bmp.rf.071b5b64396bd77ddea524ac8434529b.jpg: 640x640 1 Intermediate Squamous, 18.5ms\n",
            "image 39/835 /content/drive/MyDrive/CerviCure.v2i.yolov8/valid/images/007_08_bmp.rf.5d4deebc2a0515b47125a20cfc829dcc.jpg: 640x640 1 Intermediate Squamous, 1 Metaplastic, 19.3ms\n",
            "image 40/835 /content/drive/MyDrive/CerviCure.v2i.yolov8/valid/images/007_09_bmp.rf.ff653494c138688084776838be878a90.jpg: 640x640 1 Superficial Squamous, 18.5ms\n",
            "image 41/835 /content/drive/MyDrive/CerviCure.v2i.yolov8/valid/images/007_13_bmp.rf.4be38b25e06637837137cd3956cd3f4f.jpg: 640x640 1 Superficial Squamous, 17.9ms\n",
            "image 42/835 /content/drive/MyDrive/CerviCure.v2i.yolov8/valid/images/007_15_bmp.rf.cf37290118a427862dfe7fbaa69a507c.jpg: 640x640 1 Intermediate Squamous, 19.0ms\n",
            "image 43/835 /content/drive/MyDrive/CerviCure.v2i.yolov8/valid/images/007_16_bmp.rf.21c102068f5cb5ffef67314209482302.jpg: 640x640 1 Metaplastic, 18.3ms\n",
            "image 44/835 /content/drive/MyDrive/CerviCure.v2i.yolov8/valid/images/007_bmp.rf.8949a13696ca0b8ecdef1f05e0e825f6.jpg: 640x640 20 Intermediate Squamouss, 7 Superficial Squamouss, 17.7ms\n",
            "image 45/835 /content/drive/MyDrive/CerviCure.v2i.yolov8/valid/images/008_03_bmp.rf.4491e1963d93e8680232943d39e568dc.jpg: 640x640 1 Dyskeratosis in HSIL, 18.2ms\n",
            "image 46/835 /content/drive/MyDrive/CerviCure.v2i.yolov8/valid/images/008_06_bmp.rf.fce07f8f19ff45c4b166afffda12bd29.jpg: 640x640 1 Intermediate Squamous, 18.7ms\n",
            "image 47/835 /content/drive/MyDrive/CerviCure.v2i.yolov8/valid/images/008_07_bmp.rf.8ccf126790c75754ebfb781c92e76ea5.jpg: 640x640 1 Intermediate Squamous, 18.8ms\n",
            "image 48/835 /content/drive/MyDrive/CerviCure.v2i.yolov8/valid/images/008_09_bmp.rf.b374abf1738cd8ef33babd2957def359.jpg: 640x640 1 Superficial Squamous, 18.3ms\n",
            "image 49/835 /content/drive/MyDrive/CerviCure.v2i.yolov8/valid/images/009_03_bmp.rf.32df47e825ff17f01b71d1b907933fcb.jpg: 640x640 1 Parabasal, 18.0ms\n",
            "image 50/835 /content/drive/MyDrive/CerviCure.v2i.yolov8/valid/images/009_09_bmp.rf.94e987bc30aa1a1c7b14ad1193480e23.jpg: 640x640 1 Dyskeratosis in HSIL, 18.4ms\n",
            "image 51/835 /content/drive/MyDrive/CerviCure.v2i.yolov8/valid/images/010_01_bmp.rf.4917236748651473d1ff4d7020a8bcb1.jpg: 640x640 1 Parabasal, 20.2ms\n",
            "image 52/835 /content/drive/MyDrive/CerviCure.v2i.yolov8/valid/images/010_02_bmp.rf.29eef68f1c2994a762d7b4d2565c3887.jpg: 640x640 1 Superficial Squamous, 17.7ms\n",
            "image 53/835 /content/drive/MyDrive/CerviCure.v2i.yolov8/valid/images/010_03_bmp.rf.0f252b1d50e8df323bd4883cc38227b6.jpg: 640x640 1 Parabasal, 18.3ms\n",
            "image 54/835 /content/drive/MyDrive/CerviCure.v2i.yolov8/valid/images/010_04_bmp.rf.afb3a7de493519b836efa950f214a1e6.jpg: 640x640 1 Superficial Squamous, 19.1ms\n",
            "image 55/835 /content/drive/MyDrive/CerviCure.v2i.yolov8/valid/images/010_05_bmp.rf.a7bef3976a1407832f9152f1178a66e2.jpg: 640x640 1 Intermediate Squamous, 1 Superficial Squamous, 18.5ms\n",
            "image 56/835 /content/drive/MyDrive/CerviCure.v2i.yolov8/valid/images/010_07_bmp.rf.a1769246609b6f568cfcf1e4dcc6db3f.jpg: 640x640 1 Superficial Squamous, 18.2ms\n",
            "image 57/835 /content/drive/MyDrive/CerviCure.v2i.yolov8/valid/images/010_08_bmp.rf.df0982f3b545d4927b956e5fae763f01.jpg: 640x640 1 Parabasal, 17.9ms\n",
            "image 58/835 /content/drive/MyDrive/CerviCure.v2i.yolov8/valid/images/010_08_bmp.rf.f2ab602ff6bfb226b5eb7f8c12afaafb.jpg: 640x640 1 Superficial Squamous, 18.3ms\n",
            "image 59/835 /content/drive/MyDrive/CerviCure.v2i.yolov8/valid/images/010_09_bmp.rf.962d4ddd782f09fc29be68675fb1b34b.jpg: 640x640 1 Superficial Squamous, 19.6ms\n",
            "image 60/835 /content/drive/MyDrive/CerviCure.v2i.yolov8/valid/images/010_10_bmp.rf.50429a5bd80d288d8e621e9ee0b8fe0e.jpg: 640x640 1 Parabasal, 19.0ms\n",
            "image 61/835 /content/drive/MyDrive/CerviCure.v2i.yolov8/valid/images/010_11_bmp.rf.f372a2b90fee80bb8aa66c91766c7efa.jpg: 640x640 1 Superficial Squamous, 17.4ms\n",
            "image 62/835 /content/drive/MyDrive/CerviCure.v2i.yolov8/valid/images/011_02_bmp.rf.4b234ac26afd4df5a9cc513b28ee3272.jpg: 640x640 1 Metaplastic, 18.2ms\n",
            "image 63/835 /content/drive/MyDrive/CerviCure.v2i.yolov8/valid/images/011_02_bmp.rf.def6384a089d7ae2dbdc8972361a19c5.jpg: 640x640 1 Superficial Squamous, 17.9ms\n",
            "image 64/835 /content/drive/MyDrive/CerviCure.v2i.yolov8/valid/images/011_02_bmp.rf.e8a91ffa665984f22b08556104b2650a.jpg: 640x640 1 Mild Koilocytosis, 18.6ms\n",
            "image 65/835 /content/drive/MyDrive/CerviCure.v2i.yolov8/valid/images/011_06_bmp.rf.5f33c3c183e6e37e0bafbdbe34500409.jpg: 640x640 1 Dyskeratosis in HSIL, 19.1ms\n",
            "image 66/835 /content/drive/MyDrive/CerviCure.v2i.yolov8/valid/images/011_09_bmp.rf.8598a2c62fd21f1b3ae1fa0414ccb63b.jpg: 640x640 1 Parabasal, 18.5ms\n",
            "image 67/835 /content/drive/MyDrive/CerviCure.v2i.yolov8/valid/images/011_10_bmp.rf.c05e54b4af06c7d5b9aa6c1c704265c2.jpg: 640x640 1 Dyskeratosis in HSIL, 18.0ms\n",
            "image 68/835 /content/drive/MyDrive/CerviCure.v2i.yolov8/valid/images/012_01_bmp.rf.62d40d4e90aa30ee5dea0b41bab7f2de.jpg: 640x640 1 Parabasal, 19.3ms\n",
            "image 69/835 /content/drive/MyDrive/CerviCure.v2i.yolov8/valid/images/012_05_bmp.rf.e6946d10d49d385a971ae29e0e38d777.jpg: 640x640 1 Parabasal, 17.8ms\n",
            "image 70/835 /content/drive/MyDrive/CerviCure.v2i.yolov8/valid/images/012_06_bmp.rf.a5e8739560be2625a1c51262cff28e02.jpg: 640x640 1 Parabasal, 18.0ms\n",
            "image 71/835 /content/drive/MyDrive/CerviCure.v2i.yolov8/valid/images/012_bmp.rf.b0a6dbdc82f2615cd35ef659d7abb232.jpg: 640x640 4 Intermediate Squamouss, 2 Superficial Squamouss, 19.6ms\n",
            "image 72/835 /content/drive/MyDrive/CerviCure.v2i.yolov8/valid/images/013_01_bmp.rf.931671e3ee7667c3f3e1a7f77a2d46c7.jpg: 640x640 1 Dyskeratosis in HSIL, 18.9ms\n",
            "image 73/835 /content/drive/MyDrive/CerviCure.v2i.yolov8/valid/images/013_01_bmp.rf.fa363b1348a3e4d4340b0e672c67aaff.jpg: 640x640 1 Mild Koilocytosis, 18.4ms\n",
            "image 74/835 /content/drive/MyDrive/CerviCure.v2i.yolov8/valid/images/013_02_bmp.rf.b50ccd3d75a1e4489778d0dfdbadab14.jpg: 640x640 1 Mild Koilocytosis, 18.5ms\n",
            "image 75/835 /content/drive/MyDrive/CerviCure.v2i.yolov8/valid/images/013_03_bmp.rf.d407f904a63c41e59e1ba5669ea75793.jpg: 640x640 1 Dyskeratosis in HSIL, 19.2ms\n",
            "image 76/835 /content/drive/MyDrive/CerviCure.v2i.yolov8/valid/images/013_03_bmp.rf.f9acdf77e975e096980179851eac56d1.jpg: 640x640 1 Parabasal, 19.1ms\n",
            "image 77/835 /content/drive/MyDrive/CerviCure.v2i.yolov8/valid/images/013_04_bmp.rf.28a734ff9e5af26159a7ba0f4df08b51.jpg: 640x640 1 Metaplastic, 1 Mild Koilocytosis, 18.6ms\n",
            "image 78/835 /content/drive/MyDrive/CerviCure.v2i.yolov8/valid/images/014_03_bmp.rf.f2bf0f69f92287e26748a52a30062d5f.jpg: 640x640 1 Parabasal, 17.5ms\n",
            "image 79/835 /content/drive/MyDrive/CerviCure.v2i.yolov8/valid/images/014_04_bmp.rf.3e447c752b01f3a66e8e9d7c57d5061a.jpg: 640x640 1 Parabasal, 18.5ms\n",
            "image 80/835 /content/drive/MyDrive/CerviCure.v2i.yolov8/valid/images/014_04_bmp.rf.af2863bff9f9143e54f43a6a952b0bf5.jpg: 640x640 1 Dyskeratosis in HSIL, 18.4ms\n",
            "image 81/835 /content/drive/MyDrive/CerviCure.v2i.yolov8/valid/images/014_05_bmp.rf.8e0064df2b648f83cf3b4165fde99417.jpg: 640x640 1 Superficial Squamous, 18.1ms\n",
            "image 82/835 /content/drive/MyDrive/CerviCure.v2i.yolov8/valid/images/015_01_bmp.rf.56621deee4cd2b7a1ef63d9ac1d8e2b5.jpg: 640x640 1 Metaplastic, 18.6ms\n",
            "image 83/835 /content/drive/MyDrive/CerviCure.v2i.yolov8/valid/images/015_01_bmp.rf.58a371e9ffcbb132d4701175dff43449.jpg: 640x640 1 Metaplastic, 1 Severe Koilocytosis, 18.8ms\n",
            "image 84/835 /content/drive/MyDrive/CerviCure.v2i.yolov8/valid/images/015_02_bmp.rf.a022b7d9a7b4e07f012721a192948fc4.jpg: 640x640 1 Metaplastic, 19.6ms\n",
            "image 85/835 /content/drive/MyDrive/CerviCure.v2i.yolov8/valid/images/015_04_bmp.rf.f7827a0c732b1de37430b3443d501c38.jpg: 640x640 1 Superficial Squamous, 18.9ms\n",
            "image 86/835 /content/drive/MyDrive/CerviCure.v2i.yolov8/valid/images/015_05_bmp.rf.3764c7d5c1e3f7435895768aec188ffc.jpg: 640x640 1 Metaplastic, 1 Mild Koilocytosis, 18.3ms\n",
            "image 87/835 /content/drive/MyDrive/CerviCure.v2i.yolov8/valid/images/015_06_bmp.rf.69b2c7de623b0ec4603293691622ab1e.jpg: 640x640 1 Parabasal, 18.4ms\n",
            "image 88/835 /content/drive/MyDrive/CerviCure.v2i.yolov8/valid/images/016_01_bmp.rf.3c9e0be0a73a6584c2f6c185051315e1.jpg: 640x640 1 Metaplastic, 18.3ms\n",
            "image 89/835 /content/drive/MyDrive/CerviCure.v2i.yolov8/valid/images/016_03_bmp.rf.5376720cb17ea326bc908a668ce3ef74.jpg: 640x640 1 Mild Koilocytosis, 1 Parabasal, 17.9ms\n",
            "image 90/835 /content/drive/MyDrive/CerviCure.v2i.yolov8/valid/images/016_03_bmp.rf.e05f01e55378eb41dd9ef3e88e098fed.jpg: 640x640 1 Metaplastic, 18.2ms\n",
            "image 91/835 /content/drive/MyDrive/CerviCure.v2i.yolov8/valid/images/016_04_bmp.rf.1434d8c36ef287e5b5b5105310972f3c.jpg: 640x640 1 Parabasal, 18.3ms\n",
            "image 92/835 /content/drive/MyDrive/CerviCure.v2i.yolov8/valid/images/016_05_bmp.rf.0f2acda019c2bc922e70da017435608e.jpg: 640x640 1 Metaplastic, 18.8ms\n",
            "image 93/835 /content/drive/MyDrive/CerviCure.v2i.yolov8/valid/images/017_01_bmp.rf.eea1a5142811b5ca86e88a99c6faa267.jpg: 640x640 1 Metaplastic, 19.5ms\n",
            "image 94/835 /content/drive/MyDrive/CerviCure.v2i.yolov8/valid/images/017_02_bmp.rf.d4e8c88e7989f30298658e72a83222d3.jpg: 640x640 1 Metaplastic, 18.9ms\n",
            "image 95/835 /content/drive/MyDrive/CerviCure.v2i.yolov8/valid/images/017_10_bmp.rf.2a4c0c299ac79ef8d905579040e70214.jpg: 640x640 1 Intermediate Squamous, 18.3ms\n",
            "image 96/835 /content/drive/MyDrive/CerviCure.v2i.yolov8/valid/images/017_13_bmp.rf.c91d7f5aef5ab42675697bc6d781210e.jpg: 640x640 1 Intermediate Squamous, 18.6ms\n",
            "image 97/835 /content/drive/MyDrive/CerviCure.v2i.yolov8/valid/images/018_01_bmp.rf.4a0857dc0a1a92c14274017ed240d823.jpg: 640x640 1 Parabasal, 18.0ms\n",
            "image 98/835 /content/drive/MyDrive/CerviCure.v2i.yolov8/valid/images/018_02_bmp.rf.9083055e4a1321693d3d2d6f1ac78fac.jpg: 640x640 1 Intermediate Squamous, 17.5ms\n",
            "image 99/835 /content/drive/MyDrive/CerviCure.v2i.yolov8/valid/images/018_03_bmp.rf.16dc8e346f95e80abd58b19441df8365.jpg: 640x640 1 Parabasal, 19.3ms\n",
            "image 100/835 /content/drive/MyDrive/CerviCure.v2i.yolov8/valid/images/018_05_bmp.rf.8a006c848cb0dfef2a65b0f28c495a9b.jpg: 640x640 1 Parabasal, 19.3ms\n",
            "image 101/835 /content/drive/MyDrive/CerviCure.v2i.yolov8/valid/images/019_02_bmp.rf.73f4de2511a4bc12e6375d8875189201.jpg: 640x640 1 Dyskeratosis in HSIL, 18.5ms\n",
            "image 102/835 /content/drive/MyDrive/CerviCure.v2i.yolov8/valid/images/019_03_bmp.rf.ebca04bd2e35b9c897d8d42a2d231fa9.jpg: 640x640 1 Mild Koilocytosis, 18.9ms\n",
            "image 103/835 /content/drive/MyDrive/CerviCure.v2i.yolov8/valid/images/019_04_bmp.rf.cf268d37d707d371bbcc8b1a1a393ce2.jpg: 640x640 1 Parabasal, 19.8ms\n",
            "image 104/835 /content/drive/MyDrive/CerviCure.v2i.yolov8/valid/images/019_05_bmp.rf.8aafce9abb3fad1c7d6b67f781a77831.jpg: 640x640 1 Parabasal, 18.9ms\n",
            "image 105/835 /content/drive/MyDrive/CerviCure.v2i.yolov8/valid/images/019_10_bmp.rf.277b39438c75ed13fe1c32b572119095.jpg: 640x640 1 Parabasal, 18.1ms\n",
            "image 106/835 /content/drive/MyDrive/CerviCure.v2i.yolov8/valid/images/019_10_bmp.rf.629fb88da1a2d0444d7d3bc982fa0416.jpg: 640x640 1 Intermediate Squamous, 18.4ms\n",
            "image 107/835 /content/drive/MyDrive/CerviCure.v2i.yolov8/valid/images/019_11_bmp.rf.cf81dee80979d4fc8a72930dc408ce81.jpg: 640x640 1 Parabasal, 18.3ms\n",
            "image 108/835 /content/drive/MyDrive/CerviCure.v2i.yolov8/valid/images/019_bmp.rf.7e02dacabb4a96a930db5d69c4f102cc.jpg: 640x640 10 Intermediate Squamouss, 8 Superficial Squamouss, 17.7ms\n",
            "image 109/835 /content/drive/MyDrive/CerviCure.v2i.yolov8/valid/images/020_01_bmp.rf.8b85c274b4ca6118c9606ece6ed5e48b.jpg: 640x640 1 Parabasal, 18.6ms\n",
            "image 110/835 /content/drive/MyDrive/CerviCure.v2i.yolov8/valid/images/020_03_bmp.rf.6ac98644f7446d1b5b6e754fc6243308.jpg: 640x640 1 Parabasal, 18.5ms\n",
            "image 111/835 /content/drive/MyDrive/CerviCure.v2i.yolov8/valid/images/020_04_bmp.rf.905313343e8cdd3a2e3c783f54954db1.jpg: 640x640 1 Parabasal, 19.4ms\n",
            "image 112/835 /content/drive/MyDrive/CerviCure.v2i.yolov8/valid/images/020_05_bmp.rf.1237f5bb581bbb70410022b811785008.jpg: 640x640 1 Parabasal, 18.7ms\n",
            "image 113/835 /content/drive/MyDrive/CerviCure.v2i.yolov8/valid/images/020_05_bmp.rf.22cc005f4c3267679b071ab3923cd35a.jpg: 640x640 1 Superficial Squamous, 18.4ms\n",
            "image 114/835 /content/drive/MyDrive/CerviCure.v2i.yolov8/valid/images/020_07_bmp.rf.fffa3fed8962321c929bad22db09790f.jpg: 640x640 1 Intermediate Squamous, 20.0ms\n",
            "image 115/835 /content/drive/MyDrive/CerviCure.v2i.yolov8/valid/images/020_12_bmp.rf.1af2a70f710084eb207602249d95d880.jpg: 640x640 1 Superficial Squamous, 19.3ms\n",
            "image 116/835 /content/drive/MyDrive/CerviCure.v2i.yolov8/valid/images/021_01_bmp.rf.47eafe8a3cab0afb66b023ec40db630d.jpg: 640x640 1 Parabasal, 17.5ms\n",
            "image 117/835 /content/drive/MyDrive/CerviCure.v2i.yolov8/valid/images/021_01_bmp.rf.55695324fe686edcf96f119439f2fc41.jpg: 640x640 1 Mild Koilocytosis, 1 Severe Koilocytosis, 19.0ms\n",
            "image 118/835 /content/drive/MyDrive/CerviCure.v2i.yolov8/valid/images/021_04_bmp.rf.ef12e8d88a2989134d443ad174493931.jpg: 640x640 1 Superficial Squamous, 18.4ms\n",
            "image 119/835 /content/drive/MyDrive/CerviCure.v2i.yolov8/valid/images/021_05_bmp.rf.96cbd95df1e9073c8f2d5471e69dac62.jpg: 640x640 1 Superficial Squamous, 18.3ms\n",
            "image 120/835 /content/drive/MyDrive/CerviCure.v2i.yolov8/valid/images/021_09_bmp.rf.b506e7f551120f7fba95aa9ec8a61207.jpg: 640x640 1 Superficial Squamous, 18.4ms\n",
            "image 121/835 /content/drive/MyDrive/CerviCure.v2i.yolov8/valid/images/022_01_bmp.rf.96965c84e62e21891e7e59f4b1391dbc.jpg: 640x640 1 Dyskeratosis in SCC, 19.6ms\n",
            "image 122/835 /content/drive/MyDrive/CerviCure.v2i.yolov8/valid/images/022_03_bmp.rf.d8f3605e47a4c48b27502cf14199e09f.jpg: 640x640 1 Parabasal, 18.9ms\n",
            "image 123/835 /content/drive/MyDrive/CerviCure.v2i.yolov8/valid/images/022_05_bmp.rf.c6f7ac2ab034e74f4f5f6a9169d4490e.jpg: 640x640 1 Parabasal, 18.2ms\n",
            "image 124/835 /content/drive/MyDrive/CerviCure.v2i.yolov8/valid/images/022_bmp.rf.7c219be83c74055e80faf49bb84808c5.jpg: 640x640 26 Intermediate Squamouss, 9 Superficial Squamouss, 18.5ms\n",
            "image 125/835 /content/drive/MyDrive/CerviCure.v2i.yolov8/valid/images/023_01_bmp.rf.a8ec5fbe5eb497ec7aa072269052dff1.jpg: 640x640 1 Dyskeratosis in HSIL, 1 Dyskeratosis in SCC, 17.5ms\n",
            "image 126/835 /content/drive/MyDrive/CerviCure.v2i.yolov8/valid/images/023_02_bmp.rf.7cdef595f18cbd5eb68e402c87b36209.jpg: 640x640 1 Parabasal, 19.4ms\n",
            "image 127/835 /content/drive/MyDrive/CerviCure.v2i.yolov8/valid/images/023_03_bmp.rf.4f92d6354c88667427f50c43802f82f5.jpg: 640x640 1 Metaplastic, 19.0ms\n",
            "image 128/835 /content/drive/MyDrive/CerviCure.v2i.yolov8/valid/images/023_04_bmp.rf.defedb1e2fae532cb38c2ea8e5ed2cbb.jpg: 640x640 1 Dyskeratosis in HSIL, 18.2ms\n",
            "image 129/835 /content/drive/MyDrive/CerviCure.v2i.yolov8/valid/images/023_05_bmp.rf.87f72f9c45e108a940497f22311a3e20.jpg: 640x640 1 Metaplastic, 19.7ms\n",
            "image 130/835 /content/drive/MyDrive/CerviCure.v2i.yolov8/valid/images/023_06_bmp.rf.6fee3e4ed7ee89ea5d23cbac0e2a69f2.jpg: 640x640 1 Intermediate Squamous, 1 Superficial Squamous, 19.2ms\n",
            "image 131/835 /content/drive/MyDrive/CerviCure.v2i.yolov8/valid/images/023_09_bmp.rf.4d16df43cbd084efa54cd03bd7541ff1.jpg: 640x640 1 Superficial Squamous, 18.2ms\n",
            "image 132/835 /content/drive/MyDrive/CerviCure.v2i.yolov8/valid/images/024_01_bmp.rf.a59e4bfe67e1e08fd8d88df141f86873.jpg: 640x640 1 Metaplastic, 1 Parabasal, 18.5ms\n",
            "image 133/835 /content/drive/MyDrive/CerviCure.v2i.yolov8/valid/images/024_01_bmp.rf.e256ee38bddb40a9e2f960675e3d338c.jpg: 640x640 1 Dyskeratosis in HSIL, 19.7ms\n",
            "image 134/835 /content/drive/MyDrive/CerviCure.v2i.yolov8/valid/images/024_02_bmp.rf.30319699778a14ea19bd9101f8114fea.jpg: 640x640 1 Metaplastic, 18.0ms\n",
            "image 135/835 /content/drive/MyDrive/CerviCure.v2i.yolov8/valid/images/024_05_bmp.rf.03b1a015f41dc2aed030411494d3b504.jpg: 640x640 1 Metaplastic, 17.8ms\n",
            "image 136/835 /content/drive/MyDrive/CerviCure.v2i.yolov8/valid/images/024_06_bmp.rf.0d7b18240a111513597f0cb76b6c76d4.jpg: 640x640 1 Metaplastic, 18.7ms\n",
            "image 137/835 /content/drive/MyDrive/CerviCure.v2i.yolov8/valid/images/024_06_bmp.rf.2c41ea74705b4ddb3c3c80cad77e07bd.jpg: 640x640 1 Dyskeratosis in HSIL, 19.6ms\n",
            "image 138/835 /content/drive/MyDrive/CerviCure.v2i.yolov8/valid/images/024_bmp.rf.4138ea226c3b60124cc649cd9628edb9.jpg: 640x640 44 Intermediate Squamouss, 13 Superficial Squamouss, 18.8ms\n",
            "image 139/835 /content/drive/MyDrive/CerviCure.v2i.yolov8/valid/images/025_02_bmp.rf.e41d08f52c5d5d820eb7d726d92e083a.jpg: 640x640 1 Mild Koilocytosis, 17.5ms\n",
            "image 140/835 /content/drive/MyDrive/CerviCure.v2i.yolov8/valid/images/025_03_bmp.rf.0040ccfa6816b329350f6d851773e0b5.jpg: 640x640 1 Mild Koilocytosis, 18.6ms\n",
            "image 141/835 /content/drive/MyDrive/CerviCure.v2i.yolov8/valid/images/025_03_bmp.rf.126e4e1271cc68a137044a1f7c4977b9.jpg: 640x640 1 Metaplastic, 18.9ms\n",
            "image 142/835 /content/drive/MyDrive/CerviCure.v2i.yolov8/valid/images/025_03_bmp.rf.4f9dcf0b06cecdb3c7503cc970964f7c.jpg: 640x640 1 Dyskeratosis in HSIL, 19.0ms\n",
            "image 143/835 /content/drive/MyDrive/CerviCure.v2i.yolov8/valid/images/025_04_bmp.rf.07ab2085a53834257361593addd9e09b.jpg: 640x640 1 Metaplastic, 17.7ms\n",
            "image 144/835 /content/drive/MyDrive/CerviCure.v2i.yolov8/valid/images/025_04_bmp.rf.2126b8216a6fc095273ce3caf002ff03.jpg: 640x640 1 Parabasal, 18.1ms\n",
            "image 145/835 /content/drive/MyDrive/CerviCure.v2i.yolov8/valid/images/025_04_bmp.rf.b2b2f952ec37f01e17fab35c33de156d.jpg: 640x640 1 Mild Koilocytosis, 18.5ms\n",
            "image 146/835 /content/drive/MyDrive/CerviCure.v2i.yolov8/valid/images/025_bmp.rf.c5b144adf3662b06ed16dae1b8c797fa.jpg: 640x640 27 Intermediate Squamouss, 10 Superficial Squamouss, 19.4ms\n",
            "image 147/835 /content/drive/MyDrive/CerviCure.v2i.yolov8/valid/images/026_01_bmp.rf.91a7f765c24b6db20e0f5849a422980d.jpg: 640x640 1 Mild Koilocytosis, 17.9ms\n",
            "image 148/835 /content/drive/MyDrive/CerviCure.v2i.yolov8/valid/images/026_03_bmp.rf.ae21a35733c93dc447988d653d1c9d6f.jpg: 640x640 1 Intermediate Squamous, 18.4ms\n",
            "image 149/835 /content/drive/MyDrive/CerviCure.v2i.yolov8/valid/images/026_04_bmp.rf.f67d26afe3550bb45963e1d78c1699d3.jpg: 640x640 1 Superficial Squamous, 19.7ms\n",
            "image 150/835 /content/drive/MyDrive/CerviCure.v2i.yolov8/valid/images/026_05_bmp.rf.ad820d2fd615270c13c9d915e04c00c1.jpg: 640x640 1 Mild Koilocytosis, 19.2ms\n",
            "image 151/835 /content/drive/MyDrive/CerviCure.v2i.yolov8/valid/images/026_05_bmp.rf.eeed899af87c5835214d2061df7020ee.jpg: 640x640 1 Parabasal, 18.4ms\n",
            "image 152/835 /content/drive/MyDrive/CerviCure.v2i.yolov8/valid/images/027_01_bmp.rf.59e6d13109bb3f88eb53abe9018e68d0.jpg: 640x640 1 Parabasal, 18.3ms\n",
            "image 153/835 /content/drive/MyDrive/CerviCure.v2i.yolov8/valid/images/027_02_bmp.rf.735bf3af1d9b838830c44a0956d4a130.jpg: 640x640 1 Parabasal, 18.2ms\n",
            "image 154/835 /content/drive/MyDrive/CerviCure.v2i.yolov8/valid/images/027_03_bmp.rf.51d15f85d184fbf0352b7e14f87cc96c.jpg: 640x640 1 Superficial Squamous, 17.6ms\n",
            "image 155/835 /content/drive/MyDrive/CerviCure.v2i.yolov8/valid/images/027_05_bmp.rf.0199bd285fdd98b1a4c6fa49c26e63f2.jpg: 640x640 1 Superficial Squamous, 18.6ms\n",
            "image 156/835 /content/drive/MyDrive/CerviCure.v2i.yolov8/valid/images/027_05_bmp.rf.c236ad89df6a4e3a150b40711802d267.jpg: 640x640 1 Metaplastic, 20.0ms\n",
            "image 157/835 /content/drive/MyDrive/CerviCure.v2i.yolov8/valid/images/028_02_bmp.rf.0a3913ad414c523cc1b66e99bbdf127f.jpg: 640x640 1 Parabasal, 19.1ms\n",
            "image 158/835 /content/drive/MyDrive/CerviCure.v2i.yolov8/valid/images/028_02_bmp.rf.0ed694dbdcadcc076c0891fe617c59c1.jpg: 640x640 1 Mild Koilocytosis, 18.0ms\n",
            "image 159/835 /content/drive/MyDrive/CerviCure.v2i.yolov8/valid/images/028_03_bmp.rf.3371c3b27edf7ff1cf0a1327f95672de.jpg: 640x640 1 Parabasal, 18.7ms\n",
            "image 160/835 /content/drive/MyDrive/CerviCure.v2i.yolov8/valid/images/028_05_bmp.rf.23f7ed856f4043114745d1e172e2618c.jpg: 640x640 1 Parabasal, 18.9ms\n",
            "image 161/835 /content/drive/MyDrive/CerviCure.v2i.yolov8/valid/images/028_05_bmp.rf.83f9c72e5bc0902acf65bebddf77ced5.jpg: 640x640 1 Superficial Squamous, 18.3ms\n",
            "image 162/835 /content/drive/MyDrive/CerviCure.v2i.yolov8/valid/images/028_06_bmp.rf.493cddb09c785ff40a121cda00994761.jpg: 640x640 1 Metaplastic, 1 Parabasal, 18.2ms\n",
            "image 163/835 /content/drive/MyDrive/CerviCure.v2i.yolov8/valid/images/029_03_bmp.rf.b6a8513e849f296f19a597b0b2c6b2dc.jpg: 640x640 1 Intermediate Squamous, 1 Metaplastic, 17.3ms\n",
            "image 164/835 /content/drive/MyDrive/CerviCure.v2i.yolov8/valid/images/029_05_bmp.rf.529d628f80a30d0c816e190c5d68906c.jpg: 640x640 1 Parabasal, 18.5ms\n",
            "image 165/835 /content/drive/MyDrive/CerviCure.v2i.yolov8/valid/images/030_03_bmp.rf.a98a00e98318f1a7ce44b93a1efc9c66.jpg: 640x640 1 Intermediate Squamous, 1 Superficial Squamous, 19.1ms\n",
            "image 166/835 /content/drive/MyDrive/CerviCure.v2i.yolov8/valid/images/030_04_bmp.rf.41eb975a00f5d0f3f2495ea330c060a4.jpg: 640x640 1 Dyskeratosis in HSIL, 18.6ms\n",
            "image 167/835 /content/drive/MyDrive/CerviCure.v2i.yolov8/valid/images/030_04_bmp.rf.61b06b6cdb7ed15d20be2571dd2f40f0.jpg: 640x640 1 Parabasal, 18.5ms\n",
            "image 168/835 /content/drive/MyDrive/CerviCure.v2i.yolov8/valid/images/031_01_bmp.rf.d5640d791209abe06399514a4358dc8e.jpg: 640x640 1 Metaplastic, 18.2ms\n",
            "image 169/835 /content/drive/MyDrive/CerviCure.v2i.yolov8/valid/images/031_01_bmp.rf.f6d05865c68d4c9a8e8f749dba573323.jpg: 640x640 1 Superficial Squamous, 17.8ms\n",
            "image 170/835 /content/drive/MyDrive/CerviCure.v2i.yolov8/valid/images/031_02_bmp.rf.05ece59f0e8c403723e13924fb124fbe.jpg: 640x640 1 Dyskeratosis in HSIL, 18.3ms\n",
            "image 171/835 /content/drive/MyDrive/CerviCure.v2i.yolov8/valid/images/031_03_bmp.rf.b3aa2c898c07a7dc7ca4c6ac46e5e621.jpg: 640x640 1 Superficial Squamous, 19.7ms\n",
            "image 172/835 /content/drive/MyDrive/CerviCure.v2i.yolov8/valid/images/031_03_bmp.rf.bf36b90ca48253280a4bde92189e480f.jpg: 640x640 1 Dyskeratosis in SCC, 17.9ms\n",
            "image 173/835 /content/drive/MyDrive/CerviCure.v2i.yolov8/valid/images/031_04_bmp.rf.745dc6376a7255d59804959c075aaedd.jpg: 640x640 1 Intermediate Squamous, 1 Superficial Squamous, 17.6ms\n",
            "image 174/835 /content/drive/MyDrive/CerviCure.v2i.yolov8/valid/images/031_07_bmp.rf.d91726aa8b2700e68d962dc769ed147c.jpg: 640x640 1 Dyskeratosis in HSIL, 18.5ms\n",
            "image 175/835 /content/drive/MyDrive/CerviCure.v2i.yolov8/valid/images/031_07_bmp.rf.ee23026c26115f0c8e1393f7d8393a6f.jpg: 640x640 1 Parabasal, 18.6ms\n",
            "image 176/835 /content/drive/MyDrive/CerviCure.v2i.yolov8/valid/images/031_bmp.rf.543837970f46da9020c925df47a4fcaf.jpg: 640x640 14 Intermediate Squamouss, 11 Superficial Squamouss, 19.3ms\n",
            "image 177/835 /content/drive/MyDrive/CerviCure.v2i.yolov8/valid/images/032_01_bmp.rf.c75431ebd9f345316dd7bea3cb175ab8.jpg: 640x640 1 Dyskeratosis in HSIL, 18.1ms\n",
            "image 178/835 /content/drive/MyDrive/CerviCure.v2i.yolov8/valid/images/032_01_bmp.rf.dbe5d4e47a81d351b570ce65e9fb8e03.jpg: 640x640 1 Metaplastic, 18.9ms\n",
            "image 179/835 /content/drive/MyDrive/CerviCure.v2i.yolov8/valid/images/032_03_bmp.rf.ad058745d1b882982ec0b9d0332d296a.jpg: 640x640 1 Mild Koilocytosis, 19.1ms\n",
            "image 180/835 /content/drive/MyDrive/CerviCure.v2i.yolov8/valid/images/032_05_bmp.rf.f814429b65da43ee930cb287f8fede16.jpg: 640x640 1 Parabasal, 18.6ms\n",
            "image 181/835 /content/drive/MyDrive/CerviCure.v2i.yolov8/valid/images/032_08_bmp.rf.5644cdf2fef81070436158e70d1c88d7.jpg: 640x640 1 Superficial Squamous, 17.4ms\n",
            "image 182/835 /content/drive/MyDrive/CerviCure.v2i.yolov8/valid/images/033_01_bmp.rf.5d11522d0cdded666d71805581ca39a4.jpg: 640x640 1 Metaplastic, 20.0ms\n",
            "image 183/835 /content/drive/MyDrive/CerviCure.v2i.yolov8/valid/images/033_02_bmp.rf.50e30e54718325b2cc1270f472da6edd.jpg: 640x640 1 Parabasal, 20.0ms\n",
            "image 184/835 /content/drive/MyDrive/CerviCure.v2i.yolov8/valid/images/033_bmp.rf.d3662e244f4035fab8f770058f525a23.jpg: 640x640 41 Intermediate Squamouss, 11 Superficial Squamouss, 18.4ms\n",
            "image 185/835 /content/drive/MyDrive/CerviCure.v2i.yolov8/valid/images/034_02_bmp.rf.3d22eb6dcc130edcfbe34653e0784455.jpg: 640x640 1 Dyskeratosis in HSIL, 17.4ms\n",
            "image 186/835 /content/drive/MyDrive/CerviCure.v2i.yolov8/valid/images/034_02_bmp.rf.3fc2f7f6f6d03fb0922ab5501296ca28.jpg: 640x640 1 Parabasal, 18.9ms\n",
            "image 187/835 /content/drive/MyDrive/CerviCure.v2i.yolov8/valid/images/034_07_bmp.rf.01603eca43c4d1da478b835748dc66fb.jpg: 640x640 1 Parabasal, 18.6ms\n",
            "image 188/835 /content/drive/MyDrive/CerviCure.v2i.yolov8/valid/images/035_01_bmp.rf.2e0604cb8b732bb4302d5a1e52565cd5.jpg: 640x640 1 Parabasal, 18.6ms\n",
            "image 189/835 /content/drive/MyDrive/CerviCure.v2i.yolov8/valid/images/035_01_bmp.rf.c01188a5b4a4c58b7618047530478ded.jpg: 640x640 1 Mild Koilocytosis, 19.0ms\n",
            "image 190/835 /content/drive/MyDrive/CerviCure.v2i.yolov8/valid/images/035_02_bmp.rf.9121f8057c062e59b463648cc100ed99.jpg: 640x640 1 Parabasal, 18.0ms\n",
            "image 191/835 /content/drive/MyDrive/CerviCure.v2i.yolov8/valid/images/035_03_bmp.rf.6fdc7d3606ab226dbd8b52e8da607960.jpg: 640x640 1 Parabasal, 17.7ms\n",
            "image 192/835 /content/drive/MyDrive/CerviCure.v2i.yolov8/valid/images/035_03_bmp.rf.cd84a9fc2de67c2fd54e10875c7c25dc.jpg: 640x640 1 Superficial Squamous, 18.3ms\n",
            "image 193/835 /content/drive/MyDrive/CerviCure.v2i.yolov8/valid/images/036_02_bmp.rf.1aaa99299ba39f19c2b6e16fcb55e17a.jpg: 640x640 1 Superficial Squamous, 18.3ms\n",
            "image 194/835 /content/drive/MyDrive/CerviCure.v2i.yolov8/valid/images/036_03_bmp.rf.7add34a16b6184494a31c7a0b8775f81.jpg: 640x640 1 Superficial Squamous, 18.6ms\n",
            "image 195/835 /content/drive/MyDrive/CerviCure.v2i.yolov8/valid/images/037_01_bmp.rf.327f5dd4d4045a74964bc0923a99b493.jpg: 640x640 1 Mild Koilocytosis, 18.8ms\n",
            "image 196/835 /content/drive/MyDrive/CerviCure.v2i.yolov8/valid/images/037_02_bmp.rf.2d9534f1e0a0241d1367a8d844827925.jpg: 640x640 1 Intermediate Squamous, 1 Superficial Squamous, 19.3ms\n",
            "image 197/835 /content/drive/MyDrive/CerviCure.v2i.yolov8/valid/images/037_02_bmp.rf.497d06dac6869fe5f0616b0a239b2602.jpg: 640x640 1 Mild Koilocytosis, 18.5ms\n",
            "image 198/835 /content/drive/MyDrive/CerviCure.v2i.yolov8/valid/images/037_02_bmp.rf.609166f0b316b6b4ef67b763ea064137.jpg: 640x640 1 Dyskeratosis in HSIL, 18.7ms\n",
            "image 199/835 /content/drive/MyDrive/CerviCure.v2i.yolov8/valid/images/037_02_bmp.rf.620271697b00743ff7d08ed1b010aa7e.jpg: 640x640 1 Metaplastic, 18.4ms\n",
            "image 200/835 /content/drive/MyDrive/CerviCure.v2i.yolov8/valid/images/037_03_bmp.rf.b9b50ff11f6d7493bc9bde1443e913d2.jpg: 640x640 1 Mild Koilocytosis, 17.4ms\n",
            "image 201/835 /content/drive/MyDrive/CerviCure.v2i.yolov8/valid/images/037_04_bmp.rf.2c91035abcb3eedcfbce87e0c6b937a1.jpg: 640x640 1 Parabasal, 17.9ms\n",
            "image 202/835 /content/drive/MyDrive/CerviCure.v2i.yolov8/valid/images/038_03_bmp.rf.1682c871c2f9f65399bbf6c83f2c05ef.jpg: 640x640 1 Mild Koilocytosis, 18.7ms\n",
            "image 203/835 /content/drive/MyDrive/CerviCure.v2i.yolov8/valid/images/038_03_bmp.rf.ef7e910319b49fede5580dab655f14b3.jpg: 640x640 1 Parabasal, 19.0ms\n",
            "image 204/835 /content/drive/MyDrive/CerviCure.v2i.yolov8/valid/images/039_02_bmp.rf.e04d1240f6084249ebd0c3015541ab39.jpg: 640x640 1 Dyskeratosis in HSIL, 18.8ms\n",
            "image 205/835 /content/drive/MyDrive/CerviCure.v2i.yolov8/valid/images/039_04_bmp.rf.5d52324bcab89abf28a6f9ab2a48ae48.jpg: 640x640 1 Dyskeratosis in HSIL, 18.6ms\n",
            "image 206/835 /content/drive/MyDrive/CerviCure.v2i.yolov8/valid/images/040_01_bmp.rf.1446a58dada494c178063938e3a6f5e7.jpg: 640x640 1 Metaplastic, 18.6ms\n",
            "image 207/835 /content/drive/MyDrive/CerviCure.v2i.yolov8/valid/images/040_01_bmp.rf.59562d328c9050ddb232547f741aa84f.jpg: 640x640 1 Dyskeratosis in HSIL, 19.2ms\n",
            "image 208/835 /content/drive/MyDrive/CerviCure.v2i.yolov8/valid/images/042_01_bmp.rf.79c5c2c9e63d36cd135815678cc0044b.jpg: 640x640 1 Metaplastic, 17.8ms\n",
            "image 209/835 /content/drive/MyDrive/CerviCure.v2i.yolov8/valid/images/042_02_bmp.rf.54978278584badc1f3b305094a49d410.jpg: 640x640 1 Intermediate Squamous, 18.0ms\n",
            "image 210/835 /content/drive/MyDrive/CerviCure.v2i.yolov8/valid/images/042_02_bmp.rf.5559a6045483733ed66258ff4c8cf03d.jpg: 640x640 1 Metaplastic, 18.9ms\n",
            "image 211/835 /content/drive/MyDrive/CerviCure.v2i.yolov8/valid/images/042_02_bmp.rf.bdac2571706af95a6ab34012522b9f88.jpg: 640x640 1 Dyskeratosis in HSIL, 17.3ms\n",
            "image 212/835 /content/drive/MyDrive/CerviCure.v2i.yolov8/valid/images/042_05_bmp.rf.667570c98961aba2cc8220a3f1636013.jpg: 640x640 1 Parabasal, 17.9ms\n",
            "image 213/835 /content/drive/MyDrive/CerviCure.v2i.yolov8/valid/images/043_02_bmp.rf.a2b48763e9d8a42c5a5ebb0fa6193634.jpg: 640x640 1 Intermediate Squamous, 18.6ms\n",
            "image 214/835 /content/drive/MyDrive/CerviCure.v2i.yolov8/valid/images/043_02_bmp.rf.c2123566ba39cb64f324d5270df6fed1.jpg: 640x640 1 Mild Koilocytosis, 1 Severe Koilocytosis, 18.4ms\n",
            "image 215/835 /content/drive/MyDrive/CerviCure.v2i.yolov8/valid/images/043_03_bmp.rf.7b433d9b4d7b35f3aaeedf07e2874732.jpg: 640x640 1 Superficial Squamous, 18.0ms\n",
            "image 216/835 /content/drive/MyDrive/CerviCure.v2i.yolov8/valid/images/044_01_bmp.rf.0a2a61f6bbf69c025cc3fe148ba49b4f.jpg: 640x640 1 Dyskeratosis in HSIL, 17.5ms\n",
            "image 217/835 /content/drive/MyDrive/CerviCure.v2i.yolov8/valid/images/044_01_bmp.rf.71f13727d50a2d9ca51bfa41b6e9d924.jpg: 640x640 1 Superficial Squamous, 18.7ms\n",
            "image 218/835 /content/drive/MyDrive/CerviCure.v2i.yolov8/valid/images/044_02_bmp.rf.1c0603492c11a403b243f24a1fc62215.jpg: 640x640 1 Dyskeratosis in HSIL, 19.2ms\n",
            "image 219/835 /content/drive/MyDrive/CerviCure.v2i.yolov8/valid/images/044_03_bmp.rf.b5a3c6e7a3b99fb27846141e3c364b02.jpg: 640x640 1 Superficial Squamous, 18.6ms\n",
            "image 220/835 /content/drive/MyDrive/CerviCure.v2i.yolov8/valid/images/044_04_bmp.rf.46f8ee344caea3280bff4a74e20d50b4.jpg: 640x640 1 Superficial Squamous, 18.5ms\n",
            "image 221/835 /content/drive/MyDrive/CerviCure.v2i.yolov8/valid/images/044_05_bmp.rf.85578b73c073449d674c78fa50fb261f.jpg: 640x640 1 Parabasal, 18.0ms\n",
            "image 222/835 /content/drive/MyDrive/CerviCure.v2i.yolov8/valid/images/044_06_bmp.rf.2ee533f7fdd5949975d8a6b784a24a7e.jpg: 640x640 1 Parabasal, 18.0ms\n",
            "image 223/835 /content/drive/MyDrive/CerviCure.v2i.yolov8/valid/images/044_08_bmp.rf.c9434fef92a5dae82ddbda66bff9a622.jpg: 640x640 1 Parabasal, 18.5ms\n",
            "image 224/835 /content/drive/MyDrive/CerviCure.v2i.yolov8/valid/images/044_10_bmp.rf.2a8d7470d8976f2e63e10828f23ee920.jpg: 640x640 1 Parabasal, 17.8ms\n",
            "image 225/835 /content/drive/MyDrive/CerviCure.v2i.yolov8/valid/images/045_02_bmp.rf.8745a9679ac4917e37ff167c86bb880d.jpg: 640x640 1 Metaplastic, 18.5ms\n",
            "image 226/835 /content/drive/MyDrive/CerviCure.v2i.yolov8/valid/images/045_02_bmp.rf.b66c9d2c76a7d27911d9c130f7f0f283.jpg: 640x640 1 Severe Koilocytosis, 19.2ms\n",
            "image 227/835 /content/drive/MyDrive/CerviCure.v2i.yolov8/valid/images/045_03_bmp.rf.b8e78f70716e62cb8477190ba6064a56.jpg: 640x640 1 Superficial Squamous, 18.6ms\n",
            "image 228/835 /content/drive/MyDrive/CerviCure.v2i.yolov8/valid/images/045_04_bmp.rf.47a64314246f61b3e466d31f509a3f34.jpg: 640x640 1 Superficial Squamous, 18.2ms\n",
            "image 229/835 /content/drive/MyDrive/CerviCure.v2i.yolov8/valid/images/045_bmp.rf.d64a933572033df21a77429dcb8aef45.jpg: 640x640 12 Intermediate Squamouss, 14 Superficial Squamouss, 18.1ms\n",
            "image 230/835 /content/drive/MyDrive/CerviCure.v2i.yolov8/valid/images/046_01_bmp.rf.42fa61788aa7560b10db096c38382c16.jpg: 640x640 1 Dyskeratosis in HSIL, 18.6ms\n",
            "image 231/835 /content/drive/MyDrive/CerviCure.v2i.yolov8/valid/images/046_01_bmp.rf.76e32001e0b6eb1205a066e5c89b7535.jpg: 640x640 1 Mild Koilocytosis, 1 Severe Koilocytosis, 18.2ms\n",
            "image 232/835 /content/drive/MyDrive/CerviCure.v2i.yolov8/valid/images/046_03_bmp.rf.967170968b807ac677ebfd2c5bc56fb9.jpg: 640x640 1 Dyskeratosis in HSIL, 18.4ms\n",
            "image 233/835 /content/drive/MyDrive/CerviCure.v2i.yolov8/valid/images/046_bmp.rf.d20b2af63f253ef196fd5a78ec48f3b2.jpg: 640x640 22 Intermediate Squamouss, 16 Superficial Squamouss, 17.5ms\n",
            "image 234/835 /content/drive/MyDrive/CerviCure.v2i.yolov8/valid/images/047_01_bmp.rf.d992625128873905a6cf777c8ccdd9e6.jpg: 640x640 1 Superficial Squamous, 18.4ms\n",
            "image 235/835 /content/drive/MyDrive/CerviCure.v2i.yolov8/valid/images/047_02_bmp.rf.951537bf4d064dc852a8c74d88a2df54.jpg: 640x640 1 Mild Koilocytosis, 17.9ms\n",
            "image 236/835 /content/drive/MyDrive/CerviCure.v2i.yolov8/valid/images/047_02_bmp.rf.b3d2620c2c9af09505631033a858ca85.jpg: 640x640 1 Metaplastic, 18.5ms\n",
            "image 237/835 /content/drive/MyDrive/CerviCure.v2i.yolov8/valid/images/047_03_bmp.rf.1eb2c4b2e77980ca87a64567cb0d6c76.jpg: 640x640 1 Metaplastic, 18.6ms\n",
            "image 238/835 /content/drive/MyDrive/CerviCure.v2i.yolov8/valid/images/047_03_bmp.rf.8bdcfeadb5fc4e5fe6efd0dfeee2380f.jpg: 640x640 1 Intermediate Squamous, 18.7ms\n",
            "image 239/835 /content/drive/MyDrive/CerviCure.v2i.yolov8/valid/images/047_08_bmp.rf.e50da0579572d825ffbb376943661b0c.jpg: 640x640 1 Intermediate Squamous, 19.5ms\n",
            "image 240/835 /content/drive/MyDrive/CerviCure.v2i.yolov8/valid/images/048_06_bmp.rf.b36910ca806ef1988cb8e754f03d6669.jpg: 640x640 1 Parabasal, 18.6ms\n",
            "image 241/835 /content/drive/MyDrive/CerviCure.v2i.yolov8/valid/images/048_08_bmp.rf.d09159c2d02f3fa86702bcbd6b323454.jpg: 640x640 1 Parabasal, 18.2ms\n",
            "image 242/835 /content/drive/MyDrive/CerviCure.v2i.yolov8/valid/images/049_03_bmp.rf.4a6f3c9226021a2c96b83078da5f3c86.jpg: 640x640 1 Mild Koilocytosis, 1 Severe Koilocytosis, 17.3ms\n",
            "image 243/835 /content/drive/MyDrive/CerviCure.v2i.yolov8/valid/images/049_04_bmp.rf.34ef273c158927162129eec1d36d21c4.jpg: 640x640 1 Mild Koilocytosis, 18.5ms\n",
            "image 244/835 /content/drive/MyDrive/CerviCure.v2i.yolov8/valid/images/049_04_bmp.rf.499810b73702560ea7acf9dc3176fee1.jpg: 640x640 1 Superficial Squamous, 19.3ms\n",
            "image 245/835 /content/drive/MyDrive/CerviCure.v2i.yolov8/valid/images/049_04_bmp.rf.8c56609e83722a1164094c7ce05a9094.jpg: 640x640 1 Parabasal, 18.7ms\n",
            "image 246/835 /content/drive/MyDrive/CerviCure.v2i.yolov8/valid/images/049_10_bmp.rf.28ef28c98493136d4461b181c2d19ce7.jpg: 640x640 1 Parabasal, 18.4ms\n",
            "image 247/835 /content/drive/MyDrive/CerviCure.v2i.yolov8/valid/images/049_11_bmp.rf.6663892ad4f38685639bb681d8996f96.jpg: 640x640 1 Intermediate Squamous, 18.3ms\n",
            "image 248/835 /content/drive/MyDrive/CerviCure.v2i.yolov8/valid/images/049_bmp.rf.57fe49efa6316340473d18b8f8f7e044.jpg: 640x640 20 Intermediate Squamouss, 12 Superficial Squamouss, 18.5ms\n",
            "image 249/835 /content/drive/MyDrive/CerviCure.v2i.yolov8/valid/images/050_01_bmp.rf.3f62766ddd7af0aa04ebb1e267903a9e.jpg: 640x640 1 Parabasal, 18.3ms\n",
            "image 250/835 /content/drive/MyDrive/CerviCure.v2i.yolov8/valid/images/050_05_bmp.rf.9e58b723efd8d08f250f1672420b9a81.jpg: 640x640 1 Intermediate Squamous, 1 Superficial Squamous, 17.9ms\n",
            "image 251/835 /content/drive/MyDrive/CerviCure.v2i.yolov8/valid/images/050_06_bmp.rf.b36f504b920bbd61e8351d1b8a6ffe6c.jpg: 640x640 1 Superficial Squamous, 17.5ms\n",
            "image 252/835 /content/drive/MyDrive/CerviCure.v2i.yolov8/valid/images/050_07_bmp.rf.f03e7675c63994c3eba647e75f9ee1f4.jpg: 640x640 1 Superficial Squamous, 18.4ms\n",
            "image 253/835 /content/drive/MyDrive/CerviCure.v2i.yolov8/valid/images/050_bmp.rf.6a259800b1dc9a8e1fc68f2955a2e57d.jpg: 640x640 21 Intermediate Squamouss, 16 Superficial Squamouss, 18.9ms\n",
            "image 254/835 /content/drive/MyDrive/CerviCure.v2i.yolov8/valid/images/051_01_bmp.rf.7a2381aeee19f0aa1addce5c311fe78b.jpg: 640x640 1 Parabasal, 18.4ms\n",
            "image 255/835 /content/drive/MyDrive/CerviCure.v2i.yolov8/valid/images/051_04_bmp.rf.8ffe3b783dbefbf39c104d24867eb7da.jpg: 640x640 1 Superficial Squamous, 18.3ms\n",
            "image 256/835 /content/drive/MyDrive/CerviCure.v2i.yolov8/valid/images/052_01_bmp.rf.755c90e0c5d2bf0be972822cb9ee6494.jpg: 640x640 1 Dyskeratosis in HSIL, 20.0ms\n",
            "image 257/835 /content/drive/MyDrive/CerviCure.v2i.yolov8/valid/images/052_02_bmp.rf.00a38cb7ea29f4b747c56a1a88011417.jpg: 640x640 1 Dyskeratosis in HSIL, 19.1ms\n",
            "image 258/835 /content/drive/MyDrive/CerviCure.v2i.yolov8/valid/images/052_02_bmp.rf.95a6efede7de3042818fd3136ac9b3d1.jpg: 640x640 1 Mild Koilocytosis, 18.7ms\n",
            "image 259/835 /content/drive/MyDrive/CerviCure.v2i.yolov8/valid/images/052_04_bmp.rf.2bd4b5f2b2a59452f36a6c0461db8547.jpg: 640x640 1 Metaplastic, 18.4ms\n",
            "image 260/835 /content/drive/MyDrive/CerviCure.v2i.yolov8/valid/images/054_01_bmp.rf.f3c351b8f104afac6f5def89f48e3986.jpg: 640x640 1 Intermediate Squamous, 17.6ms\n",
            "image 261/835 /content/drive/MyDrive/CerviCure.v2i.yolov8/valid/images/054_02_bmp.rf.f158622f270d8261b8a6c3195327b71c.jpg: 640x640 1 Mild Koilocytosis, 18.3ms\n",
            "image 262/835 /content/drive/MyDrive/CerviCure.v2i.yolov8/valid/images/054_05_bmp.rf.268e52e832dfd8a330cb0eb95e59660c.jpg: 640x640 1 Parabasal, 18.4ms\n",
            "image 263/835 /content/drive/MyDrive/CerviCure.v2i.yolov8/valid/images/054_bmp.rf.3c715a00775ce09321473cdaa86bd5fe.jpg: 640x640 21 Intermediate Squamouss, 10 Superficial Squamouss, 18.6ms\n",
            "image 264/835 /content/drive/MyDrive/CerviCure.v2i.yolov8/valid/images/055_01_bmp.rf.25de61152464512eb620c559ab0fd776.jpg: 640x640 1 Superficial Squamous, 18.2ms\n",
            "image 265/835 /content/drive/MyDrive/CerviCure.v2i.yolov8/valid/images/055_04_bmp.rf.78c49c64a91e80bc142f04b7430d8c25.jpg: 640x640 1 Parabasal, 18.2ms\n",
            "image 266/835 /content/drive/MyDrive/CerviCure.v2i.yolov8/valid/images/056_01_bmp.rf.587647839b1744aebd8336623cee7ca0.jpg: 640x640 1 Intermediate Squamous, 1 Parabasal, 18.5ms\n",
            "image 267/835 /content/drive/MyDrive/CerviCure.v2i.yolov8/valid/images/056_02_bmp.rf.485eaa3f13fd616dff1bdf509ed67ffd.jpg: 640x640 1 Intermediate Squamous, 18.2ms\n",
            "image 268/835 /content/drive/MyDrive/CerviCure.v2i.yolov8/valid/images/056_03_bmp.rf.4f20130dad18379d59cbe42032cf156f.jpg: 640x640 1 Intermediate Squamous, 17.5ms\n",
            "image 269/835 /content/drive/MyDrive/CerviCure.v2i.yolov8/valid/images/056_07_bmp.rf.82aa9cf4263c510089ceed408d81e159.jpg: 640x640 1 Superficial Squamous, 18.3ms\n",
            "image 270/835 /content/drive/MyDrive/CerviCure.v2i.yolov8/valid/images/057_01_bmp.rf.b3a9272e1f585ed8c36925d0fd563594.jpg: 640x640 1 Metaplastic, 19.5ms\n",
            "image 271/835 /content/drive/MyDrive/CerviCure.v2i.yolov8/valid/images/057_04_bmp.rf.1dfecbf28252be2bc58e6a6f6603548f.jpg: 640x640 1 Parabasal, 18.6ms\n",
            "image 272/835 /content/drive/MyDrive/CerviCure.v2i.yolov8/valid/images/057_04_bmp.rf.2bfa9b378b1762afff43df63b9c546c3.jpg: 640x640 1 Superficial Squamous, 18.4ms\n",
            "image 273/835 /content/drive/MyDrive/CerviCure.v2i.yolov8/valid/images/057_05_bmp.rf.44baeaac7677e5251040c43386d4019b.jpg: 640x640 1 Superficial Squamous, 18.3ms\n",
            "image 274/835 /content/drive/MyDrive/CerviCure.v2i.yolov8/valid/images/057_07_bmp.rf.b5dd13b0d37392bbea4c15b6ced41a3b.jpg: 640x640 1 Superficial Squamous, 18.9ms\n",
            "image 275/835 /content/drive/MyDrive/CerviCure.v2i.yolov8/valid/images/057_08_bmp.rf.540072770f06ae7b2eb2031641ab4702.jpg: 640x640 1 Superficial Squamous, 19.7ms\n",
            "image 276/835 /content/drive/MyDrive/CerviCure.v2i.yolov8/valid/images/057_11_bmp.rf.317e557bea380ba8f9de206ee615fbd9.jpg: 640x640 1 Superficial Squamous, 19.2ms\n",
            "image 277/835 /content/drive/MyDrive/CerviCure.v2i.yolov8/valid/images/057_12_bmp.rf.56ca54d287de23bccd61dd7de3d6359b.jpg: 640x640 1 Parabasal, 17.8ms\n",
            "image 278/835 /content/drive/MyDrive/CerviCure.v2i.yolov8/valid/images/057_bmp.rf.6e1b9d77d7f23350adb494f943bbdbf4.jpg: 640x640 19 Intermediate Squamouss, 7 Superficial Squamouss, 18.0ms\n",
            "image 279/835 /content/drive/MyDrive/CerviCure.v2i.yolov8/valid/images/058_01_bmp.rf.8187a9dc34124d0730c512f5614758eb.jpg: 640x640 1 Dyskeratosis in HSIL, 18.7ms\n",
            "image 280/835 /content/drive/MyDrive/CerviCure.v2i.yolov8/valid/images/058_02_bmp.rf.7b5ef86a9fae4ae3effce208de3cfc41.jpg: 640x640 1 Parabasal, 18.2ms\n",
            "image 281/835 /content/drive/MyDrive/CerviCure.v2i.yolov8/valid/images/058_02_bmp.rf.8a2424a17cbd1b7d6462ceb865f8f7d7.jpg: 640x640 1 Superficial Squamous, 19.1ms\n",
            "image 282/835 /content/drive/MyDrive/CerviCure.v2i.yolov8/valid/images/058_02_bmp.rf.a0c9c3bc977d30ef3261055eed9aa07b.jpg: 640x640 1 Dyskeratosis in HSIL, 19.5ms\n",
            "image 283/835 /content/drive/MyDrive/CerviCure.v2i.yolov8/valid/images/058_03_bmp.rf.3c93db3cdad5072ff254a315bbf93168.jpg: 640x640 1 Metaplastic, 1 Parabasal, 18.8ms\n",
            "image 284/835 /content/drive/MyDrive/CerviCure.v2i.yolov8/valid/images/058_03_bmp.rf.80d7a2c9a2de4706ff441900613404f9.jpg: 640x640 1 Superficial Squamous, 18.5ms\n",
            "image 285/835 /content/drive/MyDrive/CerviCure.v2i.yolov8/valid/images/058_05_bmp.rf.e639e220658675cfe67e208872cce154.jpg: 640x640 1 Parabasal, 18.3ms\n",
            "image 286/835 /content/drive/MyDrive/CerviCure.v2i.yolov8/valid/images/058_06_bmp.rf.89bc15a1f147dc68da1f8d624eb33e9d.jpg: 640x640 1 Superficial Squamous, 17.6ms\n",
            "image 287/835 /content/drive/MyDrive/CerviCure.v2i.yolov8/valid/images/059_01_bmp.rf.ca758c6850de44de9cea529b1255df75.jpg: 640x640 1 Metaplastic, 19.2ms\n",
            "image 288/835 /content/drive/MyDrive/CerviCure.v2i.yolov8/valid/images/059_03_bmp.rf.ee267af7617a62a9b764fd7279c3ffb6.jpg: 640x640 1 Dyskeratosis in HSIL, 19.0ms\n",
            "image 289/835 /content/drive/MyDrive/CerviCure.v2i.yolov8/valid/images/059_04_bmp.rf.1f0ed5899260c3f9dbb33838bdf61052.jpg: 640x640 1 Dyskeratosis in HSIL, 18.6ms\n",
            "image 290/835 /content/drive/MyDrive/CerviCure.v2i.yolov8/valid/images/059_04_bmp.rf.e1e472dd357068c368343cfba737c35f.jpg: 640x640 1 Superficial Squamous, 18.2ms\n",
            "image 291/835 /content/drive/MyDrive/CerviCure.v2i.yolov8/valid/images/059_07_bmp.rf.a9b74bad97f01f2934db6054a1895a0f.jpg: 640x640 1 Intermediate Squamous, 1 Metaplastic, 18.9ms\n",
            "image 292/835 /content/drive/MyDrive/CerviCure.v2i.yolov8/valid/images/059_bmp.rf.2629e5468803acb30b65ce8f9237233a.jpg: 640x640 15 Intermediate Squamouss, 8 Superficial Squamouss, 19.3ms\n",
            "image 293/835 /content/drive/MyDrive/CerviCure.v2i.yolov8/valid/images/060_02_bmp.rf.44320062a8e41a22f73a67f32266e8d7.jpg: 640x640 1 Dyskeratosis in HSIL, 18.2ms\n",
            "image 294/835 /content/drive/MyDrive/CerviCure.v2i.yolov8/valid/images/060_06_bmp.rf.59624e3da32b7346cfb52a556ca23c77.jpg: 640x640 1 Superficial Squamous, 18.5ms\n",
            "image 295/835 /content/drive/MyDrive/CerviCure.v2i.yolov8/valid/images/061_01_bmp.rf.04b64e20d331e1854e151f6620e5fd5e.jpg: 640x640 1 Mild Koilocytosis, 17.6ms\n",
            "image 296/835 /content/drive/MyDrive/CerviCure.v2i.yolov8/valid/images/061_02_bmp.rf.6d2c194502997fe3b979371d74ca164c.jpg: 640x640 1 Superficial Squamous, 19.2ms\n",
            "image 297/835 /content/drive/MyDrive/CerviCure.v2i.yolov8/valid/images/061_03_bmp.rf.880079f894f6f524123968b0ddca7660.jpg: 640x640 1 Parabasal, 18.9ms\n",
            "image 298/835 /content/drive/MyDrive/CerviCure.v2i.yolov8/valid/images/061_08_bmp.rf.a278f8e6605ca10b704a364f88509b3c.jpg: 640x640 1 Superficial Squamous, 18.4ms\n",
            "image 299/835 /content/drive/MyDrive/CerviCure.v2i.yolov8/valid/images/062_01_bmp.rf.141669050b74aa7dd2553f8cbe2ad7af.jpg: 640x640 1 Metaplastic, 18.4ms\n",
            "image 300/835 /content/drive/MyDrive/CerviCure.v2i.yolov8/valid/images/062_03_bmp.rf.9396fa6eba232294a4b2a3cb3da85b25.jpg: 640x640 1 Superficial Squamous, 18.5ms\n",
            "image 301/835 /content/drive/MyDrive/CerviCure.v2i.yolov8/valid/images/062_03_bmp.rf.c18c981305277819a528a9c8c3828996.jpg: 640x640 1 Severe Koilocytosis, 18.6ms\n",
            "image 302/835 /content/drive/MyDrive/CerviCure.v2i.yolov8/valid/images/062_05_bmp.rf.3bdf9c53e1c02a5ca022bd1d2085cedf.jpg: 640x640 1 Superficial Squamous, 19.6ms\n",
            "image 303/835 /content/drive/MyDrive/CerviCure.v2i.yolov8/valid/images/062_05_bmp.rf.c17ddfa4688f6ce20d9b512d212187a5.jpg: 640x640 1 Parabasal, 19.0ms\n",
            "image 304/835 /content/drive/MyDrive/CerviCure.v2i.yolov8/valid/images/062_06_bmp.rf.d8f410fdd2d5396e350d55dbd37f4635.jpg: 640x640 1 Mild Koilocytosis, 17.5ms\n",
            "image 305/835 /content/drive/MyDrive/CerviCure.v2i.yolov8/valid/images/062_06_bmp.rf.df1eacbd136944766d56c3fca1a88741.jpg: 640x640 1 Parabasal, 18.5ms\n",
            "image 306/835 /content/drive/MyDrive/CerviCure.v2i.yolov8/valid/images/062_07_bmp.rf.11fbdd81cb4d171c8ed6f80758e6d38c.jpg: 640x640 1 Superficial Squamous, 19.8ms\n",
            "image 307/835 /content/drive/MyDrive/CerviCure.v2i.yolov8/valid/images/062_08_bmp.rf.6b4584c1e1a600fc3f5b0ceb256e867a.jpg: 640x640 1 Parabasal, 18.8ms\n",
            "image 308/835 /content/drive/MyDrive/CerviCure.v2i.yolov8/valid/images/062_11_bmp.rf.046c62c5278ecfbb45cdbe9acd9f66d8.jpg: 640x640 1 Dyskeratosis in HSIL, 18.3ms\n",
            "image 309/835 /content/drive/MyDrive/CerviCure.v2i.yolov8/valid/images/063_01_bmp.rf.6b5e0328a89b48dccb737794568e3a52.jpg: 640x640 1 Superficial Squamous, 18.2ms\n",
            "image 310/835 /content/drive/MyDrive/CerviCure.v2i.yolov8/valid/images/063_03_bmp.rf.3ea00675c2b678431e7d7e1920ac46b8.jpg: 640x640 1 Dyskeratosis in HSIL, 18.1ms\n",
            "image 311/835 /content/drive/MyDrive/CerviCure.v2i.yolov8/valid/images/063_04_bmp.rf.1144e58507aef7cfc32fe77576c41266.jpg: 640x640 1 Parabasal, 18.9ms\n",
            "image 312/835 /content/drive/MyDrive/CerviCure.v2i.yolov8/valid/images/063_06_bmp.rf.6fcb54edf92f576a737f27de5f38ab74.jpg: 640x640 1 Superficial Squamous, 18.2ms\n",
            "image 313/835 /content/drive/MyDrive/CerviCure.v2i.yolov8/valid/images/064_01_bmp.rf.4fda500885109762c9d5aceaa7e1bbd3.jpg: 640x640 1 Mild Koilocytosis, 18.2ms\n",
            "image 314/835 /content/drive/MyDrive/CerviCure.v2i.yolov8/valid/images/064_01_bmp.rf.f06cdd79731da2f6e76b3801551a4da6.jpg: 640x640 1 Metaplastic, 17.9ms\n",
            "image 315/835 /content/drive/MyDrive/CerviCure.v2i.yolov8/valid/images/064_03_bmp.rf.3e5cd0b78b6138de97f917a092502831.jpg: 640x640 1 Dyskeratosis in HSIL, 18.9ms\n",
            "image 316/835 /content/drive/MyDrive/CerviCure.v2i.yolov8/valid/images/065_02_bmp.rf.2aa327d305774aec77fb61a71d5132dd.jpg: 640x640 1 Intermediate Squamous, 19.6ms\n",
            "image 317/835 /content/drive/MyDrive/CerviCure.v2i.yolov8/valid/images/065_03_bmp.rf.40497e8098386ceebacda88e5f207c32.jpg: 640x640 1 Dyskeratosis in HSIL, 19.1ms\n",
            "image 318/835 /content/drive/MyDrive/CerviCure.v2i.yolov8/valid/images/065_04_bmp.rf.c9137cf668bc402cd107032d5e480e89.jpg: 640x640 1 Mild Koilocytosis, 1 Superficial Squamous, 18.8ms\n",
            "image 319/835 /content/drive/MyDrive/CerviCure.v2i.yolov8/valid/images/065_06_bmp.rf.e63b072e0d173d870c2d900f5a76d1ff.jpg: 640x640 1 Parabasal, 18.6ms\n",
            "image 320/835 /content/drive/MyDrive/CerviCure.v2i.yolov8/valid/images/066_01_bmp.rf.10a235d28422fd0155d33761efc5e66e.jpg: 640x640 1 Metaplastic, 18.8ms\n",
            "image 321/835 /content/drive/MyDrive/CerviCure.v2i.yolov8/valid/images/066_01_bmp.rf.7dd7ff04cbb5592c32aee82d7a602faa.jpg: 640x640 1 Superficial Squamous, 17.8ms\n",
            "image 322/835 /content/drive/MyDrive/CerviCure.v2i.yolov8/valid/images/066_01_bmp.rf.e7923b88debb1b99a5c8ab8342a11314.jpg: 640x640 1 Mild Koilocytosis, 18.3ms\n",
            "image 323/835 /content/drive/MyDrive/CerviCure.v2i.yolov8/valid/images/066_03_bmp.rf.57e17bb7fe9d9aca96e18fc464e92d56.jpg: 640x640 1 Dyskeratosis in HSIL, 18.2ms\n",
            "image 324/835 /content/drive/MyDrive/CerviCure.v2i.yolov8/valid/images/066_08_bmp.rf.ec4e1bee86bae693cebe05456b8dcd04.jpg: 640x640 1 Dyskeratosis in HSIL, 1 Mild Koilocytosis, 19.1ms\n",
            "image 325/835 /content/drive/MyDrive/CerviCure.v2i.yolov8/valid/images/066_09_bmp.rf.a0bb5adcb81c794835a020c5196491f4.jpg: 640x640 1 Superficial Squamous, 19.8ms\n",
            "image 326/835 /content/drive/MyDrive/CerviCure.v2i.yolov8/valid/images/066_11_bmp.rf.889d162afa36ca5b25f7bfe884fb848e.jpg: 640x640 1 Superficial Squamous, 18.9ms\n",
            "image 327/835 /content/drive/MyDrive/CerviCure.v2i.yolov8/valid/images/067_01_bmp.rf.928f0e273e6ae552b7b248d6e568fbb3.jpg: 640x640 1 Metaplastic, 18.4ms\n",
            "image 328/835 /content/drive/MyDrive/CerviCure.v2i.yolov8/valid/images/067_02_bmp.rf.6dc2e5c9611cdffec400fdae48775242.jpg: 640x640 1 Severe Koilocytosis, 18.4ms\n",
            "image 329/835 /content/drive/MyDrive/CerviCure.v2i.yolov8/valid/images/067_02_bmp.rf.70fba26277f2d88dbb21bb3b98fdd090.jpg: 640x640 1 Dyskeratosis in HSIL, 18.8ms\n",
            "image 330/835 /content/drive/MyDrive/CerviCure.v2i.yolov8/valid/images/067_03_bmp.rf.992d45dd93b0e85435635cd076782f9c.jpg: 640x640 1 Dyskeratosis in HSIL, 18.0ms\n",
            "image 331/835 /content/drive/MyDrive/CerviCure.v2i.yolov8/valid/images/067_04_bmp.rf.637cf2a81de795f90cdad0e36172015e.jpg: 640x640 1 Parabasal, 18.3ms\n",
            "image 332/835 /content/drive/MyDrive/CerviCure.v2i.yolov8/valid/images/067_06_bmp.rf.e616056beb22cc1de5f7dc810cad9588.jpg: 640x640 1 Dyskeratosis in HSIL, 18.7ms\n",
            "image 333/835 /content/drive/MyDrive/CerviCure.v2i.yolov8/valid/images/067_10_bmp.rf.e1dfa559961616b6d5c9ec1ed547edde.jpg: 640x640 1 Superficial Squamous, 18.0ms\n",
            "image 334/835 /content/drive/MyDrive/CerviCure.v2i.yolov8/valid/images/067_17_bmp.rf.b4bafb8020623e84952b136f77aef78c.jpg: 640x640 1 Dyskeratosis in HSIL, 18.7ms\n",
            "image 335/835 /content/drive/MyDrive/CerviCure.v2i.yolov8/valid/images/067_19_bmp.rf.40fa1c0953b001a8ce6897909e49ae84.jpg: 640x640 1 Dyskeratosis in HSIL, 18.6ms\n",
            "image 336/835 /content/drive/MyDrive/CerviCure.v2i.yolov8/valid/images/067_20_bmp.rf.32b56cb39625d68f68db1574caf35769.jpg: 640x640 1 Dyskeratosis in HSIL, 18.9ms\n",
            "image 337/835 /content/drive/MyDrive/CerviCure.v2i.yolov8/valid/images/068_01_bmp.rf.f5bace98cbe170ea185f4ca5f371083f.jpg: 640x640 1 Dyskeratosis in HSIL, 19.1ms\n",
            "image 338/835 /content/drive/MyDrive/CerviCure.v2i.yolov8/valid/images/068_03_bmp.rf.02ea01dd20aaaf12d30e51103b4ce598.jpg: 640x640 1 Parabasal, 18.3ms\n",
            "image 339/835 /content/drive/MyDrive/CerviCure.v2i.yolov8/valid/images/068_06_bmp.rf.4668a1551602747c09224c550cdc812b.jpg: 640x640 1 Metaplastic, 18.0ms\n",
            "image 340/835 /content/drive/MyDrive/CerviCure.v2i.yolov8/valid/images/068_08_bmp.rf.dc62ba33eed47622513585cf486a2e51.jpg: 640x640 1 Intermediate Squamous, 1 Superficial Squamous, 18.8ms\n",
            "image 341/835 /content/drive/MyDrive/CerviCure.v2i.yolov8/valid/images/068_09_bmp.rf.4a7fb1ea3176e59832ebefcdc420c931.jpg: 640x640 1 Intermediate Squamous, 19.7ms\n",
            "image 342/835 /content/drive/MyDrive/CerviCure.v2i.yolov8/valid/images/068_09_bmp.rf.f0a3dcf9de19637d2654db8c3ce1e402.jpg: 640x640 1 Metaplastic, 19.0ms\n",
            "image 343/835 /content/drive/MyDrive/CerviCure.v2i.yolov8/valid/images/069_01_bmp.rf.9a94d118f5cf0c33b732fce55061b678.jpg: 640x640 1 Metaplastic, 18.4ms\n",
            "image 344/835 /content/drive/MyDrive/CerviCure.v2i.yolov8/valid/images/069_01_bmp.rf.bedf4410a9c45de79dff3b55ba1aeab7.jpg: 640x640 1 Dyskeratosis in HSIL, 18.2ms\n",
            "image 345/835 /content/drive/MyDrive/CerviCure.v2i.yolov8/valid/images/069_02_bmp.rf.06f328f49748fb35f977962d9995a543.jpg: 640x640 1 Parabasal, 19.7ms\n",
            "image 346/835 /content/drive/MyDrive/CerviCure.v2i.yolov8/valid/images/069_02_bmp.rf.a41763d89def419f4e24a862c5f09e57.jpg: 640x640 1 Mild Koilocytosis, 19.1ms\n",
            "image 347/835 /content/drive/MyDrive/CerviCure.v2i.yolov8/valid/images/069_02_bmp.rf.ca17a647381a4f2fa7daf1e5454ebce0.jpg: 640x640 1 Dyskeratosis in HSIL, 17.5ms\n",
            "image 348/835 /content/drive/MyDrive/CerviCure.v2i.yolov8/valid/images/069_03_bmp.rf.950a7d07eb7de17ac11dc3bc6966fb00.jpg: 640x640 1 Intermediate Squamous, 19.9ms\n",
            "image 349/835 /content/drive/MyDrive/CerviCure.v2i.yolov8/valid/images/069_05_bmp.rf.f743d25b190f9ed55fb97a839c82f771.jpg: 640x640 1 Metaplastic, 19.2ms\n",
            "image 350/835 /content/drive/MyDrive/CerviCure.v2i.yolov8/valid/images/069_09_bmp.rf.c626041f096cbcec2ffef07fac58c70f.jpg: 640x640 1 Parabasal, 18.3ms\n",
            "image 351/835 /content/drive/MyDrive/CerviCure.v2i.yolov8/valid/images/069_10_bmp.rf.6b4a5dfd4cacc77c75fc20dd1d501223.jpg: 640x640 1 Superficial Squamous, 18.7ms\n",
            "image 352/835 /content/drive/MyDrive/CerviCure.v2i.yolov8/valid/images/069_bmp.rf.6cdb1e3dfff5503eceeeab2189f4676f.jpg: 640x640 22 Intermediate Squamouss, 3 Superficial Squamouss, 19.9ms\n",
            "image 353/835 /content/drive/MyDrive/CerviCure.v2i.yolov8/valid/images/070_02_bmp.rf.b9da5c699d832a039e7d0baccad89dc0.jpg: 640x640 1 Superficial Squamous, 18.1ms\n",
            "image 354/835 /content/drive/MyDrive/CerviCure.v2i.yolov8/valid/images/071_01_bmp.rf.e703d6f74c9b7ab0b02b1561912fd847.jpg: 640x640 1 Dyskeratosis in HSIL, 19.2ms\n",
            "image 355/835 /content/drive/MyDrive/CerviCure.v2i.yolov8/valid/images/071_01_bmp.rf.f61261393d77eaa892c24be2c8b59a44.jpg: 640x640 1 Superficial Squamous, 18.7ms\n",
            "image 356/835 /content/drive/MyDrive/CerviCure.v2i.yolov8/valid/images/071_02_bmp.rf.51432d5db8a879b9c9014d2b5b8f299c.jpg: 640x640 1 Dyskeratosis in HSIL, 17.4ms\n",
            "image 357/835 /content/drive/MyDrive/CerviCure.v2i.yolov8/valid/images/071_03_bmp.rf.5011208a7284bfd379f4d61a919c6119.jpg: 640x640 1 Dyskeratosis in HSIL, 18.8ms\n",
            "image 358/835 /content/drive/MyDrive/CerviCure.v2i.yolov8/valid/images/071_04_bmp.rf.2291794684ffba8e3c8da57249a9d732.jpg: 640x640 1 Parabasal, 20.0ms\n",
            "image 359/835 /content/drive/MyDrive/CerviCure.v2i.yolov8/valid/images/072_01_bmp.rf.a0bc8d2e6555db3cb932c25d27ebfd71.jpg: 640x640 1 Parabasal, 19.1ms\n",
            "image 360/835 /content/drive/MyDrive/CerviCure.v2i.yolov8/valid/images/072_02_bmp.rf.5d521d16453535084e42bf84ebece380.jpg: 640x640 1 Parabasal, 18.5ms\n",
            "image 361/835 /content/drive/MyDrive/CerviCure.v2i.yolov8/valid/images/072_03_bmp.rf.ef5fbfd0c4346ac65af69f9005815d71.jpg: 640x640 1 Parabasal, 19.8ms\n",
            "image 362/835 /content/drive/MyDrive/CerviCure.v2i.yolov8/valid/images/072_04_bmp.rf.3d26c70fef7ee1e5b0a1a5a8b1154a4f.jpg: 640x640 1 Mild Koilocytosis, 1 Parabasal, 19.4ms\n",
            "image 363/835 /content/drive/MyDrive/CerviCure.v2i.yolov8/valid/images/072_04_bmp.rf.58ba8d8b5610dc2c7a6a599eb2110ca9.jpg: 640x640 1 Superficial Squamous, 18.5ms\n",
            "image 364/835 /content/drive/MyDrive/CerviCure.v2i.yolov8/valid/images/072_04_bmp.rf.5ce0c77895f6ce5861534f0f5128f27a.jpg: 640x640 1 Dyskeratosis in SCC, 18.6ms\n",
            "image 365/835 /content/drive/MyDrive/CerviCure.v2i.yolov8/valid/images/072_07_bmp.rf.146630dd63817cbd4c514cd2121c9fdf.jpg: 640x640 1 Parabasal, 18.2ms\n",
            "image 366/835 /content/drive/MyDrive/CerviCure.v2i.yolov8/valid/images/072_07_bmp.rf.88cf0716084bb3b8b9fab10f5c3d68ab.jpg: 640x640 1 Dyskeratosis in HSIL, 18.1ms\n",
            "image 367/835 /content/drive/MyDrive/CerviCure.v2i.yolov8/valid/images/072_07_bmp.rf.f4d721e39cd995a72f0f2bffcd66072f.jpg: 640x640 1 Mild Koilocytosis, 18.3ms\n",
            "image 368/835 /content/drive/MyDrive/CerviCure.v2i.yolov8/valid/images/072_08_bmp.rf.d636142db48ee185df49eebc203f5d23.jpg: 640x640 1 Metaplastic, 18.8ms\n",
            "image 369/835 /content/drive/MyDrive/CerviCure.v2i.yolov8/valid/images/072_09_bmp.rf.ba90110e01e064ab42697021579bf276.jpg: 640x640 1 Metaplastic, 19.6ms\n",
            "image 370/835 /content/drive/MyDrive/CerviCure.v2i.yolov8/valid/images/072_10_bmp.rf.f063ea6ab144a0c919e48733b3354f82.jpg: 640x640 1 Metaplastic, 19.0ms\n",
            "image 371/835 /content/drive/MyDrive/CerviCure.v2i.yolov8/valid/images/073_03_bmp.rf.e5421cf4fd22cc8fd12b1f4780260781.jpg: 640x640 1 Metaplastic, 1 Parabasal, 18.7ms\n",
            "image 372/835 /content/drive/MyDrive/CerviCure.v2i.yolov8/valid/images/073_bmp.rf.828e4498e5adfa780cf06496d52a5db7.jpg: 640x640 28 Intermediate Squamouss, 13 Superficial Squamouss, 18.3ms\n",
            "image 373/835 /content/drive/MyDrive/CerviCure.v2i.yolov8/valid/images/074_03_bmp.rf.e9116697d9cb7ce272aa209f130b8021.jpg: 640x640 1 Superficial Squamous, 17.4ms\n",
            "image 374/835 /content/drive/MyDrive/CerviCure.v2i.yolov8/valid/images/074_07_bmp.rf.735d0c07ab22c19d355dfc1842783f28.jpg: 640x640 1 Metaplastic, 1 Mild Koilocytosis, 18.3ms\n",
            "image 375/835 /content/drive/MyDrive/CerviCure.v2i.yolov8/valid/images/074_08_bmp.rf.fc331efced993a1983de395fd246f81e.jpg: 640x640 1 Metaplastic, 18.3ms\n",
            "image 376/835 /content/drive/MyDrive/CerviCure.v2i.yolov8/valid/images/074_11_bmp.rf.44a5d9ecc0a853b5e7ded9e9ec5681b0.jpg: 640x640 1 Metaplastic, 18.7ms\n",
            "image 377/835 /content/drive/MyDrive/CerviCure.v2i.yolov8/valid/images/075_01_bmp.rf.035328d0c406023c92fabe4bcc28746e.jpg: 640x640 1 Dyskeratosis in HSIL, 19.9ms\n",
            "image 378/835 /content/drive/MyDrive/CerviCure.v2i.yolov8/valid/images/075_01_bmp.rf.2a48663125e4582a53b556fe2a536b1a.jpg: 640x640 1 Superficial Squamous, 19.6ms\n",
            "image 379/835 /content/drive/MyDrive/CerviCure.v2i.yolov8/valid/images/075_02_bmp.rf.9e764c00fc5adf3b9de1a63a4b6fe92c.jpg: 640x640 1 Dyskeratosis in HSIL, 18.9ms\n",
            "image 380/835 /content/drive/MyDrive/CerviCure.v2i.yolov8/valid/images/075_02_bmp.rf.ca605d6551390381628c54adc895e521.jpg: 640x640 1 Parabasal, 18.6ms\n",
            "image 381/835 /content/drive/MyDrive/CerviCure.v2i.yolov8/valid/images/075_04_bmp.rf.11fb524b37da8d066d465b9f8e955dab.jpg: 640x640 1 Superficial Squamous, 20.2ms\n",
            "image 382/835 /content/drive/MyDrive/CerviCure.v2i.yolov8/valid/images/075_11_bmp.rf.dc915d1bcf04ac800e920467c8eb4e1c.jpg: 640x640 1 Parabasal, 18.1ms\n",
            "image 383/835 /content/drive/MyDrive/CerviCure.v2i.yolov8/valid/images/075_13_bmp.rf.f670bdae6caccfe369e559ef0d68cde8.jpg: 640x640 1 Parabasal, 18.3ms\n",
            "image 384/835 /content/drive/MyDrive/CerviCure.v2i.yolov8/valid/images/075_bmp.rf.91f8879b88c32dfc9ed73ed95bf1ace1.jpg: 640x640 7 Intermediate Squamouss, 13 Superficial Squamouss, 20.2ms\n",
            "image 385/835 /content/drive/MyDrive/CerviCure.v2i.yolov8/valid/images/076_01_bmp.rf.ce82bae66e90c20eeb92c0bf8a735455.jpg: 640x640 1 Parabasal, 18.6ms\n",
            "image 386/835 /content/drive/MyDrive/CerviCure.v2i.yolov8/valid/images/077_01_bmp.rf.381981a14f01736d44fff77f5bcb06eb.jpg: 640x640 1 Parabasal, 18.9ms\n",
            "image 387/835 /content/drive/MyDrive/CerviCure.v2i.yolov8/valid/images/077_02_bmp.rf.1232ab08ba6a88fb5bb2608b354c9f2b.jpg: 640x640 1 Superficial Squamous, 18.6ms\n",
            "image 388/835 /content/drive/MyDrive/CerviCure.v2i.yolov8/valid/images/077_03_bmp.rf.afc1b10a0e434c1c8dcf783a408130ce.jpg: 640x640 1 Metaplastic, 18.3ms\n",
            "image 389/835 /content/drive/MyDrive/CerviCure.v2i.yolov8/valid/images/077_03_bmp.rf.b2a3a4bedd879cbf70f4246cc04e5baf.jpg: 640x640 1 Severe Koilocytosis, 19.3ms\n",
            "image 390/835 /content/drive/MyDrive/CerviCure.v2i.yolov8/valid/images/077_04_bmp.rf.84a63aea3842844c47753494e5239299.jpg: 640x640 1 Parabasal, 19.4ms\n",
            "image 391/835 /content/drive/MyDrive/CerviCure.v2i.yolov8/valid/images/077_05_bmp.rf.0bcae3e2c4bc801905db7f7706f0c15b.jpg: 640x640 1 Dyskeratosis in HSIL, 1 Mild Koilocytosis, 1 Severe Koilocytosis, 17.6ms\n",
            "image 392/835 /content/drive/MyDrive/CerviCure.v2i.yolov8/valid/images/077_bmp.rf.5e7f47174aecc5df616a697b1cdfad43.jpg: 640x640 30 Intermediate Squamouss, 11 Superficial Squamouss, 18.4ms\n",
            "image 393/835 /content/drive/MyDrive/CerviCure.v2i.yolov8/valid/images/078_02_bmp.rf.a768030612d579dc4e3688970c0bf919.jpg: 640x640 1 Superficial Squamous, 18.4ms\n",
            "image 394/835 /content/drive/MyDrive/CerviCure.v2i.yolov8/valid/images/078_08_bmp.rf.d32ad62d8e9baf3fb6525ed0f62c258f.jpg: 640x640 1 Parabasal, 18.8ms\n",
            "image 395/835 /content/drive/MyDrive/CerviCure.v2i.yolov8/valid/images/078_bmp.rf.edeabd416891407372eb8ea296c63f01.jpg: 640x640 15 Intermediate Squamouss, 11 Superficial Squamouss, 19.4ms\n",
            "image 396/835 /content/drive/MyDrive/CerviCure.v2i.yolov8/valid/images/079_02_bmp.rf.3b5bea4d722e50335075af2102873fa0.jpg: 640x640 1 Metaplastic, 18.0ms\n",
            "image 397/835 /content/drive/MyDrive/CerviCure.v2i.yolov8/valid/images/079_bmp.rf.18c1c899b9d90cabc5f9220452d6f928.jpg: 640x640 6 Intermediate Squamouss, 5 Superficial Squamouss, 19.2ms\n",
            "image 398/835 /content/drive/MyDrive/CerviCure.v2i.yolov8/valid/images/080_01_bmp.rf.4deb6b3e7ccdbaa3711f0f37850db5d3.jpg: 640x640 1 Parabasal, 18.4ms\n",
            "image 399/835 /content/drive/MyDrive/CerviCure.v2i.yolov8/valid/images/080_01_bmp.rf.f518f632842b4b92abe6662c18576e5c.jpg: 640x640 1 Dyskeratosis in HSIL, 1 Severe Koilocytosis, 18.5ms\n",
            "image 400/835 /content/drive/MyDrive/CerviCure.v2i.yolov8/valid/images/080_03_bmp.rf.53c85c76f00ffb24259ebb117432bfcd.jpg: 640x640 1 Superficial Squamous, 17.7ms\n",
            "image 401/835 /content/drive/MyDrive/CerviCure.v2i.yolov8/valid/images/080_03_bmp.rf.b96b769af5c8a15ad75e96c5008ded8b.jpg: 640x640 1 Metaplastic, 19.3ms\n",
            "image 402/835 /content/drive/MyDrive/CerviCure.v2i.yolov8/valid/images/080_03_bmp.rf.fbe184d24933095c55c8958a0f8a3198.jpg: 640x640 1 Parabasal, 18.9ms\n",
            "image 403/835 /content/drive/MyDrive/CerviCure.v2i.yolov8/valid/images/080_05_bmp.rf.495395eac1ba8feddf4930b8faccfde6.jpg: 640x640 1 Metaplastic, 18.7ms\n",
            "image 404/835 /content/drive/MyDrive/CerviCure.v2i.yolov8/valid/images/080_07_bmp.rf.237e399f734fb527863451709aea110d.jpg: 640x640 1 Superficial Squamous, 18.7ms\n",
            "image 405/835 /content/drive/MyDrive/CerviCure.v2i.yolov8/valid/images/081_01_bmp.rf.00e70d03efde1b31441298866e2fa336.jpg: 640x640 1 Superficial Squamous, 18.5ms\n",
            "image 406/835 /content/drive/MyDrive/CerviCure.v2i.yolov8/valid/images/081_07_bmp.rf.3655625a5047447435b718625f8a06c9.jpg: 640x640 1 Parabasal, 18.9ms\n",
            "image 407/835 /content/drive/MyDrive/CerviCure.v2i.yolov8/valid/images/082_01_bmp.rf.a5e939de25d130d2c81247b21b43d4b0.jpg: 640x640 1 Severe Koilocytosis, 19.2ms\n",
            "image 408/835 /content/drive/MyDrive/CerviCure.v2i.yolov8/valid/images/082_01_bmp.rf.af766f90899c0adf6474044d21262e08.jpg: 640x640 1 Parabasal, 18.8ms\n",
            "image 409/835 /content/drive/MyDrive/CerviCure.v2i.yolov8/valid/images/082_03_bmp.rf.74acbe80efb6ace721bfa0d5039c9d51.jpg: 640x640 1 Parabasal, 17.5ms\n",
            "image 410/835 /content/drive/MyDrive/CerviCure.v2i.yolov8/valid/images/082_08_bmp.rf.0acc31c47c59f4f48a20d012fea7cb96.jpg: 640x640 1 Metaplastic, 19.6ms\n",
            "image 411/835 /content/drive/MyDrive/CerviCure.v2i.yolov8/valid/images/082_09_bmp.rf.6b8a2d3749903cceb0442461a4989307.jpg: 640x640 1 Metaplastic, 19.2ms\n",
            "image 412/835 /content/drive/MyDrive/CerviCure.v2i.yolov8/valid/images/083_01_bmp.rf.1895522986072ff27fb5f33fa74d07c5.jpg: 640x640 2 Metaplastics, 18.8ms\n",
            "image 413/835 /content/drive/MyDrive/CerviCure.v2i.yolov8/valid/images/083_02_bmp.rf.23e19223f86747bc690be1188c00ab7a.jpg: 640x640 1 Superficial Squamous, 18.3ms\n",
            "image 414/835 /content/drive/MyDrive/CerviCure.v2i.yolov8/valid/images/083_05_bmp.rf.cb59156ff08ec96190e9e14e0b90aff3.jpg: 640x640 1 Superficial Squamous, 18.1ms\n",
            "image 415/835 /content/drive/MyDrive/CerviCure.v2i.yolov8/valid/images/083_bmp.rf.e0f3ed6a35ffe63c120d8ad992e3d201.jpg: 640x640 15 Intermediate Squamouss, 14 Superficial Squamouss, 18.5ms\n",
            "image 416/835 /content/drive/MyDrive/CerviCure.v2i.yolov8/valid/images/085_01_bmp.rf.3d90ecc1f230627c280846420f2979cc.jpg: 640x640 1 Superficial Squamous, 18.6ms\n",
            "image 417/835 /content/drive/MyDrive/CerviCure.v2i.yolov8/valid/images/085_01_bmp.rf.5e27957034f90674253fe35664171c3d.jpg: 640x640 1 Mild Koilocytosis, 17.6ms\n",
            "image 418/835 /content/drive/MyDrive/CerviCure.v2i.yolov8/valid/images/085_01_bmp.rf.673c8e10fc3f7d5b948c9dc33f4e431e.jpg: 640x640 1 Dyskeratosis in HSIL, 19.0ms\n",
            "image 419/835 /content/drive/MyDrive/CerviCure.v2i.yolov8/valid/images/085_02_bmp.rf.0d26c7377fbde00a75e8877adad0cf3c.jpg: 640x640 1 Metaplastic, 1 Severe Koilocytosis, 18.6ms\n",
            "image 420/835 /content/drive/MyDrive/CerviCure.v2i.yolov8/valid/images/085_02_bmp.rf.407f44f55b5ffc9ae0069b209ec0a7b1.jpg: 640x640 1 Metaplastic, 18.6ms\n",
            "image 421/835 /content/drive/MyDrive/CerviCure.v2i.yolov8/valid/images/085_03_bmp.rf.7e0b1af0c9839c488341183c7a498ab2.jpg: 640x640 1 Mild Koilocytosis, 18.6ms\n",
            "image 422/835 /content/drive/MyDrive/CerviCure.v2i.yolov8/valid/images/085_03_bmp.rf.a352fbc87be9756efd88bad47ee3abcd.jpg: 640x640 1 Metaplastic, 19.6ms\n",
            "image 423/835 /content/drive/MyDrive/CerviCure.v2i.yolov8/valid/images/086_02_bmp.rf.c77dfc76d770a47a2c9c26d9b337592d.jpg: 640x640 1 Parabasal, 19.0ms\n",
            "image 424/835 /content/drive/MyDrive/CerviCure.v2i.yolov8/valid/images/086_03_bmp.rf.9354433c075c363aa5f802d8533f3e16.jpg: 640x640 1 Superficial Squamous, 18.3ms\n",
            "image 425/835 /content/drive/MyDrive/CerviCure.v2i.yolov8/valid/images/086_09_bmp.rf.fd9839438e3b57c4d707871f54f3fc5b.jpg: 640x640 1 Parabasal, 18.9ms\n",
            "image 426/835 /content/drive/MyDrive/CerviCure.v2i.yolov8/valid/images/087_01_bmp.rf.16067d664d45906e3cf0d24f7ec84792.jpg: 640x640 1 Metaplastic, 18.2ms\n",
            "image 427/835 /content/drive/MyDrive/CerviCure.v2i.yolov8/valid/images/087_03_bmp.rf.a892473f8e2cce926a0a9485b9b58738.jpg: 640x640 1 Dyskeratosis in HSIL, 18.3ms\n",
            "image 428/835 /content/drive/MyDrive/CerviCure.v2i.yolov8/valid/images/087_08_bmp.rf.57a578f2bea23bc68ed31746b85602d9.jpg: 640x640 1 Dyskeratosis in HSIL, 18.5ms\n",
            "image 429/835 /content/drive/MyDrive/CerviCure.v2i.yolov8/valid/images/087_14_bmp.rf.36e351e303c765ce21f2cb4646b71e43.jpg: 640x640 1 Dyskeratosis in HSIL, 18.6ms\n",
            "image 430/835 /content/drive/MyDrive/CerviCure.v2i.yolov8/valid/images/088_01_bmp.rf.eda41d44e4eb78d0bbae06fef7a49931.jpg: 640x640 1 Mild Koilocytosis, 1 Severe Koilocytosis, 19.0ms\n",
            "image 431/835 /content/drive/MyDrive/CerviCure.v2i.yolov8/valid/images/088_02_bmp.rf.bcd65a27060d4df3a7ceb141a7958214.jpg: 640x640 1 Mild Koilocytosis, 19.2ms\n",
            "image 432/835 /content/drive/MyDrive/CerviCure.v2i.yolov8/valid/images/088_02_bmp.rf.c97c0b0b57e8d25236093025e5b8b69c.jpg: 640x640 1 Superficial Squamous, 18.9ms\n",
            "image 433/835 /content/drive/MyDrive/CerviCure.v2i.yolov8/valid/images/088_04_bmp.rf.18c68ac66069ceaaab510faef9370836.jpg: 640x640 1 Metaplastic, 18.7ms\n",
            "image 434/835 /content/drive/MyDrive/CerviCure.v2i.yolov8/valid/images/088_06_bmp.rf.5076dd55201b6928de260b687761c94b.jpg: 640x640 1 Mild Koilocytosis, 18.4ms\n",
            "image 435/835 /content/drive/MyDrive/CerviCure.v2i.yolov8/valid/images/088_07_bmp.rf.fee970800c4c121a93f135e59f8ad533.jpg: 640x640 1 Mild Koilocytosis, 1 Severe Koilocytosis, 18.0ms\n",
            "image 436/835 /content/drive/MyDrive/CerviCure.v2i.yolov8/valid/images/088_10_bmp.rf.8cc65d4eab8ff117f2129d35ac7f6788.jpg: 640x640 1 Mild Koilocytosis, 17.6ms\n",
            "image 437/835 /content/drive/MyDrive/CerviCure.v2i.yolov8/valid/images/088_11_bmp.rf.356f4351eb486be744f7f1f9e1b442fb.jpg: 640x640 1 Mild Koilocytosis, 18.6ms\n",
            "image 438/835 /content/drive/MyDrive/CerviCure.v2i.yolov8/valid/images/088_bmp.rf.598bb8119a72c07847e12ecb864fad41.jpg: 640x640 17 Intermediate Squamouss, 11 Superficial Squamouss, 20.8ms\n",
            "image 439/835 /content/drive/MyDrive/CerviCure.v2i.yolov8/valid/images/090_01_bmp.rf.8c037f6025b6146c0acb95840c122a1d.jpg: 640x640 1 Superficial Squamous, 18.6ms\n",
            "image 440/835 /content/drive/MyDrive/CerviCure.v2i.yolov8/valid/images/090_03_bmp.rf.adfa1bbd0b376295e4e53756ae952612.jpg: 640x640 1 Metaplastic, 19.9ms\n",
            "image 441/835 /content/drive/MyDrive/CerviCure.v2i.yolov8/valid/images/091_01_bmp.rf.168d4f00ab45a68854b3a21d494e4bf4.jpg: 640x640 1 Parabasal, 19.0ms\n",
            "image 442/835 /content/drive/MyDrive/CerviCure.v2i.yolov8/valid/images/091_04_bmp.rf.d1cd0e299e872cda2bb55dc651731535.jpg: 640x640 1 Metaplastic, 18.2ms\n",
            "image 443/835 /content/drive/MyDrive/CerviCure.v2i.yolov8/valid/images/092_02_bmp.rf.945822435c6f7b640784cab510bb1e6c.jpg: 640x640 1 Metaplastic, 19.3ms\n",
            "image 444/835 /content/drive/MyDrive/CerviCure.v2i.yolov8/valid/images/092_02_bmp.rf.aa991fb9e4cdd23517be30702b16e218.jpg: 640x640 1 Severe Koilocytosis, 18.3ms\n",
            "image 445/835 /content/drive/MyDrive/CerviCure.v2i.yolov8/valid/images/092_03_bmp.rf.916243647542f99da875f29f39aef70c.jpg: 640x640 1 Dyskeratosis in HSIL, 18.0ms\n",
            "image 446/835 /content/drive/MyDrive/CerviCure.v2i.yolov8/valid/images/092_03_bmp.rf.b0d58522ec3ac7435419bb72460d4823.jpg: 640x640 1 Metaplastic, 1 Parabasal, 18.6ms\n",
            "image 447/835 /content/drive/MyDrive/CerviCure.v2i.yolov8/valid/images/092_04_bmp.rf.3019550c2141a55942971b7932515ec3.jpg: 640x640 1 Dyskeratosis in HSIL, 19.6ms\n",
            "image 448/835 /content/drive/MyDrive/CerviCure.v2i.yolov8/valid/images/092_04_bmp.rf.9941abfe8d9b1c20f7930e1cb31036b1.jpg: 640x640 1 Metaplastic, 19.8ms\n",
            "image 449/835 /content/drive/MyDrive/CerviCure.v2i.yolov8/valid/images/092_04_bmp.rf.c21f59381b92fec792b178a78a2c8e04.jpg: 640x640 1 Parabasal, 19.0ms\n",
            "image 450/835 /content/drive/MyDrive/CerviCure.v2i.yolov8/valid/images/092_05_bmp.rf.3e5ca07b29086c1a876025fd2cc1121d.jpg: 640x640 1 Metaplastic, 18.4ms\n",
            "image 451/835 /content/drive/MyDrive/CerviCure.v2i.yolov8/valid/images/093_01_bmp.rf.f77aa02256989b1750b9fea89ddd2d8d.jpg: 640x640 1 Parabasal, 18.5ms\n",
            "image 452/835 /content/drive/MyDrive/CerviCure.v2i.yolov8/valid/images/093_03_bmp.rf.ddfb7889250f34ac44643e60a3891f17.jpg: 640x640 1 Intermediate Squamous, 1 Superficial Squamous, 19.9ms\n",
            "image 453/835 /content/drive/MyDrive/CerviCure.v2i.yolov8/valid/images/093_05_bmp.rf.1991aac1df41e34dff7483faf6758d06.jpg: 640x640 1 Parabasal, 17.9ms\n",
            "image 454/835 /content/drive/MyDrive/CerviCure.v2i.yolov8/valid/images/093_09_bmp.rf.ab946f9abcd5ebebec12ab527fb16cef.jpg: 640x640 1 Parabasal, 17.6ms\n",
            "image 455/835 /content/drive/MyDrive/CerviCure.v2i.yolov8/valid/images/093_11_bmp.rf.8e366dea84d308acff887ab1ac852a70.jpg: 640x640 1 Parabasal, 18.7ms\n",
            "image 456/835 /content/drive/MyDrive/CerviCure.v2i.yolov8/valid/images/093_16_bmp.rf.a17c73833409c13dc690446f756cbbc8.jpg: 640x640 1 Parabasal, 20.0ms\n",
            "image 457/835 /content/drive/MyDrive/CerviCure.v2i.yolov8/valid/images/093_17_bmp.rf.491ffd499a455a887abd2a55eb3642a5.jpg: 640x640 1 Parabasal, 19.4ms\n",
            "image 458/835 /content/drive/MyDrive/CerviCure.v2i.yolov8/valid/images/093_18_bmp.rf.7e01f7e91eb215e03ad636c93ae61db1.jpg: 640x640 1 Parabasal, 18.8ms\n",
            "image 459/835 /content/drive/MyDrive/CerviCure.v2i.yolov8/valid/images/093_20_bmp.rf.3115d330d1b2d51590d74debda4aad3f.jpg: 640x640 1 Parabasal, 18.5ms\n",
            "image 460/835 /content/drive/MyDrive/CerviCure.v2i.yolov8/valid/images/093_21_bmp.rf.aeeb89c7ce170ec373168e0c1b873ee3.jpg: 640x640 1 Parabasal, 20.2ms\n",
            "image 461/835 /content/drive/MyDrive/CerviCure.v2i.yolov8/valid/images/093_25_bmp.rf.8c25a3943d5f0d35fdbbe88f7e0202e8.jpg: 640x640 1 Parabasal, 19.6ms\n",
            "image 462/835 /content/drive/MyDrive/CerviCure.v2i.yolov8/valid/images/094_01_bmp.rf.a4ded1660e36df521e8d7afd5577feb3.jpg: 640x640 1 Mild Koilocytosis, 1 Severe Koilocytosis, 17.6ms\n",
            "image 463/835 /content/drive/MyDrive/CerviCure.v2i.yolov8/valid/images/094_07_bmp.rf.6efa89ecabd55e0c8a17a34f76628193.jpg: 640x640 1 Mild Koilocytosis, 19.7ms\n",
            "image 464/835 /content/drive/MyDrive/CerviCure.v2i.yolov8/valid/images/094_07_bmp.rf.a4c0aab0ac3b497108d27ad06ff45499.jpg: 640x640 1 Intermediate Squamous, 1 Superficial Squamous, 19.2ms\n",
            "image 465/835 /content/drive/MyDrive/CerviCure.v2i.yolov8/valid/images/094_07_bmp.rf.b37310eee3d3cdf341e7513bd37d82f1.jpg: 640x640 1 Parabasal, 18.4ms\n",
            "image 466/835 /content/drive/MyDrive/CerviCure.v2i.yolov8/valid/images/094_08_bmp.rf.3552a82b5c24f2deea05eafddf9da33a.jpg: 640x640 1 Parabasal, 19.1ms\n",
            "image 467/835 /content/drive/MyDrive/CerviCure.v2i.yolov8/valid/images/095_01_bmp.rf.3d82759639f64f114a2366f48f39ae6b.jpg: 640x640 1 Metaplastic, 19.7ms\n",
            "image 468/835 /content/drive/MyDrive/CerviCure.v2i.yolov8/valid/images/095_02_bmp.rf.c4c11b7e68d29215fbf45bc15bf971de.jpg: 640x640 1 Dyskeratosis in HSIL, 19.0ms\n",
            "image 469/835 /content/drive/MyDrive/CerviCure.v2i.yolov8/valid/images/095_06_bmp.rf.f5bf085d32eb85f5ffe1f6ef9e8dee8a.jpg: 640x640 1 Parabasal, 18.3ms\n",
            "image 470/835 /content/drive/MyDrive/CerviCure.v2i.yolov8/valid/images/095_09_bmp.rf.f87e78d78e6587e7d8a93c445ec58d8f.jpg: 640x640 1 Parabasal, 20.6ms\n",
            "image 471/835 /content/drive/MyDrive/CerviCure.v2i.yolov8/valid/images/095_11_bmp.rf.1d7aa9de774302b6470630601bad8183.jpg: 640x640 1 Mild Koilocytosis, 18.1ms\n",
            "image 472/835 /content/drive/MyDrive/CerviCure.v2i.yolov8/valid/images/095_12_bmp.rf.6f4ce8f2c7e4f6d365bfb39c872e9c77.jpg: 640x640 1 Parabasal, 18.0ms\n",
            "image 473/835 /content/drive/MyDrive/CerviCure.v2i.yolov8/valid/images/095_14_bmp.rf.32dc9a8f7836ca5dfbce4f9d60f3d587.jpg: 640x640 1 Mild Koilocytosis, 20.2ms\n",
            "image 474/835 /content/drive/MyDrive/CerviCure.v2i.yolov8/valid/images/096_01_bmp.rf.54bca0d1b209e8009d9b92e044d95ecf.jpg: 640x640 1 Metaplastic, 19.4ms\n",
            "image 475/835 /content/drive/MyDrive/CerviCure.v2i.yolov8/valid/images/096_02_bmp.rf.8ade8d4615da1fae3a3decd08f730cf1.jpg: 640x640 1 Metaplastic, 18.7ms\n",
            "image 476/835 /content/drive/MyDrive/CerviCure.v2i.yolov8/valid/images/096_02_bmp.rf.f8a5f89058e7a30c44833df5ac26fa20.jpg: 640x640 1 Superficial Squamous, 18.3ms\n",
            "image 477/835 /content/drive/MyDrive/CerviCure.v2i.yolov8/valid/images/096_04_bmp.rf.04ac45b24491b6c4599a774bdfcc6efd.jpg: 640x640 1 Superficial Squamous, 19.1ms\n",
            "image 478/835 /content/drive/MyDrive/CerviCure.v2i.yolov8/valid/images/096_05_bmp.rf.165aa9361a6ab5660c9ba4ac03591c22.jpg: 640x640 1 Parabasal, 19.8ms\n",
            "image 479/835 /content/drive/MyDrive/CerviCure.v2i.yolov8/valid/images/096_05_bmp.rf.4646615ed87b29fedb8f694e430cbc88.jpg: 640x640 1 Metaplastic, 1 Severe Koilocytosis, 18.1ms\n",
            "image 480/835 /content/drive/MyDrive/CerviCure.v2i.yolov8/valid/images/096_07_bmp.rf.5badab8094e4a966d4579b65bf9ff038.jpg: 640x640 1 Superficial Squamous, 17.6ms\n",
            "image 481/835 /content/drive/MyDrive/CerviCure.v2i.yolov8/valid/images/097_01_bmp.rf.adc5ab983a7f4f3ef74f4085cb891487.jpg: 640x640 1 Metaplastic, 1 Mild Koilocytosis, 18.9ms\n",
            "image 482/835 /content/drive/MyDrive/CerviCure.v2i.yolov8/valid/images/097_01_bmp.rf.c4e7b8c8b960b9f8512f3c174358bda3.jpg: 640x640 1 Parabasal, 20.0ms\n",
            "image 483/835 /content/drive/MyDrive/CerviCure.v2i.yolov8/valid/images/097_02_bmp.rf.f5e79be84c77a3bd29cd07861737bcb1.jpg: 640x640 1 Metaplastic, 1 Parabasal, 19.6ms\n",
            "image 484/835 /content/drive/MyDrive/CerviCure.v2i.yolov8/valid/images/097_05_bmp.rf.aa3f3dea10bbfea5fb4c3b731d945eb9.jpg: 640x640 1 Mild Koilocytosis, 18.7ms\n",
            "image 485/835 /content/drive/MyDrive/CerviCure.v2i.yolov8/valid/images/097_05_bmp.rf.f2db1913260d3892de52d52c4b93a995.jpg: 640x640 1 Dyskeratosis in HSIL, 18.0ms\n",
            "image 486/835 /content/drive/MyDrive/CerviCure.v2i.yolov8/valid/images/097_07_bmp.rf.aef05b868da321c5cf46890a04f816cc.jpg: 640x640 1 Parabasal, 19.4ms\n",
            "image 487/835 /content/drive/MyDrive/CerviCure.v2i.yolov8/valid/images/097_10_bmp.rf.617126f580b4065b84cef9df62524e10.jpg: 640x640 1 Mild Koilocytosis, 19.6ms\n",
            "image 488/835 /content/drive/MyDrive/CerviCure.v2i.yolov8/valid/images/097_11_bmp.rf.1fd87cea05a0438efdab16beb3744a34.jpg: 640x640 1 Parabasal, 17.6ms\n",
            "image 489/835 /content/drive/MyDrive/CerviCure.v2i.yolov8/valid/images/097_13_bmp.rf.643e41495e832f1a3a65b800d04349da.jpg: 640x640 1 Parabasal, 18.6ms\n",
            "image 490/835 /content/drive/MyDrive/CerviCure.v2i.yolov8/valid/images/097_14_bmp.rf.eb40d20776d1fa371bfed4a703cb8721.jpg: 640x640 1 Parabasal, 19.5ms\n",
            "image 491/835 /content/drive/MyDrive/CerviCure.v2i.yolov8/valid/images/098_01_bmp.rf.ebaf1a76b2e3344b8540c65a841a4485.jpg: 640x640 1 Metaplastic, 19.0ms\n",
            "image 492/835 /content/drive/MyDrive/CerviCure.v2i.yolov8/valid/images/098_02_bmp.rf.1018dd97a0ba16942a25f5768f5e5ec9.jpg: 640x640 1 Mild Koilocytosis, 18.1ms\n",
            "image 493/835 /content/drive/MyDrive/CerviCure.v2i.yolov8/valid/images/098_02_bmp.rf.63bd85569d45843e96f4af26827aa593.jpg: 640x640 1 Parabasal, 19.0ms\n",
            "image 494/835 /content/drive/MyDrive/CerviCure.v2i.yolov8/valid/images/098_bmp.rf.24b106a54b71aa4831035b99799580fb.jpg: 640x640 22 Intermediate Squamouss, 2 Superficial Squamouss, 19.1ms\n",
            "image 495/835 /content/drive/MyDrive/CerviCure.v2i.yolov8/valid/images/099_01_bmp.rf.008af081296847c064ee1042b9ec5f98.jpg: 640x640 1 Parabasal, 17.9ms\n",
            "image 496/835 /content/drive/MyDrive/CerviCure.v2i.yolov8/valid/images/099_02_bmp.rf.c8d4f84a1761c2761217d01758bb47e1.jpg: 640x640 1 Parabasal, 18.9ms\n",
            "image 497/835 /content/drive/MyDrive/CerviCure.v2i.yolov8/valid/images/099_04_bmp.rf.093a0ed3f08842e0afa430db8c59cb17.jpg: 640x640 1 Mild Koilocytosis, 17.7ms\n",
            "image 498/835 /content/drive/MyDrive/CerviCure.v2i.yolov8/valid/images/099_04_bmp.rf.788b8d4e4b4e6e89473b5dcee57c2f05.jpg: 640x640 1 Parabasal, 18.1ms\n",
            "image 499/835 /content/drive/MyDrive/CerviCure.v2i.yolov8/valid/images/099_07_bmp.rf.1804fbe82f39aa0aa079b0fe124b6b51.jpg: 640x640 1 Metaplastic, 1 Parabasal, 20.0ms\n",
            "image 500/835 /content/drive/MyDrive/CerviCure.v2i.yolov8/valid/images/099_09_bmp.rf.052db1d3e5a5a2fcce65c013e33fc460.jpg: 640x640 1 Intermediate Squamous, 19.4ms\n",
            "image 501/835 /content/drive/MyDrive/CerviCure.v2i.yolov8/valid/images/099_09_bmp.rf.6337802e7db77a907ee153ef0677b373.jpg: 640x640 1 Parabasal, 18.7ms\n",
            "image 502/835 /content/drive/MyDrive/CerviCure.v2i.yolov8/valid/images/099_12_bmp.rf.3e9b526ad725718a995055d1fda0b14e.jpg: 640x640 1 Parabasal, 18.2ms\n",
            "image 503/835 /content/drive/MyDrive/CerviCure.v2i.yolov8/valid/images/099_13_bmp.rf.664ed33da1fa58173cebd2759310ffce.jpg: 640x640 1 Mild Koilocytosis, 19.4ms\n",
            "image 504/835 /content/drive/MyDrive/CerviCure.v2i.yolov8/valid/images/099_13_bmp.rf.ee1fae7140a5d32013e5c3b5de0009a5.jpg: 640x640 1 Parabasal, 19.5ms\n",
            "image 505/835 /content/drive/MyDrive/CerviCure.v2i.yolov8/valid/images/100_01_bmp.rf.659dbfd4b8062acea81da2a8c177c375.jpg: 640x640 1 Metaplastic, 1 Mild Koilocytosis, 18.9ms\n",
            "image 506/835 /content/drive/MyDrive/CerviCure.v2i.yolov8/valid/images/100_01_bmp.rf.ff317481571743de9df8c9ffc864d106.jpg: 640x640 1 Superficial Squamous, 17.4ms\n",
            "image 507/835 /content/drive/MyDrive/CerviCure.v2i.yolov8/valid/images/100_02_bmp.rf.0f5ad32a83308ddb7d5e528a69db4fac.jpg: 640x640 1 Dyskeratosis in HSIL, 1 Dyskeratosis in SCC, 17.8ms\n",
            "image 508/835 /content/drive/MyDrive/CerviCure.v2i.yolov8/valid/images/100_03_bmp.rf.f642ed89d977650259626d09f521123f.jpg: 640x640 1 Dyskeratosis in SCC, 1 Severe Koilocytosis, 18.3ms\n",
            "image 509/835 /content/drive/MyDrive/CerviCure.v2i.yolov8/valid/images/100_03_bmp.rf.f8d80053343b8050cb4ac1501287bbe7.jpg: 640x640 1 Metaplastic, 1 Mild Koilocytosis, 17.4ms\n",
            "image 510/835 /content/drive/MyDrive/CerviCure.v2i.yolov8/valid/images/100_04_bmp.rf.edb7a10868c90893090f7381d6a4d69d.jpg: 640x640 1 Dyskeratosis in SCC, 18.6ms\n",
            "image 511/835 /content/drive/MyDrive/CerviCure.v2i.yolov8/valid/images/100_05_bmp.rf.88e8544b780fb3a625e52f83561f239d.jpg: 640x640 1 Parabasal, 19.3ms\n",
            "image 512/835 /content/drive/MyDrive/CerviCure.v2i.yolov8/valid/images/100_06_bmp.rf.01ad0fb8de51937706024e9a7f49d510.jpg: 640x640 1 Dyskeratosis in SCC, 17.5ms\n",
            "image 513/835 /content/drive/MyDrive/CerviCure.v2i.yolov8/valid/images/100_06_bmp.rf.69b8b838d0b015704750e4664d9fdf9d.jpg: 640x640 1 Superficial Squamous, 18.5ms\n",
            "image 514/835 /content/drive/MyDrive/CerviCure.v2i.yolov8/valid/images/100_06_bmp.rf.d2c22d592391bd122e2c387cb83d60e0.jpg: 640x640 1 Parabasal, 19.5ms\n",
            "image 515/835 /content/drive/MyDrive/CerviCure.v2i.yolov8/valid/images/100_08_bmp.rf.1dbfd6b5dfbc5056a29aa22b29e4989e.jpg: 640x640 1 Parabasal, 18.8ms\n",
            "image 516/835 /content/drive/MyDrive/CerviCure.v2i.yolov8/valid/images/100_10_bmp.rf.5a0ed9472d25a83f882af27dd8c8d92a.jpg: 640x640 1 Parabasal, 18.1ms\n",
            "image 517/835 /content/drive/MyDrive/CerviCure.v2i.yolov8/valid/images/100_13_bmp.rf.44400512780914b77fb8513afb49cf23.jpg: 640x640 1 Parabasal, 19.3ms\n",
            "image 518/835 /content/drive/MyDrive/CerviCure.v2i.yolov8/valid/images/101_01_bmp.rf.b5db27ff75b1331a3e18a3646a2f197b.jpg: 640x640 1 Parabasal, 19.7ms\n",
            "image 519/835 /content/drive/MyDrive/CerviCure.v2i.yolov8/valid/images/101_01_bmp.rf.d81b1096f288d39f07d2381fba951a02.jpg: 640x640 1 Dyskeratosis in HSIL, 18.9ms\n",
            "image 520/835 /content/drive/MyDrive/CerviCure.v2i.yolov8/valid/images/101_02_bmp.rf.63dc0e48eb50e9c7d1027c1d6a3911a4.jpg: 640x640 1 Parabasal, 18.6ms\n",
            "image 521/835 /content/drive/MyDrive/CerviCure.v2i.yolov8/valid/images/101_04_bmp.rf.235f6229fc65f2b2ed625672ef667f14.jpg: 640x640 1 Parabasal, 18.0ms\n",
            "image 522/835 /content/drive/MyDrive/CerviCure.v2i.yolov8/valid/images/101_04_bmp.rf.b01db60a77c0772b2a0b7ffee85603ac.jpg: 640x640 1 Metaplastic, 17.6ms\n",
            "image 523/835 /content/drive/MyDrive/CerviCure.v2i.yolov8/valid/images/101_05_bmp.rf.e6dbe9a746222e2c9be91f59cb0ea1b4.jpg: 640x640 1 Parabasal, 18.4ms\n",
            "image 524/835 /content/drive/MyDrive/CerviCure.v2i.yolov8/valid/images/101_08_bmp.rf.79a2743c1a7d4c15a4fd353b1f279092.jpg: 640x640 1 Dyskeratosis in HSIL, 1 Dyskeratosis in SCC, 20.4ms\n",
            "image 525/835 /content/drive/MyDrive/CerviCure.v2i.yolov8/valid/images/101_09_bmp.rf.e3737ee4fa895106e9d0de3710db2166.jpg: 640x640 1 Dyskeratosis in HSIL, 19.7ms\n",
            "image 526/835 /content/drive/MyDrive/CerviCure.v2i.yolov8/valid/images/102_01_bmp.rf.15c969f6a62d8f3506fc79f95c9512ee.jpg: 640x640 1 Metaplastic, 1 Mild Koilocytosis, 18.8ms\n",
            "image 527/835 /content/drive/MyDrive/CerviCure.v2i.yolov8/valid/images/102_02_bmp.rf.80496866b3475c78a583b60bb3e21a75.jpg: 640x640 1 Mild Koilocytosis, 18.5ms\n",
            "image 528/835 /content/drive/MyDrive/CerviCure.v2i.yolov8/valid/images/102_02_bmp.rf.ded24175ed1f7ce9b7e17efe4a97284b.jpg: 640x640 1 Parabasal, 19.0ms\n",
            "image 529/835 /content/drive/MyDrive/CerviCure.v2i.yolov8/valid/images/102_04_bmp.rf.345a8ffb2b561ae1988fccac74d2417b.jpg: 640x640 1 Mild Koilocytosis, 19.5ms\n",
            "image 530/835 /content/drive/MyDrive/CerviCure.v2i.yolov8/valid/images/102_04_bmp.rf.828ebc5401ef5290daf0ad1373b67473.jpg: 640x640 1 Parabasal, 17.6ms\n",
            "image 531/835 /content/drive/MyDrive/CerviCure.v2i.yolov8/valid/images/102_07_bmp.rf.fa26e1624f41c7ae7bc7e3b71fc30ee4.jpg: 640x640 1 Dyskeratosis in HSIL, 18.2ms\n",
            "image 532/835 /content/drive/MyDrive/CerviCure.v2i.yolov8/valid/images/102_08_bmp.rf.5a6d7549a376f47fe1ef443b6e8cd94a.jpg: 640x640 1 Metaplastic, 19.7ms\n",
            "image 533/835 /content/drive/MyDrive/CerviCure.v2i.yolov8/valid/images/102_09_bmp.rf.cb42760f02444d357955a24528dac2a3.jpg: 640x640 1 Dyskeratosis in HSIL, 1 Dyskeratosis in SCC, 19.1ms\n",
            "image 534/835 /content/drive/MyDrive/CerviCure.v2i.yolov8/valid/images/103_02_bmp.rf.88bef9b545839426a797cdc5c0c752f1.jpg: 640x640 1 Mild Koilocytosis, 1 Superficial Squamous, 18.3ms\n",
            "image 535/835 /content/drive/MyDrive/CerviCure.v2i.yolov8/valid/images/103_03_bmp.rf.802448ce9cd67346008d9b4c689ba590.jpg: 640x640 1 Dyskeratosis in SCC, 18.8ms\n",
            "image 536/835 /content/drive/MyDrive/CerviCure.v2i.yolov8/valid/images/103_03_bmp.rf.9572851bbee6bacb1153c52d46e0d7eb.jpg: 640x640 1 Intermediate Squamous, 19.7ms\n",
            "image 537/835 /content/drive/MyDrive/CerviCure.v2i.yolov8/valid/images/103_06_bmp.rf.2ff07114bff7f77c13231281be79e9af.jpg: 640x640 1 Superficial Squamous, 18.9ms\n",
            "image 538/835 /content/drive/MyDrive/CerviCure.v2i.yolov8/valid/images/103_bmp.rf.116fe19cc047fbfd3328015ee0c89152.jpg: 640x640 18 Intermediate Squamouss, 18.1ms\n",
            "image 539/835 /content/drive/MyDrive/CerviCure.v2i.yolov8/valid/images/104_01_bmp.rf.9144ca8d54bb1d2fe3a7eea803d47aff.jpg: 640x640 1 Superficial Squamous, 17.7ms\n",
            "image 540/835 /content/drive/MyDrive/CerviCure.v2i.yolov8/valid/images/104_02_bmp.rf.44db8fb85724ccb19b30061f25caa5bc.jpg: 640x640 1 Dyskeratosis in HSIL, 19.7ms\n",
            "image 541/835 /content/drive/MyDrive/CerviCure.v2i.yolov8/valid/images/104_04_bmp.rf.c32663a7df53447caa030dfc208e9ca8.jpg: 640x640 1 Metaplastic, 19.1ms\n",
            "image 542/835 /content/drive/MyDrive/CerviCure.v2i.yolov8/valid/images/104_04_bmp.rf.f744f47039b2368316d939a7192c5b82.jpg: 640x640 1 Mild Koilocytosis, 1 Severe Koilocytosis, 18.3ms\n",
            "image 543/835 /content/drive/MyDrive/CerviCure.v2i.yolov8/valid/images/104_06_bmp.rf.8e38003f6e497b4bb163969710dc3fc2.jpg: 640x640 1 Severe Koilocytosis, 19.1ms\n",
            "image 544/835 /content/drive/MyDrive/CerviCure.v2i.yolov8/valid/images/104_07_bmp.rf.a1ab77a89ed1676586a4952cc470dbff.jpg: 640x640 1 Dyskeratosis in HSIL, 1 Dyskeratosis in SCC, 19.7ms\n",
            "image 545/835 /content/drive/MyDrive/CerviCure.v2i.yolov8/valid/images/104_bmp.rf.b01c5e5b3a14278d209dcd624f4aa2c5.jpg: 640x640 28 Intermediate Squamouss, 3 Superficial Squamouss, 18.9ms\n",
            "image 546/835 /content/drive/MyDrive/CerviCure.v2i.yolov8/valid/images/105_03_bmp.rf.2066db0fc0989f1ef04ec0f3f1693643.jpg: 640x640 1 Dyskeratosis in SCC, 17.6ms\n",
            "image 547/835 /content/drive/MyDrive/CerviCure.v2i.yolov8/valid/images/105_04_bmp.rf.cfc0af791323229da1ebd9fb84b10aca.jpg: 640x640 1 Mild Koilocytosis, 1 Severe Koilocytosis, 18.9ms\n",
            "image 548/835 /content/drive/MyDrive/CerviCure.v2i.yolov8/valid/images/105_06_bmp.rf.2d9e555e6385fd48c1cfa26197d758dd.jpg: 640x640 1 Mild Koilocytosis, 17.6ms\n",
            "image 549/835 /content/drive/MyDrive/CerviCure.v2i.yolov8/valid/images/105_08_bmp.rf.916f2f3588f98f02245aa10f119aeeb8.jpg: 640x640 1 Dyskeratosis in SCC, 1 Severe Koilocytosis, 19.8ms\n",
            "image 550/835 /content/drive/MyDrive/CerviCure.v2i.yolov8/valid/images/105_11_bmp.rf.d6b5de53f7e551f22b91b0b02d7b53ba.jpg: 640x640 1 Severe Koilocytosis, 19.2ms\n",
            "image 551/835 /content/drive/MyDrive/CerviCure.v2i.yolov8/valid/images/106_01_bmp.rf.9842c964273361d19c676cafceabc73d.jpg: 640x640 1 Metaplastic, 18.6ms\n",
            "image 552/835 /content/drive/MyDrive/CerviCure.v2i.yolov8/valid/images/106_07_bmp.rf.6ff2dbcc890d249c0fa03c1e46c35e71.jpg: 640x640 1 Parabasal, 18.3ms\n",
            "image 553/835 /content/drive/MyDrive/CerviCure.v2i.yolov8/valid/images/106_08_bmp.rf.195013c23b74a7d66481290ab85b60da.jpg: 640x640 1 Intermediate Squamous, 1 Superficial Squamous, 18.7ms\n",
            "image 554/835 /content/drive/MyDrive/CerviCure.v2i.yolov8/valid/images/106_09_bmp.rf.b64f9115b33aca8b8e8a9c566ec8966c.jpg: 640x640 1 Intermediate Squamous, 19.8ms\n",
            "image 555/835 /content/drive/MyDrive/CerviCure.v2i.yolov8/valid/images/107_02_bmp.rf.06a7f5924764552a8811645ca88cb1a8.jpg: 640x640 1 Dyskeratosis in SCC, 19.1ms\n",
            "image 556/835 /content/drive/MyDrive/CerviCure.v2i.yolov8/valid/images/107_07_bmp.rf.18194795c4e5d1e57e8c31b7ec21bc9d.jpg: 640x640 1 Intermediate Squamous, 18.3ms\n",
            "image 557/835 /content/drive/MyDrive/CerviCure.v2i.yolov8/valid/images/108_02_bmp.rf.4686f702ab50f9dc6816be1e7a9aaa11.jpg: 640x640 1 Mild Koilocytosis, 17.7ms\n",
            "image 558/835 /content/drive/MyDrive/CerviCure.v2i.yolov8/valid/images/108_03_bmp.rf.1e10519d901dca463dea137fde63ab9b.jpg: 640x640 1 Parabasal, 18.7ms\n",
            "image 559/835 /content/drive/MyDrive/CerviCure.v2i.yolov8/valid/images/108_04_bmp.rf.b8ad333f74134301a57c04a97182c724.jpg: 640x640 1 Superficial Squamous, 18.3ms\n",
            "image 560/835 /content/drive/MyDrive/CerviCure.v2i.yolov8/valid/images/108_07_bmp.rf.23c35d7ca5f35ac02069ba5df8775ac3.jpg: 640x640 1 Metaplastic, 1 Mild Koilocytosis, 18.4ms\n",
            "image 561/835 /content/drive/MyDrive/CerviCure.v2i.yolov8/valid/images/108_08_bmp.rf.464e85c849fbb5dab59a8ebc7129cba3.jpg: 640x640 1 Intermediate Squamous, 18.3ms\n",
            "image 562/835 /content/drive/MyDrive/CerviCure.v2i.yolov8/valid/images/108_12_bmp.rf.c926539ba1905ba5c7886e9b1bbf7820.jpg: 640x640 1 Mild Koilocytosis, 1 Severe Koilocytosis, 19.3ms\n",
            "image 563/835 /content/drive/MyDrive/CerviCure.v2i.yolov8/valid/images/108_bmp.rf.699acfb260dc641da83782cf0859b0cc.jpg: 640x640 44 Intermediate Squamouss, 3 Superficial Squamouss, 18.9ms\n",
            "image 564/835 /content/drive/MyDrive/CerviCure.v2i.yolov8/valid/images/109_01_bmp.rf.90bc26f88c905370753a6809f6177573.jpg: 640x640 1 Superficial Squamous, 17.6ms\n",
            "image 565/835 /content/drive/MyDrive/CerviCure.v2i.yolov8/valid/images/109_02_bmp.rf.97869eb8c7c702455b4ac7c00e4f6aad.jpg: 640x640 1 Dyskeratosis in SCC, 18.3ms\n",
            "image 566/835 /content/drive/MyDrive/CerviCure.v2i.yolov8/valid/images/109_04_bmp.rf.4634b3d02b2ccd603fbbfc3590aa2416.jpg: 640x640 1 Intermediate Squamous, 1 Superficial Squamous, 17.9ms\n",
            "image 567/835 /content/drive/MyDrive/CerviCure.v2i.yolov8/valid/images/110_01_bmp.rf.65ada9883c7314a3fe0df14c70763f61.jpg: 640x640 1 Severe Koilocytosis, 19.1ms\n",
            "image 568/835 /content/drive/MyDrive/CerviCure.v2i.yolov8/valid/images/110_01_bmp.rf.82c5c2c992da016ea305e01aea53903b.jpg: 640x640 1 Dyskeratosis in HSIL, 19.5ms\n",
            "image 569/835 /content/drive/MyDrive/CerviCure.v2i.yolov8/valid/images/110_02_bmp.rf.4bac86498359435273041e3fb86a5cee.jpg: 640x640 1 Dyskeratosis in HSIL, 18.9ms\n",
            "image 570/835 /content/drive/MyDrive/CerviCure.v2i.yolov8/valid/images/111_01_bmp.rf.7bd856ab6d062e9bef879f882ca593ba.jpg: 640x640 1 Intermediate Squamous, 1 Superficial Squamous, 18.2ms\n",
            "image 571/835 /content/drive/MyDrive/CerviCure.v2i.yolov8/valid/images/111_03_bmp.rf.f341e88069830a80d86a5c03474ee7a6.jpg: 640x640 1 Severe Koilocytosis, 18.3ms\n",
            "image 572/835 /content/drive/MyDrive/CerviCure.v2i.yolov8/valid/images/111_05_bmp.rf.069ef208cef2de1a8ecf19155c15d661.jpg: 640x640 1 Dyskeratosis in HSIL, 18.6ms\n",
            "image 573/835 /content/drive/MyDrive/CerviCure.v2i.yolov8/valid/images/112_05_bmp.rf.a8bf4eeacd02868820a039610fec7c08.jpg: 640x640 1 Dyskeratosis in HSIL, 1 Dyskeratosis in SCC, 18.1ms\n",
            "image 574/835 /content/drive/MyDrive/CerviCure.v2i.yolov8/valid/images/112_08_bmp.rf.3907686d4db65cf029f85137b7dc6b8a.jpg: 640x640 1 Dyskeratosis in HSIL, 17.6ms\n",
            "image 575/835 /content/drive/MyDrive/CerviCure.v2i.yolov8/valid/images/113_01_bmp.rf.fba28f947831dff4e9170702056b944c.jpg: 640x640 1 Intermediate Squamous, 18.3ms\n",
            "image 576/835 /content/drive/MyDrive/CerviCure.v2i.yolov8/valid/images/113_02_bmp.rf.a3382dae7b41cf9a62be0ff51e6d2654.jpg: 640x640 1 Dyskeratosis in HSIL, 19.9ms\n",
            "image 577/835 /content/drive/MyDrive/CerviCure.v2i.yolov8/valid/images/113_03_bmp.rf.5ef9c41a4105c3ffd1b4f69b25b72032.jpg: 640x640 1 Dyskeratosis in HSIL, 19.1ms\n",
            "image 578/835 /content/drive/MyDrive/CerviCure.v2i.yolov8/valid/images/113_05_bmp.rf.23b222e6586293fb56cf5610563fe566.jpg: 640x640 1 Mild Koilocytosis, 18.2ms\n",
            "image 579/835 /content/drive/MyDrive/CerviCure.v2i.yolov8/valid/images/113_07_bmp.rf.95454a3e87cf2298ec06daf5ac3f89a8.jpg: 640x640 1 Mild Koilocytosis, 1 Severe Koilocytosis, 18.8ms\n",
            "image 580/835 /content/drive/MyDrive/CerviCure.v2i.yolov8/valid/images/113_08_bmp.rf.66534cdea9a6db9fefb85fb894f85abd.jpg: 640x640 1 Mild Koilocytosis, 1 Severe Koilocytosis, 19.4ms\n",
            "image 581/835 /content/drive/MyDrive/CerviCure.v2i.yolov8/valid/images/114_07_bmp.rf.129c10770b228c4f4d84d904118c4408.jpg: 640x640 1 Mild Koilocytosis, 1 Severe Koilocytosis, 18.7ms\n",
            "image 582/835 /content/drive/MyDrive/CerviCure.v2i.yolov8/valid/images/114_08_bmp.rf.04ea090a8303a23730fa4bb28da97acc.jpg: 640x640 1 Superficial Squamous, 17.4ms\n",
            "image 583/835 /content/drive/MyDrive/CerviCure.v2i.yolov8/valid/images/114_09_bmp.rf.e58436d70e13413f5ba09b4524e5637d.jpg: 640x640 1 Dyskeratosis in HSIL, 18.5ms\n",
            "image 584/835 /content/drive/MyDrive/CerviCure.v2i.yolov8/valid/images/114_14_bmp.rf.e7e4c3d16b8f9f67420c60d75014bca4.jpg: 640x640 1 Dyskeratosis in SCC, 19.3ms\n",
            "image 585/835 /content/drive/MyDrive/CerviCure.v2i.yolov8/valid/images/114_bmp.rf.0ef940b45cfdb4a4bb3006dab347fa48.jpg: 640x640 28 Intermediate Squamouss, 1 Superficial Squamous, 18.9ms\n",
            "image 586/835 /content/drive/MyDrive/CerviCure.v2i.yolov8/valid/images/116_02_bmp.rf.3f8d03a910e756ac881e1119b483bcd4.jpg: 640x640 1 Intermediate Squamous, 17.9ms\n",
            "image 587/835 /content/drive/MyDrive/CerviCure.v2i.yolov8/valid/images/117_05_bmp.rf.5c04a40f8ff5e05dc3499640bd1e34ef.jpg: 640x640 1 Severe Koilocytosis, 17.8ms\n",
            "image 588/835 /content/drive/MyDrive/CerviCure.v2i.yolov8/valid/images/117_06_bmp.rf.8712d6e5ff37704a9fe84ff4e0a2dfec.jpg: 640x640 1 Mild Koilocytosis, 18.0ms\n",
            "image 589/835 /content/drive/MyDrive/CerviCure.v2i.yolov8/valid/images/117_08_bmp.rf.c4973629f97f9e2c7a61f242c5c77e60.jpg: 640x640 1 Mild Koilocytosis, 18.7ms\n",
            "image 590/835 /content/drive/MyDrive/CerviCure.v2i.yolov8/valid/images/117_09_bmp.rf.f206851ecbc7ddef5b910235b580c352.jpg: 640x640 1 Mild Koilocytosis, 18.8ms\n",
            "image 591/835 /content/drive/MyDrive/CerviCure.v2i.yolov8/valid/images/118_02_bmp.rf.67b1e188586666789fdef388e17ebe50.jpg: 640x640 1 Severe Koilocytosis, 18.2ms\n",
            "image 592/835 /content/drive/MyDrive/CerviCure.v2i.yolov8/valid/images/118_05_bmp.rf.16227e10e6735031ea6c126ee9f78c5d.jpg: 640x640 1 Severe Koilocytosis, 17.9ms\n",
            "image 593/835 /content/drive/MyDrive/CerviCure.v2i.yolov8/valid/images/119_01_bmp.rf.317bd18cd4783d6d03b7bf54a176df0d.jpg: 640x640 1 Mild Koilocytosis, 1 Severe Koilocytosis, 18.7ms\n",
            "image 594/835 /content/drive/MyDrive/CerviCure.v2i.yolov8/valid/images/119_02_bmp.rf.9fd79e33ac4c50c68ae354e48b374609.jpg: 640x640 1 Dyskeratosis in HSIL, 19.4ms\n",
            "image 595/835 /content/drive/MyDrive/CerviCure.v2i.yolov8/valid/images/119_03_bmp.rf.4f6de350608d75f88b1ca1e4219ace07.jpg: 640x640 1 Superficial Squamous, 18.8ms\n",
            "image 596/835 /content/drive/MyDrive/CerviCure.v2i.yolov8/valid/images/119_03_bmp.rf.a615e87bbd7601ad3dfe6f0c478277ec.jpg: 640x640 1 Severe Koilocytosis, 18.3ms\n",
            "image 597/835 /content/drive/MyDrive/CerviCure.v2i.yolov8/valid/images/119_09_bmp.rf.40dadc59bb1231baf91db537437316f1.jpg: 640x640 1 Intermediate Squamous, 18.2ms\n",
            "image 598/835 /content/drive/MyDrive/CerviCure.v2i.yolov8/valid/images/119_bmp.rf.253211ac50f0dbe2bfcd2f01560ab340.jpg: 640x640 23 Intermediate Squamouss, 2 Superficial Squamouss, 18.5ms\n",
            "image 599/835 /content/drive/MyDrive/CerviCure.v2i.yolov8/valid/images/120_01_bmp.rf.d0f8148d27adc6ce99c4a212a78fc8e0.jpg: 640x640 1 Mild Koilocytosis, 1 Severe Koilocytosis, 18.5ms\n",
            "image 600/835 /content/drive/MyDrive/CerviCure.v2i.yolov8/valid/images/120_02_bmp.rf.307d33054ed921ca6096e3e32d532c84.jpg: 640x640 1 Superficial Squamous, 17.7ms\n",
            "image 601/835 /content/drive/MyDrive/CerviCure.v2i.yolov8/valid/images/120_04_bmp.rf.663bc27e468a4ac181cdff51545967db.jpg: 640x640 1 Superficial Squamous, 18.3ms\n",
            "image 602/835 /content/drive/MyDrive/CerviCure.v2i.yolov8/valid/images/120_bmp.rf.93f6bee4f413889ea24f1810083bf98c.jpg: 640x640 11 Intermediate Squamouss, 18.1ms\n",
            "image 603/835 /content/drive/MyDrive/CerviCure.v2i.yolov8/valid/images/121_01_bmp.rf.86de9d1d7e1f1d871a4d2af177b2ef58.jpg: 640x640 1 Superficial Squamous, 18.1ms\n",
            "image 604/835 /content/drive/MyDrive/CerviCure.v2i.yolov8/valid/images/121_01_bmp.rf.9b284d67527e192a9587b8f73e3a6de5.jpg: 640x640 1 Metaplastic, 18.1ms\n",
            "image 605/835 /content/drive/MyDrive/CerviCure.v2i.yolov8/valid/images/121_09_bmp.rf.a716d84ae0f3e02da8451827e9a9a211.jpg: 640x640 1 Mild Koilocytosis, 1 Severe Koilocytosis, 18.6ms\n",
            "image 606/835 /content/drive/MyDrive/CerviCure.v2i.yolov8/valid/images/121_bmp.rf.f92a3763307d0ea4eaf430ba12ebc0df.jpg: 640x640 14 Intermediate Squamouss, 1 Superficial Squamous, 18.8ms\n",
            "image 607/835 /content/drive/MyDrive/CerviCure.v2i.yolov8/valid/images/122_01_bmp.rf.babcd1a780b41558ef052a00cbfe0365.jpg: 640x640 1 Superficial Squamous, 19.0ms\n",
            "image 608/835 /content/drive/MyDrive/CerviCure.v2i.yolov8/valid/images/122_02_bmp.rf.8e2d6d7334191996392ad5b723da98ba.jpg: 640x640 1 Dyskeratosis in HSIL, 19.2ms\n",
            "image 609/835 /content/drive/MyDrive/CerviCure.v2i.yolov8/valid/images/122_02_bmp.rf.958ef7a6ca46f1a7eff5af705b302eb5.jpg: 640x640 1 Severe Koilocytosis, 18.0ms\n",
            "image 610/835 /content/drive/MyDrive/CerviCure.v2i.yolov8/valid/images/122_04_bmp.rf.b371afa9c66cd007a96027c8a119474d.jpg: 640x640 1 Superficial Squamous, 17.8ms\n",
            "image 611/835 /content/drive/MyDrive/CerviCure.v2i.yolov8/valid/images/122_07_bmp.rf.8ccff4dbd3a6e684be19573eb3e6fb89.jpg: 640x640 1 Severe Koilocytosis, 18.3ms\n",
            "image 612/835 /content/drive/MyDrive/CerviCure.v2i.yolov8/valid/images/122_08_bmp.rf.2f164aec15317ba95695e3ebb143cdf1.jpg: 640x640 1 Mild Koilocytosis, 18.9ms\n",
            "image 613/835 /content/drive/MyDrive/CerviCure.v2i.yolov8/valid/images/122_10_bmp.rf.7adfaca91ac56913d33e009db482a9f0.jpg: 640x640 1 Severe Koilocytosis, 19.0ms\n",
            "image 614/835 /content/drive/MyDrive/CerviCure.v2i.yolov8/valid/images/123_02_bmp.rf.8ade3e85b3a89f63bc2d2344521ce4a6.jpg: 640x640 1 Intermediate Squamous, 18.5ms\n",
            "image 615/835 /content/drive/MyDrive/CerviCure.v2i.yolov8/valid/images/123_02_bmp.rf.d63225d61ab4d218886e5c31420ca314.jpg: 640x640 1 Metaplastic, 18.2ms\n",
            "image 616/835 /content/drive/MyDrive/CerviCure.v2i.yolov8/valid/images/123_05_bmp.rf.e58342a3adedb4b4d8a154af5a55f7ff.jpg: 640x640 1 Mild Koilocytosis, 1 Severe Koilocytosis, 18.0ms\n",
            "image 617/835 /content/drive/MyDrive/CerviCure.v2i.yolov8/valid/images/123_06_bmp.rf.0b7deff39f48125dfa7058c7867a1018.jpg: 640x640 1 Intermediate Squamous, 18.9ms\n",
            "image 618/835 /content/drive/MyDrive/CerviCure.v2i.yolov8/valid/images/123_07_bmp.rf.08d67bf1f92426caaf9c05c9fea587af.jpg: 640x640 1 Superficial Squamous, 18.3ms\n",
            "image 619/835 /content/drive/MyDrive/CerviCure.v2i.yolov8/valid/images/123_12_bmp.rf.4f3bee22818751190abf876bd8fe1db7.jpg: 640x640 1 Severe Koilocytosis, 17.6ms\n",
            "image 620/835 /content/drive/MyDrive/CerviCure.v2i.yolov8/valid/images/123_bmp.rf.97f89334253325f66e75101892307019.jpg: 640x640 30 Intermediate Squamouss, 3 Superficial Squamouss, 18.6ms\n",
            "image 621/835 /content/drive/MyDrive/CerviCure.v2i.yolov8/valid/images/124_01_bmp.rf.80e4430c42110178026c798360bdf492.jpg: 640x640 1 Superficial Squamous, 18.4ms\n",
            "image 622/835 /content/drive/MyDrive/CerviCure.v2i.yolov8/valid/images/124_01_bmp.rf.db93ebdce1565992e976a2487fb085d6.jpg: 640x640 1 Metaplastic, 18.4ms\n",
            "image 623/835 /content/drive/MyDrive/CerviCure.v2i.yolov8/valid/images/124_02_bmp.rf.25bb832c78aa61d8797cf0856bda275b.jpg: 640x640 1 Intermediate Squamous, 18.5ms\n",
            "image 624/835 /content/drive/MyDrive/CerviCure.v2i.yolov8/valid/images/124_03_bmp.rf.f09242d15f3bd91398179567870e16fd.jpg: 640x640 1 Dyskeratosis in HSIL, 18.7ms\n",
            "image 625/835 /content/drive/MyDrive/CerviCure.v2i.yolov8/valid/images/124_06_bmp.rf.544a0864f09bb22ab92b19658deb2c9b.jpg: 640x640 1 Intermediate Squamous, 18.9ms\n",
            "image 626/835 /content/drive/MyDrive/CerviCure.v2i.yolov8/valid/images/125_03_bmp.rf.3d81cdce2edc490fc17473eb23eb9915.jpg: 640x640 1 Superficial Squamous, 18.7ms\n",
            "image 627/835 /content/drive/MyDrive/CerviCure.v2i.yolov8/valid/images/125_05_bmp.rf.fe42492f93d561b544f6910609139555.jpg: 640x640 1 Superficial Squamous, 17.5ms\n",
            "image 628/835 /content/drive/MyDrive/CerviCure.v2i.yolov8/valid/images/125_bmp.rf.ed3e92769fe938ce460a27bcb7ce9287.jpg: 640x640 13 Intermediate Squamouss, 1 Superficial Squamous, 18.2ms\n",
            "image 629/835 /content/drive/MyDrive/CerviCure.v2i.yolov8/valid/images/126_02_bmp.rf.fcf08a4d2cdcc4dfb52eb4a1a29cf968.jpg: 640x640 1 Metaplastic, 18.7ms\n",
            "image 630/835 /content/drive/MyDrive/CerviCure.v2i.yolov8/valid/images/127_01_bmp.rf.2380e1574879cc481ff31eb2147b29aa.jpg: 640x640 1 Mild Koilocytosis, 19.5ms\n",
            "image 631/835 /content/drive/MyDrive/CerviCure.v2i.yolov8/valid/images/128_01_bmp.rf.ef853e52f82baa4f9b6a3838d708e31b.jpg: 640x640 1 Dyskeratosis in HSIL, 19.3ms\n",
            "image 632/835 /content/drive/MyDrive/CerviCure.v2i.yolov8/valid/images/129_01_bmp.rf.9e6aaa33670e8af69698b68ff32fd653.jpg: 640x640 1 Metaplastic, 18.4ms\n",
            "image 633/835 /content/drive/MyDrive/CerviCure.v2i.yolov8/valid/images/130_02_bmp.rf.a267d8ffe70b6d102c990b6150def9c9.jpg: 640x640 1 Mild Koilocytosis, 1 Severe Koilocytosis, 18.0ms\n",
            "image 634/835 /content/drive/MyDrive/CerviCure.v2i.yolov8/valid/images/130_06_bmp.rf.026dfc78c70b22e5da4462d63820ea57.jpg: 640x640 1 Severe Koilocytosis, 18.2ms\n",
            "image 635/835 /content/drive/MyDrive/CerviCure.v2i.yolov8/valid/images/130_07_bmp.rf.344e3b2e83b0d4e7085bff0838ae09d1.jpg: 640x640 1 Severe Koilocytosis, 18.2ms\n",
            "image 636/835 /content/drive/MyDrive/CerviCure.v2i.yolov8/valid/images/130_12_bmp.rf.4f688d843869ae975d02d0185a45cf14.jpg: 640x640 1 Mild Koilocytosis, 1 Severe Koilocytosis, 17.6ms\n",
            "image 637/835 /content/drive/MyDrive/CerviCure.v2i.yolov8/valid/images/130_14_bmp.rf.aaed98c4f85576f110790bc7e36b9f13.jpg: 640x640 1 Severe Koilocytosis, 17.7ms\n",
            "image 638/835 /content/drive/MyDrive/CerviCure.v2i.yolov8/valid/images/131_02_bmp.rf.1f23c3ffd7e0024cd4ac124c84aa6a1f.jpg: 640x640 1 Dyskeratosis in HSIL, 18.3ms\n",
            "image 639/835 /content/drive/MyDrive/CerviCure.v2i.yolov8/valid/images/131_02_bmp.rf.c2e565fb636e1f6726730596edf0fa32.jpg: 640x640 1 Severe Koilocytosis, 18.5ms\n",
            "image 640/835 /content/drive/MyDrive/CerviCure.v2i.yolov8/valid/images/132_05_bmp.rf.e00244e8560a366aba628b1014afc21c.jpg: 640x640 1 Severe Koilocytosis, 18.9ms\n",
            "image 641/835 /content/drive/MyDrive/CerviCure.v2i.yolov8/valid/images/135_01_bmp.rf.c968e7f80375783bbe145d558b5b5dcb.jpg: 640x640 1 Metaplastic, 18.6ms\n",
            "image 642/835 /content/drive/MyDrive/CerviCure.v2i.yolov8/valid/images/135_04_bmp.rf.e26ce22c522597ae9716a9d25f3b20f7.jpg: 640x640 1 Dyskeratosis in HSIL, 18.3ms\n",
            "image 643/835 /content/drive/MyDrive/CerviCure.v2i.yolov8/valid/images/136_01_bmp.rf.06c4a04dd710605e71aedd503982d282.jpg: 640x640 1 Intermediate Squamous, 1 Metaplastic, 18.3ms\n",
            "image 644/835 /content/drive/MyDrive/CerviCure.v2i.yolov8/valid/images/136_01_bmp.rf.5fc492a0fdb3156b73480a057e1bbc44.jpg: 640x640 1 Metaplastic, 17.6ms\n",
            "image 645/835 /content/drive/MyDrive/CerviCure.v2i.yolov8/valid/images/136_03_bmp.rf.2c04e395d04cc97f5e9c8ae8f683680c.jpg: 640x640 1 Dyskeratosis in HSIL, 18.7ms\n",
            "image 646/835 /content/drive/MyDrive/CerviCure.v2i.yolov8/valid/images/137_01_bmp.rf.71a19eb8328dd592a7ddb12037d3587a.jpg: 640x640 1 Dyskeratosis in HSIL, 18.7ms\n",
            "image 647/835 /content/drive/MyDrive/CerviCure.v2i.yolov8/valid/images/138_02_bmp.rf.90fb0338fd8f5022960264f05d2822ca.jpg: 640x640 1 Dyskeratosis in HSIL, 18.5ms\n",
            "image 648/835 /content/drive/MyDrive/CerviCure.v2i.yolov8/valid/images/138_06_bmp.rf.753bbd68576315c4d0c18fe61158eca9.jpg: 640x640 1 Mild Koilocytosis, 18.3ms\n",
            "image 649/835 /content/drive/MyDrive/CerviCure.v2i.yolov8/valid/images/139_02_bmp.rf.05517357575f604a2e078a3c3e70ed01.jpg: 640x640 1 Dyskeratosis in HSIL, 18.2ms\n",
            "image 650/835 /content/drive/MyDrive/CerviCure.v2i.yolov8/valid/images/139_05_bmp.rf.1a1f24ffe5ea7ec0faa095731d8990a5.jpg: 640x640 1 Mild Koilocytosis, 18.0ms\n",
            "image 651/835 /content/drive/MyDrive/CerviCure.v2i.yolov8/valid/images/139_06_bmp.rf.a5fa106432b15b4adc095d7d5697c4eb.jpg: 640x640 1 Metaplastic, 18.1ms\n",
            "image 652/835 /content/drive/MyDrive/CerviCure.v2i.yolov8/valid/images/140_02_bmp.rf.3c121dd75c111b2cd9d211b1b4e86e9e.jpg: 640x640 1 Metaplastic, 18.7ms\n",
            "image 653/835 /content/drive/MyDrive/CerviCure.v2i.yolov8/valid/images/140_03_bmp.rf.08c475038829e9ded91e499ad5b42daa.jpg: 640x640 1 Metaplastic, 17.7ms\n",
            "image 654/835 /content/drive/MyDrive/CerviCure.v2i.yolov8/valid/images/140_07_bmp.rf.1c24028fc55548d0d39d7d10ccc7b617.jpg: 640x640 1 Mild Koilocytosis, 18.0ms\n",
            "image 655/835 /content/drive/MyDrive/CerviCure.v2i.yolov8/valid/images/140_08_bmp.rf.b131f7b98de331aafddcce121f0e30b5.jpg: 640x640 1 Metaplastic, 18.1ms\n",
            "image 656/835 /content/drive/MyDrive/CerviCure.v2i.yolov8/valid/images/140_10_bmp.rf.8ee536798ea2482062bd74e00e0ae6d8.jpg: 640x640 1 Metaplastic, 17.9ms\n",
            "image 657/835 /content/drive/MyDrive/CerviCure.v2i.yolov8/valid/images/140_12_bmp.rf.70cda7f61af6dac5457340ff1211ec48.jpg: 640x640 1 Mild Koilocytosis, 18.6ms\n",
            "image 658/835 /content/drive/MyDrive/CerviCure.v2i.yolov8/valid/images/141_02_bmp.rf.91696089c0a33dc212da0276396bc986.jpg: 640x640 1 Dyskeratosis in HSIL, 18.9ms\n",
            "image 659/835 /content/drive/MyDrive/CerviCure.v2i.yolov8/valid/images/141_03_bmp.rf.3e8f4621318addbb71201b24db53c2d1.jpg: 640x640 1 Dyskeratosis in HSIL, 19.4ms\n",
            "image 660/835 /content/drive/MyDrive/CerviCure.v2i.yolov8/valid/images/141_03_bmp.rf.8e29112f4d9d59b9d42fe48bbc16ab72.jpg: 640x640 1 Mild Koilocytosis, 18.7ms\n",
            "image 661/835 /content/drive/MyDrive/CerviCure.v2i.yolov8/valid/images/141_03_bmp.rf.c5784218664e2f237f58de9831850c20.jpg: 640x640 1 Metaplastic, 18.4ms\n",
            "image 662/835 /content/drive/MyDrive/CerviCure.v2i.yolov8/valid/images/141_07_bmp.rf.cf10501296b637174cd64505852ebd10.jpg: 640x640 1 Dyskeratosis in HSIL, 17.4ms\n",
            "image 663/835 /content/drive/MyDrive/CerviCure.v2i.yolov8/valid/images/141_08_bmp.rf.148b97a40e1e1c5693ab8db2cab8ddf4.jpg: 640x640 1 Dyskeratosis in HSIL, 18.4ms\n",
            "image 664/835 /content/drive/MyDrive/CerviCure.v2i.yolov8/valid/images/142_03_bmp.rf.649c32d3500c0a51712f21386e041083.jpg: 640x640 1 Mild Koilocytosis, 19.4ms\n",
            "image 665/835 /content/drive/MyDrive/CerviCure.v2i.yolov8/valid/images/142_03_bmp.rf.c37f6466427d1b56a27c77665bd5a250.jpg: 640x640 1 Dyskeratosis in HSIL, 19.1ms\n",
            "image 666/835 /content/drive/MyDrive/CerviCure.v2i.yolov8/valid/images/142_04_bmp.rf.a384844b5b791650ee17d810922dd6c6.jpg: 640x640 1 Dyskeratosis in HSIL, 18.6ms\n",
            "image 667/835 /content/drive/MyDrive/CerviCure.v2i.yolov8/valid/images/142_04_bmp.rf.bb98aa493f54b7f62d9d3be4edcc4f16.jpg: 640x640 1 Dyskeratosis in HSIL, 1 Mild Koilocytosis, 18.4ms\n",
            "image 668/835 /content/drive/MyDrive/CerviCure.v2i.yolov8/valid/images/143_01_bmp.rf.f8eb0dd6cb8f4f6776083e33accde71d.jpg: 640x640 1 Metaplastic, 17.6ms\n",
            "image 669/835 /content/drive/MyDrive/CerviCure.v2i.yolov8/valid/images/143_02_bmp.rf.ca68b203f1f4bc01f668a6e2ccda4b42.jpg: 640x640 1 Mild Koilocytosis, 18.0ms\n",
            "image 670/835 /content/drive/MyDrive/CerviCure.v2i.yolov8/valid/images/143_03_bmp.rf.50bf5c6e3cb5476cf768a31ef9a250db.jpg: 640x640 1 Mild Koilocytosis, 17.3ms\n",
            "image 671/835 /content/drive/MyDrive/CerviCure.v2i.yolov8/valid/images/144_03_bmp.rf.e7573e224a93c254a671281802687350.jpg: 640x640 1 Mild Koilocytosis, 18.3ms\n",
            "image 672/835 /content/drive/MyDrive/CerviCure.v2i.yolov8/valid/images/146_03_bmp.rf.96308076bbd89ef14ac2e927a0a49659.jpg: 640x640 1 Mild Koilocytosis, 19.7ms\n",
            "image 673/835 /content/drive/MyDrive/CerviCure.v2i.yolov8/valid/images/146_07_bmp.rf.4525e22f6c0ee97011a0d52ff6ddb788.jpg: 640x640 1 Mild Koilocytosis, 18.8ms\n",
            "image 674/835 /content/drive/MyDrive/CerviCure.v2i.yolov8/valid/images/147_01_bmp.rf.27f289ab0a49a4b21e9c053bcd333d4b.jpg: 640x640 1 Dyskeratosis in SCC, 18.3ms\n",
            "image 675/835 /content/drive/MyDrive/CerviCure.v2i.yolov8/valid/images/147_01_bmp.rf.9853ec978430b57124bdcb894688a3ee.jpg: 640x640 1 Mild Koilocytosis, 18.0ms\n",
            "image 676/835 /content/drive/MyDrive/CerviCure.v2i.yolov8/valid/images/149_01_bmp.rf.8f8445120ed2ff39859b8fc24d59f5f4.jpg: 640x640 1 Dyskeratosis in SCC, 18.5ms\n",
            "image 677/835 /content/drive/MyDrive/CerviCure.v2i.yolov8/valid/images/149_02_bmp.rf.4039149942719b784a753ef9a04c998a.jpg: 640x640 1 Metaplastic, 19.4ms\n",
            "image 678/835 /content/drive/MyDrive/CerviCure.v2i.yolov8/valid/images/149_02_bmp.rf.d5db21e73cd0d0ea7be331caaa219c03.jpg: 640x640 1 Mild Koilocytosis, 1 Severe Koilocytosis, 18.6ms\n",
            "image 679/835 /content/drive/MyDrive/CerviCure.v2i.yolov8/valid/images/149_03_bmp.rf.4cfad92d5dd5a8c8c98f8eb7d5b26ee4.jpg: 640x640 1 Mild Koilocytosis, 1 Severe Koilocytosis, 17.4ms\n",
            "image 680/835 /content/drive/MyDrive/CerviCure.v2i.yolov8/valid/images/150_02_bmp.rf.3b1fcb6ebc54ea0968e61d532fa99fb2.jpg: 640x640 1 Dyskeratosis in SCC, 18.1ms\n",
            "image 681/835 /content/drive/MyDrive/CerviCure.v2i.yolov8/valid/images/150_02_bmp.rf.89887cd1160fc7004bd1f1c8da6b2d82.jpg: 640x640 1 Mild Koilocytosis, 19.1ms\n",
            "image 682/835 /content/drive/MyDrive/CerviCure.v2i.yolov8/valid/images/150_03_bmp.rf.d0960c63cbb9b8e31b2a8fba0dd9e9a8.jpg: 640x640 1 Dyskeratosis in HSIL, 1 Dyskeratosis in SCC, 18.8ms\n",
            "image 683/835 /content/drive/MyDrive/CerviCure.v2i.yolov8/valid/images/151_01_bmp.rf.05d3fa39ad36c7287b6391a9ede9cfa9.jpg: 640x640 1 Dyskeratosis in HSIL, 18.0ms\n",
            "image 684/835 /content/drive/MyDrive/CerviCure.v2i.yolov8/valid/images/152_03_bmp.rf.1c773ac13075f3b4ccaf292271f9f234.jpg: 640x640 1 Metaplastic, 18.9ms\n",
            "image 685/835 /content/drive/MyDrive/CerviCure.v2i.yolov8/valid/images/152_03_bmp.rf.d164d820521eefd40cac2292220abf7b.jpg: 640x640 1 Mild Koilocytosis, 1 Severe Koilocytosis, 18.4ms\n",
            "image 686/835 /content/drive/MyDrive/CerviCure.v2i.yolov8/valid/images/153_02_bmp.rf.ab210cdf6c1ee5bf9ffd7ec65c33a37b.jpg: 640x640 1 Metaplastic, 18.1ms\n",
            "image 687/835 /content/drive/MyDrive/CerviCure.v2i.yolov8/valid/images/155_02_bmp.rf.22343089974837eab0d8dd9159d146a9.jpg: 640x640 1 Severe Koilocytosis, 17.7ms\n",
            "image 688/835 /content/drive/MyDrive/CerviCure.v2i.yolov8/valid/images/155_03_bmp.rf.88a372827b5fb814f24f74b8dd8f6414.jpg: 640x640 1 Severe Koilocytosis, 18.5ms\n",
            "image 689/835 /content/drive/MyDrive/CerviCure.v2i.yolov8/valid/images/156_02_bmp.rf.2c8b1764df594766fc0572fa4723a680.jpg: 640x640 1 Dyskeratosis in HSIL, 1 Dyskeratosis in SCC, 18.2ms\n",
            "image 690/835 /content/drive/MyDrive/CerviCure.v2i.yolov8/valid/images/156_04_bmp.rf.6b5f6d10e40099e63a2a4628628d1ce2.jpg: 640x640 1 Mild Koilocytosis, 18.0ms\n",
            "image 691/835 /content/drive/MyDrive/CerviCure.v2i.yolov8/valid/images/156_04_bmp.rf.bab1ae7c0740b2e71cc06cf5d6a4f4cc.jpg: 640x640 1 Dyskeratosis in HSIL, 1 Dyskeratosis in SCC, 18.2ms\n",
            "image 692/835 /content/drive/MyDrive/CerviCure.v2i.yolov8/valid/images/157_06_bmp.rf.bd05a28a735898e0c878a50dcf92ccb3.jpg: 640x640 1 Severe Koilocytosis, 17.9ms\n",
            "image 693/835 /content/drive/MyDrive/CerviCure.v2i.yolov8/valid/images/158_02_bmp.rf.313b6544bebf6536c46e441a35bc1809.jpg: 640x640 1 Mild Koilocytosis, 18.3ms\n",
            "image 694/835 /content/drive/MyDrive/CerviCure.v2i.yolov8/valid/images/159_01_bmp.rf.81e6f8dfb29e880c831ab8d3b25bb0d2.jpg: 640x640 1 Metaplastic, 19.5ms\n",
            "image 695/835 /content/drive/MyDrive/CerviCure.v2i.yolov8/valid/images/159_02_bmp.rf.c03ae1edc95e7d31be86245877c41892.jpg: 640x640 1 Mild Koilocytosis, 19.1ms\n",
            "image 696/835 /content/drive/MyDrive/CerviCure.v2i.yolov8/valid/images/160_02_bmp.rf.d8a6f5704c7a06bd496089346fbcf1cc.jpg: 640x640 1 Dyskeratosis in HSIL, 17.5ms\n",
            "image 697/835 /content/drive/MyDrive/CerviCure.v2i.yolov8/valid/images/160_03_bmp.rf.02feffc4b696d4200bf4274a95fbf531.jpg: 640x640 1 Mild Koilocytosis, 18.1ms\n",
            "image 698/835 /content/drive/MyDrive/CerviCure.v2i.yolov8/valid/images/160_03_bmp.rf.254d21cf9b8c85e6ee569982c8c2d0ca.jpg: 640x640 1 Dyskeratosis in HSIL, 1 Dyskeratosis in SCC, 18.8ms\n",
            "image 699/835 /content/drive/MyDrive/CerviCure.v2i.yolov8/valid/images/161_01_bmp.rf.a7320025e957093d48264ed609af686c.jpg: 640x640 1 Dyskeratosis in SCC, 18.6ms\n",
            "image 700/835 /content/drive/MyDrive/CerviCure.v2i.yolov8/valid/images/161_05_bmp.rf.a5b975ee7b8a295cc547429599028481.jpg: 640x640 1 Mild Koilocytosis, 17.2ms\n",
            "image 701/835 /content/drive/MyDrive/CerviCure.v2i.yolov8/valid/images/163_01_bmp.rf.bf27cae801bb166038f3a3a059377213.jpg: 640x640 1 Metaplastic, 1 Mild Koilocytosis, 17.4ms\n",
            "image 702/835 /content/drive/MyDrive/CerviCure.v2i.yolov8/valid/images/163_03_bmp.rf.a19cd127fa0bc821ff3ddf4baeed23e6.jpg: 640x640 1 Severe Koilocytosis, 18.4ms\n",
            "image 703/835 /content/drive/MyDrive/CerviCure.v2i.yolov8/valid/images/163_04_bmp.rf.f16f488fd6ac9fb96f7500c99a714d34.jpg: 640x640 1 Dyskeratosis in SCC, 17.5ms\n",
            "image 704/835 /content/drive/MyDrive/CerviCure.v2i.yolov8/valid/images/163_06_bmp.rf.b8b4373315072810c0e16302ab68fa57.jpg: 640x640 1 Severe Koilocytosis, 18.7ms\n",
            "image 705/835 /content/drive/MyDrive/CerviCure.v2i.yolov8/valid/images/164_02_bmp.rf.cd1701b84ae7390df5526a0138f3c351.jpg: 640x640 1 Mild Koilocytosis, 18.6ms\n",
            "image 706/835 /content/drive/MyDrive/CerviCure.v2i.yolov8/valid/images/164_04_bmp.rf.f53f4434288710e5e5414aa51ce2b007.jpg: 640x640 1 Metaplastic, 1 Parabasal, 18.4ms\n",
            "image 707/835 /content/drive/MyDrive/CerviCure.v2i.yolov8/valid/images/164_07_bmp.rf.1feaec89bcd6386ba8815e721a24f25b.jpg: 640x640 1 Dyskeratosis in HSIL, 18.1ms\n",
            "image 708/835 /content/drive/MyDrive/CerviCure.v2i.yolov8/valid/images/164_17_bmp.rf.ac4abf730d1521cbe804346454bc298c.jpg: 640x640 1 Dyskeratosis in HSIL, 18.5ms\n",
            "image 709/835 /content/drive/MyDrive/CerviCure.v2i.yolov8/valid/images/166_03_bmp.rf.d08aa18247401c3cb8f0194c491558ad.jpg: 640x640 1 Dyskeratosis in SCC, 19.0ms\n",
            "image 710/835 /content/drive/MyDrive/CerviCure.v2i.yolov8/valid/images/166_03_bmp.rf.da7c3e6ff3bd0e0b79d4fcb424deeeda.jpg: 640x640 1 Intermediate Squamous, 1 Metaplastic, 18.7ms\n",
            "image 711/835 /content/drive/MyDrive/CerviCure.v2i.yolov8/valid/images/166_05_bmp.rf.d02338c6598d2f0e06d507b1314e269e.jpg: 640x640 1 Dyskeratosis in SCC, 17.6ms\n",
            "image 712/835 /content/drive/MyDrive/CerviCure.v2i.yolov8/valid/images/166_06_bmp.rf.7682107c0f067576482e9d4c47bd7fb4.jpg: 640x640 1 Dyskeratosis in HSIL, 17.5ms\n",
            "image 713/835 /content/drive/MyDrive/CerviCure.v2i.yolov8/valid/images/167_02_bmp.rf.b313bef87968f6760c84cfa24f7224f6.jpg: 640x640 1 Metaplastic, 18.5ms\n",
            "image 714/835 /content/drive/MyDrive/CerviCure.v2i.yolov8/valid/images/168_01_bmp.rf.b50d3c7adf1427f76332a579d9864117.jpg: 640x640 1 Metaplastic, 18.7ms\n",
            "image 715/835 /content/drive/MyDrive/CerviCure.v2i.yolov8/valid/images/169_01_bmp.rf.c67fa699a9bec89475a8ae91cc22c9b2.jpg: 640x640 1 Dyskeratosis in HSIL, 19.1ms\n",
            "image 716/835 /content/drive/MyDrive/CerviCure.v2i.yolov8/valid/images/170_01_bmp.rf.331bf7a47dca09bf2802a511ba9e062b.jpg: 640x640 1 Metaplastic, 1 Severe Koilocytosis, 18.7ms\n",
            "image 717/835 /content/drive/MyDrive/CerviCure.v2i.yolov8/valid/images/170_01_bmp.rf.537014bd1ee3edcc3bdbf5cf4fbf79de.jpg: 640x640 1 Dyskeratosis in HSIL, 1 Dyskeratosis in SCC, 18.2ms\n",
            "image 718/835 /content/drive/MyDrive/CerviCure.v2i.yolov8/valid/images/170_05_bmp.rf.e3614820f4a72c7833db61bf1843058e.jpg: 640x640 1 Metaplastic, 17.9ms\n",
            "image 719/835 /content/drive/MyDrive/CerviCure.v2i.yolov8/valid/images/171_01_bmp.rf.0c98b5cb50f5a2b5ae0ce084097b47f7.jpg: 640x640 1 Dyskeratosis in HSIL, 18.4ms\n",
            "image 720/835 /content/drive/MyDrive/CerviCure.v2i.yolov8/valid/images/172_01_bmp.rf.78b13a5e57e4cf7477e3b07d0ec867e4.jpg: 640x640 1 Dyskeratosis in SCC, 17.9ms\n",
            "image 721/835 /content/drive/MyDrive/CerviCure.v2i.yolov8/valid/images/173_01_bmp.rf.7b16ef6635cc5157d61f28118841cf32.jpg: 640x640 1 Metaplastic, 1 Mild Koilocytosis, 17.9ms\n",
            "image 722/835 /content/drive/MyDrive/CerviCure.v2i.yolov8/valid/images/174_01_bmp.rf.403422cc3e3b47a5c287e4466baa3d63.jpg: 640x640 1 Intermediate Squamous, 1 Metaplastic, 1 Mild Koilocytosis, 18.2ms\n",
            "image 723/835 /content/drive/MyDrive/CerviCure.v2i.yolov8/valid/images/174_01_bmp.rf.88d9d0d91b8ac64dc6664773351d252a.jpg: 640x640 1 Metaplastic, 18.3ms\n",
            "image 724/835 /content/drive/MyDrive/CerviCure.v2i.yolov8/valid/images/174_02_bmp.rf.c70bb0229e77af41f67a636906c8e7a2.jpg: 640x640 1 Dyskeratosis in HSIL, 18.4ms\n",
            "image 725/835 /content/drive/MyDrive/CerviCure.v2i.yolov8/valid/images/175_01_bmp.rf.2d8bbbf8b1bcbf7fb508ae7f84d6e7e7.jpg: 640x640 1 Metaplastic, 18.8ms\n",
            "image 726/835 /content/drive/MyDrive/CerviCure.v2i.yolov8/valid/images/176_01_bmp.rf.63eb581e055214afcadecb11ce69afa4.jpg: 640x640 1 Metaplastic, 18.8ms\n",
            "image 727/835 /content/drive/MyDrive/CerviCure.v2i.yolov8/valid/images/176_01_bmp.rf.9009450781e3fee164d208239650ca6c.jpg: 640x640 1 Metaplastic, 18.7ms\n",
            "image 728/835 /content/drive/MyDrive/CerviCure.v2i.yolov8/valid/images/176_02_bmp.rf.c675045cc691ad5b7889a48b97c51d28.jpg: 640x640 1 Metaplastic, 18.1ms\n",
            "image 729/835 /content/drive/MyDrive/CerviCure.v2i.yolov8/valid/images/177_01_bmp.rf.4a62a9df04850de6deb369ae2ebb279f.jpg: 640x640 1 Metaplastic, 17.5ms\n",
            "image 730/835 /content/drive/MyDrive/CerviCure.v2i.yolov8/valid/images/177_01_bmp.rf.98e103002954169f3edd4dee938322c5.jpg: 640x640 1 Dyskeratosis in HSIL, 19.6ms\n",
            "image 731/835 /content/drive/MyDrive/CerviCure.v2i.yolov8/valid/images/178_01_bmp.rf.4e610a34f7b5a8cf34385ec451b6cb63.jpg: 640x640 1 Dyskeratosis in SCC, 18.9ms\n",
            "image 732/835 /content/drive/MyDrive/CerviCure.v2i.yolov8/valid/images/180_02_bmp.rf.78e073f172178abd6bb24f12a57ee627.jpg: 640x640 1 Mild Koilocytosis, 18.2ms\n",
            "image 733/835 /content/drive/MyDrive/CerviCure.v2i.yolov8/valid/images/180_02_bmp.rf.9bff713125b7f87411c8b262615f1892.jpg: 640x640 1 Metaplastic, 17.8ms\n",
            "image 734/835 /content/drive/MyDrive/CerviCure.v2i.yolov8/valid/images/184_01_bmp.rf.04f9776602d0096dfef3e0baf9a6cdd1.jpg: 640x640 1 Metaplastic, 18.3ms\n",
            "image 735/835 /content/drive/MyDrive/CerviCure.v2i.yolov8/valid/images/184_01_bmp.rf.ad6f0683081d91659b8b30144a9cb612.jpg: 640x640 1 Mild Koilocytosis, 1 Severe Koilocytosis, 19.1ms\n",
            "image 736/835 /content/drive/MyDrive/CerviCure.v2i.yolov8/valid/images/184_02_bmp.rf.65ecd38a04881f84821af49862e24cb6.jpg: 640x640 1 Metaplastic, 18.5ms\n",
            "image 737/835 /content/drive/MyDrive/CerviCure.v2i.yolov8/valid/images/184_03_bmp.rf.4acda7535e1dcf693aadd033af67db25.jpg: 640x640 1 Dyskeratosis in HSIL, 18.3ms\n",
            "image 738/835 /content/drive/MyDrive/CerviCure.v2i.yolov8/valid/images/184_05_bmp.rf.c60e1ef2a7dacfc8370367a422a90379.jpg: 640x640 1 Dyskeratosis in SCC, 17.3ms\n",
            "image 739/835 /content/drive/MyDrive/CerviCure.v2i.yolov8/valid/images/185_04_bmp.rf.24a624aa8fd85e24e6bc8b227011dcfb.jpg: 640x640 2 Metaplastics, 18.2ms\n",
            "image 740/835 /content/drive/MyDrive/CerviCure.v2i.yolov8/valid/images/186_01_bmp.rf.1a4387eaefe6ee46f48f0086f593cc4c.jpg: 640x640 1 Mild Koilocytosis, 18.8ms\n",
            "image 741/835 /content/drive/MyDrive/CerviCure.v2i.yolov8/valid/images/187_01_bmp.rf.b2c4b7aa3b51dad1ccb63f7bbbdf0612.jpg: 640x640 1 Severe Koilocytosis, 18.5ms\n",
            "image 742/835 /content/drive/MyDrive/CerviCure.v2i.yolov8/valid/images/187_01_bmp.rf.b35124abfd1d2edfb6d9e6a65fa6c610.jpg: 640x640 1 Dyskeratosis in HSIL, 1 Dyskeratosis in SCC, 18.4ms\n",
            "image 743/835 /content/drive/MyDrive/CerviCure.v2i.yolov8/valid/images/188_01_bmp.rf.3406213240ab17f98256d5996211e09d.jpg: 640x640 1 Dyskeratosis in SCC, 18.3ms\n",
            "image 744/835 /content/drive/MyDrive/CerviCure.v2i.yolov8/valid/images/188_01_bmp.rf.d143fa600b9c30abdfd18a67109feea2.jpg: 640x640 1 Mild Koilocytosis, 1 Severe Koilocytosis, 17.8ms\n",
            "image 745/835 /content/drive/MyDrive/CerviCure.v2i.yolov8/valid/images/193_04_bmp.rf.8cd014be0990dc085539f3b7b006f89a.jpg: 640x640 1 Metaplastic, 17.6ms\n",
            "image 746/835 /content/drive/MyDrive/CerviCure.v2i.yolov8/valid/images/195_02_bmp.rf.d5801fb80ec37aff408a1899d7901df5.jpg: 640x640 1 Mild Koilocytosis, 1 Severe Koilocytosis, 17.8ms\n",
            "image 747/835 /content/drive/MyDrive/CerviCure.v2i.yolov8/valid/images/196_02_bmp.rf.04fb5d90f5ca4e0cb2c528f3fd28e4a8.jpg: 640x640 1 Metaplastic, 17.3ms\n",
            "image 748/835 /content/drive/MyDrive/CerviCure.v2i.yolov8/valid/images/197_01_bmp.rf.a6e860c49aff6579970f2711b4f0c351.jpg: 640x640 1 Mild Koilocytosis, 18.2ms\n",
            "image 749/835 /content/drive/MyDrive/CerviCure.v2i.yolov8/valid/images/197_02_bmp.rf.06e46dd7bb834078953b930f418d4b65.jpg: 640x640 1 Metaplastic, 19.1ms\n",
            "image 750/835 /content/drive/MyDrive/CerviCure.v2i.yolov8/valid/images/198_01_bmp.rf.a14ffd84ce145392c1a1bed23980370d.jpg: 640x640 1 Mild Koilocytosis, 1 Severe Koilocytosis, 18.7ms\n",
            "image 751/835 /content/drive/MyDrive/CerviCure.v2i.yolov8/valid/images/198_02_bmp.rf.4bebeadad64a7e070a43adbfeedf40f9.jpg: 640x640 1 Dyskeratosis in SCC, 18.2ms\n",
            "image 752/835 /content/drive/MyDrive/CerviCure.v2i.yolov8/valid/images/199_03_bmp.rf.ee90bf7ee872f9cd745e8aef32772f5f.jpg: 640x640 1 Dyskeratosis in HSIL, 17.9ms\n",
            "image 753/835 /content/drive/MyDrive/CerviCure.v2i.yolov8/valid/images/200_01_bmp.rf.4340056d46433f852f0f54a927801588.jpg: 640x640 1 Dyskeratosis in HSIL, 18.4ms\n",
            "image 754/835 /content/drive/MyDrive/CerviCure.v2i.yolov8/valid/images/201_02_bmp.rf.693aa7fa80266412cd3a4e0f15e71554.jpg: 640x640 1 Severe Koilocytosis, 18.7ms\n",
            "image 755/835 /content/drive/MyDrive/CerviCure.v2i.yolov8/valid/images/201_07_bmp.rf.5723e2b48c1c006dbbbd2b6cf699d6f1.jpg: 640x640 1 Metaplastic, 19.6ms\n",
            "image 756/835 /content/drive/MyDrive/CerviCure.v2i.yolov8/valid/images/201_08_bmp.rf.88230aa484c48cf3db153b71034debfd.jpg: 640x640 1 Metaplastic, 17.8ms\n",
            "image 757/835 /content/drive/MyDrive/CerviCure.v2i.yolov8/valid/images/202_02_bmp.rf.4a50d1a540e1784d3f881c526c06c7b6.jpg: 640x640 1 Dyskeratosis in HSIL, 17.6ms\n",
            "image 758/835 /content/drive/MyDrive/CerviCure.v2i.yolov8/valid/images/202_04_bmp.rf.0ba6b3de05b23f98328661daf4529f6d.jpg: 640x640 1 Metaplastic, 19.2ms\n",
            "image 759/835 /content/drive/MyDrive/CerviCure.v2i.yolov8/valid/images/202_05_bmp.rf.7a8c2bcdb9d525f2ee59a06efb13964b.jpg: 640x640 1 Metaplastic, 19.1ms\n",
            "image 760/835 /content/drive/MyDrive/CerviCure.v2i.yolov8/valid/images/202_08_bmp.rf.d6398dbffae55bcff694edd59a6d35fe.jpg: 640x640 1 Metaplastic, 18.5ms\n",
            "image 761/835 /content/drive/MyDrive/CerviCure.v2i.yolov8/valid/images/203_01_bmp.rf.c6d9c0b56e11e725fa600367376ffdcc.jpg: 640x640 1 Mild Koilocytosis, 1 Severe Koilocytosis, 18.2ms\n",
            "image 762/835 /content/drive/MyDrive/CerviCure.v2i.yolov8/valid/images/203_02_bmp.rf.8ffcf6259848af09e100e99107411a76.jpg: 640x640 1 Metaplastic, 18.3ms\n",
            "image 763/835 /content/drive/MyDrive/CerviCure.v2i.yolov8/valid/images/203_03_bmp.rf.48c62035185e16e6f45dad929e210db8.jpg: 640x640 1 Metaplastic, 1 Mild Koilocytosis, 18.2ms\n",
            "image 764/835 /content/drive/MyDrive/CerviCure.v2i.yolov8/valid/images/203_03_bmp.rf.a7792eb2f8d2558e3474b2578ca48591.jpg: 640x640 1 Dyskeratosis in HSIL, 1 Dyskeratosis in SCC, 18.3ms\n",
            "image 765/835 /content/drive/MyDrive/CerviCure.v2i.yolov8/valid/images/203_04_bmp.rf.a2114ec6e07a7266d97b71c1103a2956.jpg: 640x640 1 Severe Koilocytosis, 17.7ms\n",
            "image 766/835 /content/drive/MyDrive/CerviCure.v2i.yolov8/valid/images/204_01_bmp.rf.7e34308d3c2edb925b4b5eb8ea65e276.jpg: 640x640 1 Dyskeratosis in SCC, 18.3ms\n",
            "image 767/835 /content/drive/MyDrive/CerviCure.v2i.yolov8/valid/images/204_01_bmp.rf.9991281b541afe41643431beab596f74.jpg: 640x640 1 Mild Koilocytosis, 17.7ms\n",
            "image 768/835 /content/drive/MyDrive/CerviCure.v2i.yolov8/valid/images/204_02_bmp.rf.0daa4f4b3bb2214b1335ed4207ddaeff.jpg: 640x640 1 Metaplastic, 18.0ms\n",
            "image 769/835 /content/drive/MyDrive/CerviCure.v2i.yolov8/valid/images/205_03_bmp.rf.be2865a1b31f84eab942788c54e7f145.jpg: 640x640 1 Metaplastic, 17.9ms\n",
            "image 770/835 /content/drive/MyDrive/CerviCure.v2i.yolov8/valid/images/207_02_bmp.rf.8f4a64f5ed196f28877eff56adf3916a.jpg: 640x640 1 Metaplastic, 18.2ms\n",
            "image 771/835 /content/drive/MyDrive/CerviCure.v2i.yolov8/valid/images/209_01_bmp.rf.116ec6a7f950a4116d5049890dea7358.jpg: 640x640 1 Metaplastic, 1 Parabasal, 18.8ms\n",
            "image 772/835 /content/drive/MyDrive/CerviCure.v2i.yolov8/valid/images/210_02_bmp.rf.c08564884ba7c775f0b2265e1051bebd.jpg: 640x640 1 Metaplastic, 19.0ms\n",
            "image 773/835 /content/drive/MyDrive/CerviCure.v2i.yolov8/valid/images/210_04_bmp.rf.4fa9b85edce9ac35b7188f47058bf002.jpg: 640x640 1 Metaplastic, 18.1ms\n",
            "image 774/835 /content/drive/MyDrive/CerviCure.v2i.yolov8/valid/images/211_01_bmp.rf.e9953468287116dabb16082edcb496ae.jpg: 640x640 1 Mild Koilocytosis, 18.0ms\n",
            "image 775/835 /content/drive/MyDrive/CerviCure.v2i.yolov8/valid/images/211_03_bmp.rf.fe99ac0c67c4d77aec59db57e4e67e21.jpg: 640x640 1 Dyskeratosis in SCC, 18.2ms\n",
            "image 776/835 /content/drive/MyDrive/CerviCure.v2i.yolov8/valid/images/212_01_bmp.rf.83d4cd966ba49c7e663a30e66ad475c4.jpg: 640x640 1 Mild Koilocytosis, 18.3ms\n",
            "image 777/835 /content/drive/MyDrive/CerviCure.v2i.yolov8/valid/images/212_02_bmp.rf.bf1cc89b5f120a23f53e20ac7d72b2c2.jpg: 640x640 1 Dyskeratosis in SCC, 18.2ms\n",
            "image 778/835 /content/drive/MyDrive/CerviCure.v2i.yolov8/valid/images/213_01_bmp.rf.1a6ee395fe95d8aa653d255668783418.jpg: 640x640 1 Dyskeratosis in SCC, 1 Severe Koilocytosis, 18.8ms\n",
            "image 779/835 /content/drive/MyDrive/CerviCure.v2i.yolov8/valid/images/213_02_bmp.rf.851caa04f1856505503fc335dda93a3d.jpg: 640x640 1 Dyskeratosis in SCC, 18.9ms\n",
            "image 780/835 /content/drive/MyDrive/CerviCure.v2i.yolov8/valid/images/214_04_bmp.rf.6f8269ed41019ff797e6b3547f77d9b0.jpg: 640x640 1 Dyskeratosis in SCC, 18.8ms\n",
            "image 781/835 /content/drive/MyDrive/CerviCure.v2i.yolov8/valid/images/215_01_bmp.rf.03764141bbe710b973251ca6d88de5f2.jpg: 640x640 1 Dyskeratosis in HSIL, 1 Dyskeratosis in SCC, 18.2ms\n",
            "image 782/835 /content/drive/MyDrive/CerviCure.v2i.yolov8/valid/images/215_01_bmp.rf.7f176207b54d5be5e4a25d8d4ddcb91c.jpg: 640x640 1 Severe Koilocytosis, 17.4ms\n",
            "image 783/835 /content/drive/MyDrive/CerviCure.v2i.yolov8/valid/images/216_01_bmp.rf.1f84fff92096695cf8094715c980a4a2.jpg: 640x640 1 Severe Koilocytosis, 17.6ms\n",
            "image 784/835 /content/drive/MyDrive/CerviCure.v2i.yolov8/valid/images/216_01_bmp.rf.37ad03b2cb16c18ebbbf88d3bdc7bb4d.jpg: 640x640 1 Dyskeratosis in HSIL, 18.6ms\n",
            "image 785/835 /content/drive/MyDrive/CerviCure.v2i.yolov8/valid/images/217_01_bmp.rf.7b300f92ebc105758a722240ad92d78b.jpg: 640x640 1 Metaplastic, 18.1ms\n",
            "image 786/835 /content/drive/MyDrive/CerviCure.v2i.yolov8/valid/images/217_02_bmp.rf.cbc735804685252caa37f7140db2cc45.jpg: 640x640 1 Metaplastic, 18.8ms\n",
            "image 787/835 /content/drive/MyDrive/CerviCure.v2i.yolov8/valid/images/217_04_bmp.rf.2af2db15ac734776ec7c893e61c2f6ba.jpg: 640x640 1 Dyskeratosis in HSIL, 18.7ms\n",
            "image 788/835 /content/drive/MyDrive/CerviCure.v2i.yolov8/valid/images/217_04_bmp.rf.52f072e378e51318a9bb1496682a804b.jpg: 640x640 1 Metaplastic, 18.6ms\n",
            "image 789/835 /content/drive/MyDrive/CerviCure.v2i.yolov8/valid/images/217_05_bmp.rf.fe6f009052a5f93c8dec8f43ba0b9652.jpg: 640x640 1 Dyskeratosis in HSIL, 1 Mild Koilocytosis, 18.2ms\n",
            "image 790/835 /content/drive/MyDrive/CerviCure.v2i.yolov8/valid/images/217_08_bmp.rf.12cf85ef8d7b5313f0361dca14c9bc66.jpg: 640x640 1 Metaplastic, 18.1ms\n",
            "image 791/835 /content/drive/MyDrive/CerviCure.v2i.yolov8/valid/images/218_02_bmp.rf.47c1a6a97810653a0c787fe95b4048ca.jpg: 640x640 1 Dyskeratosis in HSIL, 17.6ms\n",
            "image 792/835 /content/drive/MyDrive/CerviCure.v2i.yolov8/valid/images/219_01_bmp.rf.567b1405dd0b6d0b2791d9eb81e17cfa.jpg: 640x640 1 Severe Koilocytosis, 18.1ms\n",
            "image 793/835 /content/drive/MyDrive/CerviCure.v2i.yolov8/valid/images/219_07_bmp.rf.d55d6d3c3644db3644d7724407eebd62.jpg: 640x640 1 Dyskeratosis in HSIL, 18.0ms\n",
            "image 794/835 /content/drive/MyDrive/CerviCure.v2i.yolov8/valid/images/220_01_bmp.rf.184c0eb602eaac9bad4014ec246916e6.jpg: 640x640 1 Mild Koilocytosis, 18.5ms\n",
            "image 795/835 /content/drive/MyDrive/CerviCure.v2i.yolov8/valid/images/220_06_bmp.rf.834b3319ffbd75b6f518574b07694b99.jpg: 640x640 1 Dyskeratosis in HSIL, 19.9ms\n",
            "image 796/835 /content/drive/MyDrive/CerviCure.v2i.yolov8/valid/images/221_01_bmp.rf.5e8f4f8e7f25bc359f22aab487512d59.jpg: 640x640 1 Mild Koilocytosis, 1 Severe Koilocytosis, 18.9ms\n",
            "image 797/835 /content/drive/MyDrive/CerviCure.v2i.yolov8/valid/images/221_01_bmp.rf.95dbc0a3ebcf67538de9f6823086cf6d.jpg: 640x640 1 Dyskeratosis in SCC, 17.9ms\n",
            "image 798/835 /content/drive/MyDrive/CerviCure.v2i.yolov8/valid/images/221_04_bmp.rf.7c0835d0a61c5c8796e4b026602e352b.jpg: 640x640 1 Metaplastic, 19.1ms\n",
            "image 799/835 /content/drive/MyDrive/CerviCure.v2i.yolov8/valid/images/221_07_bmp.rf.bd8c74d71d231d6fb5382f029b1081d7.jpg: 640x640 1 Dyskeratosis in HSIL, 18.8ms\n",
            "image 800/835 /content/drive/MyDrive/CerviCure.v2i.yolov8/valid/images/222_02_bmp.rf.7493d10abe6fbca2c2985bb4dc873ed0.jpg: 640x640 1 Metaplastic, 17.4ms\n",
            "image 801/835 /content/drive/MyDrive/CerviCure.v2i.yolov8/valid/images/224_02_bmp.rf.6ef0bbaf8b0b89d948e92d36936e3e14.jpg: 640x640 1 Metaplastic, 18.2ms\n",
            "image 802/835 /content/drive/MyDrive/CerviCure.v2i.yolov8/valid/images/225_02_bmp.rf.08425121be8e52d0624df75634259d3a.jpg: 640x640 1 Severe Koilocytosis, 18.9ms\n",
            "image 803/835 /content/drive/MyDrive/CerviCure.v2i.yolov8/valid/images/225_02_bmp.rf.f27dfcb0b4c13ea655a8d16a46bbf62e.jpg: 640x640 1 Metaplastic, 18.5ms\n",
            "image 804/835 /content/drive/MyDrive/CerviCure.v2i.yolov8/valid/images/225_04_bmp.rf.57b5e31d6b40eab8f9ef7adebce58620.jpg: 640x640 1 Metaplastic, 18.3ms\n",
            "image 805/835 /content/drive/MyDrive/CerviCure.v2i.yolov8/valid/images/227_01_bmp.rf.15624161dff0545abae0469d77f1b0ea.jpg: 640x640 1 Mild Koilocytosis, 18.3ms\n",
            "image 806/835 /content/drive/MyDrive/CerviCure.v2i.yolov8/valid/images/227_01_bmp.rf.68818033fc3b8fd11298779cbb2f6f82.jpg: 640x640 1 Metaplastic, 18.6ms\n",
            "image 807/835 /content/drive/MyDrive/CerviCure.v2i.yolov8/valid/images/227_04_bmp.rf.7a1dfaa69bfdca122fc8e46e370038e0.jpg: 640x640 1 Metaplastic, 19.2ms\n",
            "image 808/835 /content/drive/MyDrive/CerviCure.v2i.yolov8/valid/images/228_01_bmp.rf.558f9e050e7939c86496bc9e574780f8.jpg: 640x640 1 Metaplastic, 18.3ms\n",
            "image 809/835 /content/drive/MyDrive/CerviCure.v2i.yolov8/valid/images/229_01_bmp.rf.0267e35e3f2e8520ad9aa98a34a5e655.jpg: 640x640 1 Severe Koilocytosis, 17.3ms\n",
            "image 810/835 /content/drive/MyDrive/CerviCure.v2i.yolov8/valid/images/230_02_bmp.rf.02ab730748a465cafcc46439030048b1.jpg: 640x640 1 Metaplastic, 18.3ms\n",
            "image 811/835 /content/drive/MyDrive/CerviCure.v2i.yolov8/valid/images/234_02_bmp.rf.24bf36d39f82d2f1fc5362ea28bde5f7.jpg: 640x640 1 Metaplastic, 19.3ms\n",
            "image 812/835 /content/drive/MyDrive/CerviCure.v2i.yolov8/valid/images/236_01_bmp.rf.5ca45943c8fe777a650ccd74fdac9e23.jpg: 640x640 1 Metaplastic, 1 Mild Koilocytosis, 1 Severe Koilocytosis, 18.7ms\n",
            "image 813/835 /content/drive/MyDrive/CerviCure.v2i.yolov8/valid/images/236_02_bmp.rf.a09b07aa8bbf8e2eb354510cda47fbad.jpg: 640x640 1 Metaplastic, 18.3ms\n",
            "image 814/835 /content/drive/MyDrive/CerviCure.v2i.yolov8/valid/images/237_01_bmp.rf.75bbef6d030487b3ffcb0fa868ed19d1.jpg: 640x640 1 Metaplastic, 18.1ms\n",
            "image 815/835 /content/drive/MyDrive/CerviCure.v2i.yolov8/valid/images/237_01_bmp.rf.77b59c8ef485097bf61f6e3b88f63c8b.jpg: 640x640 1 Mild Koilocytosis, 1 Severe Koilocytosis, 18.8ms\n",
            "image 816/835 /content/drive/MyDrive/CerviCure.v2i.yolov8/valid/images/238_01_bmp.rf.3bd8fb6c4112b0b09c46504618a50cf1.jpg: 640x640 1 Metaplastic, 18.5ms\n",
            "image 817/835 /content/drive/MyDrive/CerviCure.v2i.yolov8/valid/images/238_02_bmp.rf.6e01b084d5dc4caaea1d73716f5c39d2.jpg: 640x640 1 Metaplastic, 17.8ms\n",
            "image 818/835 /content/drive/MyDrive/CerviCure.v2i.yolov8/valid/images/239_02_bmp.rf.625b2876c02f10055435fc5acecbab9e.jpg: 640x640 1 Metaplastic, 17.5ms\n",
            "image 819/835 /content/drive/MyDrive/CerviCure.v2i.yolov8/valid/images/239_05_bmp.rf.c104bd51678e88c000ee4d895faf74c2.jpg: 640x640 1 Metaplastic, 19.3ms\n",
            "image 820/835 /content/drive/MyDrive/CerviCure.v2i.yolov8/valid/images/240_01_bmp.rf.a8185e442241471b88f7ec7977862971.jpg: 640x640 1 Metaplastic, 18.0ms\n",
            "image 821/835 /content/drive/MyDrive/CerviCure.v2i.yolov8/valid/images/242_01_bmp.rf.d3b3483a2b9ec09b3b0f9074663755e0.jpg: 640x640 1 Metaplastic, 19.2ms\n",
            "image 822/835 /content/drive/MyDrive/CerviCure.v2i.yolov8/valid/images/242_02_bmp.rf.a7edfaae6da6f96dcace97dbd960eb6e.jpg: 640x640 1 Metaplastic, 18.7ms\n",
            "image 823/835 /content/drive/MyDrive/CerviCure.v2i.yolov8/valid/images/249_02_bmp.rf.0266fb7e6eb3fd666d40656d23a7c5e4.jpg: 640x640 1 Metaplastic, 18.0ms\n",
            "image 824/835 /content/drive/MyDrive/CerviCure.v2i.yolov8/valid/images/250_01_bmp.rf.ad38addb53bc605d0e07194094e52425.jpg: 640x640 1 Metaplastic, 18.6ms\n",
            "image 825/835 /content/drive/MyDrive/CerviCure.v2i.yolov8/valid/images/253_06_bmp.rf.017ffc1caf542db6cacd3c91d770e7cc.jpg: 640x640 1 Metaplastic, 18.1ms\n",
            "image 826/835 /content/drive/MyDrive/CerviCure.v2i.yolov8/valid/images/255_02_bmp.rf.84ebda7fd5dc68eb363bf5848dbab613.jpg: 640x640 1 Metaplastic, 17.6ms\n",
            "image 827/835 /content/drive/MyDrive/CerviCure.v2i.yolov8/valid/images/256_02_bmp.rf.9871b71ec10e3e901ddcda9d22af4695.jpg: 640x640 1 Metaplastic, 18.6ms\n",
            "image 828/835 /content/drive/MyDrive/CerviCure.v2i.yolov8/valid/images/257_01_bmp.rf.e2bff78b49f610aacaac675b788424d3.jpg: 640x640 1 Metaplastic, 18.1ms\n",
            "image 829/835 /content/drive/MyDrive/CerviCure.v2i.yolov8/valid/images/257_02_bmp.rf.ac2dd94b1dd4918c3e96d28fbc119ab0.jpg: 640x640 1 Metaplastic, 19.2ms\n",
            "image 830/835 /content/drive/MyDrive/CerviCure.v2i.yolov8/valid/images/260_02_bmp.rf.99df281dd5e0749e82bc4e3dd8e030a7.jpg: 640x640 1 Metaplastic, 18.2ms\n",
            "image 831/835 /content/drive/MyDrive/CerviCure.v2i.yolov8/valid/images/264_09_bmp.rf.f66b66a8e670f85a9a1d6b7fcdd96a6c.jpg: 640x640 1 Metaplastic, 19.2ms\n",
            "image 832/835 /content/drive/MyDrive/CerviCure.v2i.yolov8/valid/images/265_02_bmp.rf.b02d43eeda99431ba23b9b1d1ad0f7b2.jpg: 640x640 1 Metaplastic, 18.6ms\n",
            "image 833/835 /content/drive/MyDrive/CerviCure.v2i.yolov8/valid/images/267_01_bmp.rf.7c988797009a5949857fc6f8499010b4.jpg: 640x640 1 Metaplastic, 17.4ms\n",
            "image 834/835 /content/drive/MyDrive/CerviCure.v2i.yolov8/valid/images/267_02_bmp.rf.694911c2c7e504fb67f1fc7a28e2adad.jpg: 640x640 1 Metaplastic, 18.3ms\n",
            "image 835/835 /content/drive/MyDrive/CerviCure.v2i.yolov8/valid/images/271_03_bmp.rf.2722655d65845dce51dcb3fe5cda343a.jpg: 640x640 1 Metaplastic, 19.3ms\n",
            "Speed: 2.6ms preprocess, 18.8ms inference, 2.0ms postprocess per image at shape (1, 3, 640, 640)\n",
            "Results saved to \u001b[1mruns/detect/predict\u001b[0m\n",
            "💡 Learn more at https://docs.ultralytics.com/modes/predict\n"
          ]
        }
      ],
      "source": [
        "%cd /content/drive/MyDrive/CerviCure.v2i.yolov8/train\n",
        "!yolo task=detect mode=predict model= /content/drive/MyDrive/CerviCure.v2i.yolov8/runs/detect/train8/weights/best.pt source= /content/drive/MyDrive/CerviCure.v2i.yolov8/valid/images save=True\n"
      ]
    },
    {
      "cell_type": "code",
      "source": [],
      "metadata": {
        "colab": {
          "base_uri": "https://localhost:8080/"
        },
        "id": "79aRhugJ_0g8",
        "outputId": "11678616-5dd8-4561-9845-ec0b8631be8c"
      },
      "execution_count": null,
      "outputs": [
        {
          "output_type": "stream",
          "name": "stdout",
          "text": [
            "Number of objects detected in Raw_Beans_20240624_155951.127_sub_image_1.jpg: 57\n",
            "Number of objects detected in Raw_Beans_20240624_155951.127_sub_image_2.jpg: 78\n",
            "Number of objects detected in Raw_Beans_20240624_155951.127_sub_image_3.jpg: 85\n",
            "Number of objects detected in Raw_Beans_20240624_155951.127_sub_image_4.jpg: 57\n",
            "Number of objects detected in Raw_Beans_20240624_155951.127_sub_image_5.jpg: 64\n",
            "Number of objects detected in Raw_Beans_20240624_155951.127_sub_image_6.jpg: 79\n",
            "Number of objects detected in Raw_Beans_20240624_155951.127_sub_image_7.jpg: 85\n",
            "Number of objects detected in Raw_Beans_20240624_155951.127_sub_image_8.jpg: 64\n",
            "Number of objects detected in Raw_Beans_20240624_155951.127_sub_image_9.jpg: 53\n",
            "Number of objects detected in Raw_Beans_20240624_155951.127_sub_image_11.jpg: 73\n",
            "Number of objects detected in Raw_Beans_20240624_155951.127_sub_image_12.jpg: 67\n",
            "Number of objects detected in Raw_Beans_20240624_155951.127_sub_image_10.jpg: 70\n",
            "Number of objects detected in output_20240802_163343_Raw_Beans_20240624_155951.127_sub_image_1.jpg: 52\n",
            "Number of objects detected in output_20240802_163343_Raw_Beans_20240624_155951.127_sub_image_2.jpg: 66\n",
            "Number of objects detected in output_20240802_163343_Raw_Beans_20240624_155951.127_sub_image_3.jpg: 74\n",
            "Number of objects detected in output_20240802_163343_Raw_Beans_20240624_155951.127_sub_image_4.jpg: 53\n",
            "Number of objects detected in output_20240802_163343_Raw_Beans_20240624_155951.127_sub_image_5.jpg: 59\n",
            "Number of objects detected in output_20240802_163343_Raw_Beans_20240624_155951.127_sub_image_6.jpg: 58\n",
            "Number of objects detected in output_20240802_163343_Raw_Beans_20240624_155951.127_sub_image_7.jpg: 68\n",
            "Number of objects detected in output_20240802_163343_Raw_Beans_20240624_155951.127_sub_image_8.jpg: 54\n",
            "Number of objects detected in output_20240802_163343_Raw_Beans_20240624_155951.127_sub_image_9.jpg: 50\n",
            "Number of objects detected in output_20240802_163343_Raw_Beans_20240624_155951.127_sub_image_11.jpg: 57\n",
            "Number of objects detected in output_20240802_163343_Raw_Beans_20240624_155951.127_sub_image_12.jpg: 58\n",
            "Number of objects detected in output_20240802_163343_Raw_Beans_20240624_155951.127_sub_image_10.jpg: 62\n",
            "Number of objects detected in output_20240802_163343_output_20240802_162905_Raw_Beans_20240624_155951.127_sub_image_1.jpg: 53\n",
            "Number of objects detected in output_20240802_163343_output_20240802_162905_Raw_Beans_20240624_155951.127_sub_image_2.jpg: 66\n",
            "Number of objects detected in output_20240802_163343_output_20240802_162905_Raw_Beans_20240624_155951.127_sub_image_3.jpg: 74\n",
            "Number of objects detected in output_20240802_163343_output_20240802_162905_Raw_Beans_20240624_155951.127_sub_image_4.jpg: 52\n",
            "Number of objects detected in output_20240802_163343_output_20240802_162905_Raw_Beans_20240624_155951.127_sub_image_5.jpg: 56\n",
            "Number of objects detected in output_20240802_163343_output_20240802_162905_Raw_Beans_20240624_155951.127_sub_image_6.jpg: 58\n",
            "Number of objects detected in output_20240802_163343_output_20240802_162905_Raw_Beans_20240624_155951.127_sub_image_7.jpg: 69\n",
            "Number of objects detected in output_20240802_163343_output_20240802_162905_Raw_Beans_20240624_155951.127_sub_image_8.jpg: 50\n",
            "Number of objects detected in output_20240802_163343_output_20240802_162905_Raw_Beans_20240624_155951.127_sub_image_9.jpg: 51\n",
            "Number of objects detected in output_20240802_163343_output_20240802_162905_Raw_Beans_20240624_155951.127_sub_image_11.jpg: 52\n",
            "Number of objects detected in output_20240802_163343_output_20240802_162905_Raw_Beans_20240624_155951.127_sub_image_12.jpg: 58\n",
            "Number of objects detected in output_20240802_163343_output_20240802_162905_Raw_Beans_20240624_155951.127_sub_image_10.jpg: 61\n"
          ]
        }
      ]
    },
    {
      "cell_type": "code",
      "source": [],
      "metadata": {
        "id": "ezCqNqlEJq0O"
      },
      "execution_count": null,
      "outputs": []
    }
  ],
  "metadata": {
    "accelerator": "GPU",
    "colab": {
      "gpuType": "T4",
      "provenance": [],
      "machine_shape": "hm"
    },
    "kernelspec": {
      "display_name": "Python 3",
      "name": "python3"
    },
    "language_info": {
      "name": "python"
    }
  },
  "nbformat": 4,
  "nbformat_minor": 0
}